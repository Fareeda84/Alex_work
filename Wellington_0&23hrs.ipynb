{
 "cells": [
  {
   "cell_type": "markdown",
   "metadata": {},
   "source": [
    "# Predictions of likelihood of EPEs for Wellington region for 0 and 23 hours\n",
    "This notebook is about the modelling of EPEs for Wellington region. ERA5 reanalysis data has been taken for 0 and 23 hours for 3 climate variables temp,\n",
    "surface pressure and total column water"
   ]
  },
  {
   "cell_type": "code",
   "execution_count": null,
   "metadata": {},
   "outputs": [],
   "source": [
    "# importing libraries \n",
    "\n",
    "import pandas as pd\n",
    "import numpy as np\n",
    "import matplotlib.pyplot as plt\n",
    "import xarray as xr\n",
    "from pathlib import Path\n",
    "import xlrd\n",
    "import seaborn as sns\n",
    "import imblearn\n",
    "\n",
    "from sklearn.linear_model import LogisticRegression\n",
    "from sklearn.ensemble import RandomForestClassifier\n",
    "from sklearn.model_selection import train_test_split, cross_val_score, KFold, GridSearchCV\n",
    "from sklearn.metrics import confusion_matrix, classification_report, f1_score, recall_score, accuracy_score, roc_auc_score"
   ]
  },
  {
   "cell_type": "code",
   "execution_count": 3,
   "metadata": {},
   "outputs": [
    {
     "name": "stdout",
     "output_type": "stream",
     "text": [
      "sklearn version 0.24.0\n"
     ]
    }
   ],
   "source": [
    "import sklearn\n",
    "print('sklearn version {}'.format(sklearn.__version__))"
   ]
  },
  {
   "cell_type": "markdown",
   "metadata": {},
   "source": [
    "# Reading data"
   ]
  },
  {
   "cell_type": "code",
   "execution_count": 2,
   "metadata": {},
   "outputs": [],
   "source": [
    "# Function to read array dataset and convert it into dataframe\n",
    "\n",
    "def get_data(file):\n",
    "    # path of different variables data for Wellington region \n",
    "    file_path = '/mnt/temp/Projects/Emergence/Data_Keep/epe/ERA5_1d/' + file + '/average/Wellington_1d.nc'\n",
    "    # Reading array dataset\n",
    "    df = xr.open_dataset(file_path)\n",
    "    # Converting array dataset into dataframe\n",
    "    data = df.to_dataframe()\n",
    "    \n",
    "    return data\n",
    "   "
   ]
  },
  {
   "cell_type": "code",
   "execution_count": 3,
   "metadata": {},
   "outputs": [
    {
     "data": {
      "text/html": [
       "<div>\n",
       "<style scoped>\n",
       "    .dataframe tbody tr th:only-of-type {\n",
       "        vertical-align: middle;\n",
       "    }\n",
       "\n",
       "    .dataframe tbody tr th {\n",
       "        vertical-align: top;\n",
       "    }\n",
       "\n",
       "    .dataframe thead th {\n",
       "        text-align: right;\n",
       "    }\n",
       "</style>\n",
       "<table border=\"1\" class=\"dataframe\">\n",
       "  <thead>\n",
       "    <tr style=\"text-align: right;\">\n",
       "      <th></th>\n",
       "      <th>temp</th>\n",
       "    </tr>\n",
       "    <tr>\n",
       "      <th>time</th>\n",
       "      <th></th>\n",
       "    </tr>\n",
       "  </thead>\n",
       "  <tbody>\n",
       "    <tr>\n",
       "      <th>1996-01-01 00:00:00</th>\n",
       "      <td>290.853851</td>\n",
       "    </tr>\n",
       "    <tr>\n",
       "      <th>1996-01-01 01:00:00</th>\n",
       "      <td>291.417694</td>\n",
       "    </tr>\n",
       "    <tr>\n",
       "      <th>1996-01-01 02:00:00</th>\n",
       "      <td>292.178162</td>\n",
       "    </tr>\n",
       "    <tr>\n",
       "      <th>1996-01-01 03:00:00</th>\n",
       "      <td>292.575165</td>\n",
       "    </tr>\n",
       "    <tr>\n",
       "      <th>1996-01-01 04:00:00</th>\n",
       "      <td>292.863342</td>\n",
       "    </tr>\n",
       "    <tr>\n",
       "      <th>...</th>\n",
       "      <td>...</td>\n",
       "    </tr>\n",
       "    <tr>\n",
       "      <th>2020-04-30 19:00:00</th>\n",
       "      <td>285.855133</td>\n",
       "    </tr>\n",
       "    <tr>\n",
       "      <th>2020-04-30 20:00:00</th>\n",
       "      <td>287.536957</td>\n",
       "    </tr>\n",
       "    <tr>\n",
       "      <th>2020-04-30 21:00:00</th>\n",
       "      <td>287.438690</td>\n",
       "    </tr>\n",
       "    <tr>\n",
       "      <th>2020-04-30 22:00:00</th>\n",
       "      <td>289.395416</td>\n",
       "    </tr>\n",
       "    <tr>\n",
       "      <th>2020-04-30 23:00:00</th>\n",
       "      <td>289.120880</td>\n",
       "    </tr>\n",
       "  </tbody>\n",
       "</table>\n",
       "<p>213288 rows × 1 columns</p>\n",
       "</div>"
      ],
      "text/plain": [
       "                           temp\n",
       "time                           \n",
       "1996-01-01 00:00:00  290.853851\n",
       "1996-01-01 01:00:00  291.417694\n",
       "1996-01-01 02:00:00  292.178162\n",
       "1996-01-01 03:00:00  292.575165\n",
       "1996-01-01 04:00:00  292.863342\n",
       "...                         ...\n",
       "2020-04-30 19:00:00  285.855133\n",
       "2020-04-30 20:00:00  287.536957\n",
       "2020-04-30 21:00:00  287.438690\n",
       "2020-04-30 22:00:00  289.395416\n",
       "2020-04-30 23:00:00  289.120880\n",
       "\n",
       "[213288 rows x 1 columns]"
      ]
     },
     "execution_count": 3,
     "metadata": {},
     "output_type": "execute_result"
    }
   ],
   "source": [
    "# To get temperature data and change it's column name to 'temp' \n",
    "data_t = get_data('2T')\n",
    "df_t = data_t.rename(columns={'data':'temp'})\n",
    "df_t"
   ]
  },
  {
   "cell_type": "code",
   "execution_count": 4,
   "metadata": {},
   "outputs": [],
   "source": [
    "# To get surface pressure data and change it's column name to 'sp' \n",
    "data_s = get_data('SP')\n",
    "df_sp = data_s.rename(columns={'data':'sp'})"
   ]
  },
  {
   "cell_type": "code",
   "execution_count": 5,
   "metadata": {},
   "outputs": [],
   "source": [
    "# To get total column water data and change it's column name to 'tcw'\n",
    "data_w = get_data('TCW')\n",
    "df_tcw = data_w.rename(columns={'data':'tcw'})"
   ]
  },
  {
   "cell_type": "code",
   "execution_count": 6,
   "metadata": {},
   "outputs": [
    {
     "data": {
      "text/html": [
       "<div>\n",
       "<style scoped>\n",
       "    .dataframe tbody tr th:only-of-type {\n",
       "        vertical-align: middle;\n",
       "    }\n",
       "\n",
       "    .dataframe tbody tr th {\n",
       "        vertical-align: top;\n",
       "    }\n",
       "\n",
       "    .dataframe thead th {\n",
       "        text-align: right;\n",
       "    }\n",
       "</style>\n",
       "<table border=\"1\" class=\"dataframe\">\n",
       "  <thead>\n",
       "    <tr style=\"text-align: right;\">\n",
       "      <th></th>\n",
       "      <th>temp</th>\n",
       "      <th>sp</th>\n",
       "      <th>tcw</th>\n",
       "    </tr>\n",
       "    <tr>\n",
       "      <th>time</th>\n",
       "      <th></th>\n",
       "      <th></th>\n",
       "      <th></th>\n",
       "    </tr>\n",
       "  </thead>\n",
       "  <tbody>\n",
       "    <tr>\n",
       "      <th>1996-01-01 00:00:00</th>\n",
       "      <td>290.853851</td>\n",
       "      <td>100175.007812</td>\n",
       "      <td>16.728743</td>\n",
       "    </tr>\n",
       "    <tr>\n",
       "      <th>1996-01-01 01:00:00</th>\n",
       "      <td>291.417694</td>\n",
       "      <td>100133.265625</td>\n",
       "      <td>17.180902</td>\n",
       "    </tr>\n",
       "    <tr>\n",
       "      <th>1996-01-01 02:00:00</th>\n",
       "      <td>292.178162</td>\n",
       "      <td>100123.757812</td>\n",
       "      <td>17.231808</td>\n",
       "    </tr>\n",
       "    <tr>\n",
       "      <th>1996-01-01 03:00:00</th>\n",
       "      <td>292.575165</td>\n",
       "      <td>100070.734375</td>\n",
       "      <td>16.735910</td>\n",
       "    </tr>\n",
       "    <tr>\n",
       "      <th>1996-01-01 04:00:00</th>\n",
       "      <td>292.863342</td>\n",
       "      <td>100008.296875</td>\n",
       "      <td>16.049551</td>\n",
       "    </tr>\n",
       "    <tr>\n",
       "      <th>...</th>\n",
       "      <td>...</td>\n",
       "      <td>...</td>\n",
       "      <td>...</td>\n",
       "    </tr>\n",
       "    <tr>\n",
       "      <th>2020-04-30 19:00:00</th>\n",
       "      <td>285.855133</td>\n",
       "      <td>99768.148438</td>\n",
       "      <td>7.431450</td>\n",
       "    </tr>\n",
       "    <tr>\n",
       "      <th>2020-04-30 20:00:00</th>\n",
       "      <td>287.536957</td>\n",
       "      <td>99792.570312</td>\n",
       "      <td>7.424390</td>\n",
       "    </tr>\n",
       "    <tr>\n",
       "      <th>2020-04-30 21:00:00</th>\n",
       "      <td>287.438690</td>\n",
       "      <td>99826.421875</td>\n",
       "      <td>7.393387</td>\n",
       "    </tr>\n",
       "    <tr>\n",
       "      <th>2020-04-30 22:00:00</th>\n",
       "      <td>289.395416</td>\n",
       "      <td>99855.414062</td>\n",
       "      <td>7.540514</td>\n",
       "    </tr>\n",
       "    <tr>\n",
       "      <th>2020-04-30 23:00:00</th>\n",
       "      <td>289.120880</td>\n",
       "      <td>99895.953125</td>\n",
       "      <td>7.655159</td>\n",
       "    </tr>\n",
       "  </tbody>\n",
       "</table>\n",
       "<p>213288 rows × 3 columns</p>\n",
       "</div>"
      ],
      "text/plain": [
       "                           temp             sp        tcw\n",
       "time                                                     \n",
       "1996-01-01 00:00:00  290.853851  100175.007812  16.728743\n",
       "1996-01-01 01:00:00  291.417694  100133.265625  17.180902\n",
       "1996-01-01 02:00:00  292.178162  100123.757812  17.231808\n",
       "1996-01-01 03:00:00  292.575165  100070.734375  16.735910\n",
       "1996-01-01 04:00:00  292.863342  100008.296875  16.049551\n",
       "...                         ...            ...        ...\n",
       "2020-04-30 19:00:00  285.855133   99768.148438   7.431450\n",
       "2020-04-30 20:00:00  287.536957   99792.570312   7.424390\n",
       "2020-04-30 21:00:00  287.438690   99826.421875   7.393387\n",
       "2020-04-30 22:00:00  289.395416   99855.414062   7.540514\n",
       "2020-04-30 23:00:00  289.120880   99895.953125   7.655159\n",
       "\n",
       "[213288 rows x 3 columns]"
      ]
     },
     "execution_count": 6,
     "metadata": {},
     "output_type": "execute_result"
    }
   ],
   "source": [
    "# combine 3 dataframes\n",
    "frames = [df_t, df_sp, df_tcw]\n",
    "new_data = pd.concat(frames, axis=1, sort=False)\n",
    "new_data"
   ]
  },
  {
   "cell_type": "markdown",
   "metadata": {},
   "source": [
    "# DataFrames"
   ]
  },
  {
   "cell_type": "code",
   "execution_count": 2,
   "metadata": {},
   "outputs": [
    {
     "name": "stdout",
     "output_type": "stream",
     "text": [
      "Collecting package metadata (current_repodata.json): done\n",
      "Solving environment: done\n",
      "\n",
      "# All requested packages already installed.\n",
      "\n",
      "\n",
      "Note: you may need to restart the kernel to use updated packages.\n"
     ]
    }
   ],
   "source": [
    "conda install xlrd"
   ]
  },
  {
   "cell_type": "markdown",
   "metadata": {},
   "source": [
    "## Extreme dataframe"
   ]
  },
  {
   "cell_type": "code",
   "execution_count": 3,
   "metadata": {},
   "outputs": [
    {
     "data": {
      "text/html": [
       "<div>\n",
       "<style scoped>\n",
       "    .dataframe tbody tr th:only-of-type {\n",
       "        vertical-align: middle;\n",
       "    }\n",
       "\n",
       "    .dataframe tbody tr th {\n",
       "        vertical-align: top;\n",
       "    }\n",
       "\n",
       "    .dataframe thead th {\n",
       "        text-align: right;\n",
       "    }\n",
       "</style>\n",
       "<table border=\"1\" class=\"dataframe\">\n",
       "  <thead>\n",
       "    <tr style=\"text-align: right;\">\n",
       "      <th></th>\n",
       "      <th>Event date</th>\n",
       "      <th>HWE Event Title (black) / MetService Event Title (red)</th>\n",
       "      <th>Source</th>\n",
       "      <th>Unnamed: 3</th>\n",
       "      <th>Regional Council region(s) affected</th>\n",
       "      <th>Unnamed: 5</th>\n",
       "      <th>Unnamed: 6</th>\n",
       "      <th>Unnamed: 7</th>\n",
       "      <th>Unnamed: 8</th>\n",
       "      <th>Unnamed: 9</th>\n",
       "      <th>...</th>\n",
       "      <th>Unnamed: 25</th>\n",
       "      <th>Unnamed: 26</th>\n",
       "      <th>Unnamed: 27</th>\n",
       "      <th>Unnamed: 28</th>\n",
       "      <th>Unnamed: 29</th>\n",
       "      <th>Unnamed: 30</th>\n",
       "      <th>Unnamed: 31</th>\n",
       "      <th>Unnamed: 32</th>\n",
       "      <th>Unnamed: 33</th>\n",
       "      <th>Unnamed: 34</th>\n",
       "    </tr>\n",
       "  </thead>\n",
       "  <tbody>\n",
       "    <tr>\n",
       "      <th>0</th>\n",
       "      <td>NaT</td>\n",
       "      <td>NaN</td>\n",
       "      <td>NIWA</td>\n",
       "      <td>MetService</td>\n",
       "      <td>Nld</td>\n",
       "      <td>Ald</td>\n",
       "      <td>Wko</td>\n",
       "      <td>Bop</td>\n",
       "      <td>Gsb</td>\n",
       "      <td>Hby</td>\n",
       "      <td>...</td>\n",
       "      <td>NaN</td>\n",
       "      <td>NaN</td>\n",
       "      <td>NaN</td>\n",
       "      <td>NaN</td>\n",
       "      <td>NaN</td>\n",
       "      <td>NaN</td>\n",
       "      <td>NaN</td>\n",
       "      <td>NaN</td>\n",
       "      <td>NaN</td>\n",
       "      <td>NaN</td>\n",
       "    </tr>\n",
       "    <tr>\n",
       "      <th>1</th>\n",
       "      <td>1996-03-31</td>\n",
       "      <td>March 1996 Eastern North Island Ex-Tropical Cy...</td>\n",
       "      <td>1</td>\n",
       "      <td>NaN</td>\n",
       "      <td>NaN</td>\n",
       "      <td>NaN</td>\n",
       "      <td>NaN</td>\n",
       "      <td>NaN</td>\n",
       "      <td>3R</td>\n",
       "      <td>3R;3W</td>\n",
       "      <td>...</td>\n",
       "      <td>NaN</td>\n",
       "      <td>NaN</td>\n",
       "      <td>NaN</td>\n",
       "      <td>NaN</td>\n",
       "      <td>NaN</td>\n",
       "      <td>NaN</td>\n",
       "      <td>NaN</td>\n",
       "      <td>NaN</td>\n",
       "      <td>NaN</td>\n",
       "      <td>NaN</td>\n",
       "    </tr>\n",
       "    <tr>\n",
       "      <th>2</th>\n",
       "      <td>1996-07-01</td>\n",
       "      <td>July 1996 South Island Snowfall</td>\n",
       "      <td>1</td>\n",
       "      <td>NaN</td>\n",
       "      <td>NaN</td>\n",
       "      <td>NaN</td>\n",
       "      <td>NaN</td>\n",
       "      <td>NaN</td>\n",
       "      <td>NaN</td>\n",
       "      <td>1S</td>\n",
       "      <td>...</td>\n",
       "      <td>NaN</td>\n",
       "      <td>NaN</td>\n",
       "      <td>NaN</td>\n",
       "      <td>NaN</td>\n",
       "      <td>NaN</td>\n",
       "      <td>NaN</td>\n",
       "      <td>NaN</td>\n",
       "      <td>NaN</td>\n",
       "      <td>NaN</td>\n",
       "      <td>NaN</td>\n",
       "    </tr>\n",
       "    <tr>\n",
       "      <th>3</th>\n",
       "      <td>1996-07-11</td>\n",
       "      <td>July 1996 Northland Auckland Rainfall</td>\n",
       "      <td>NaN</td>\n",
       "      <td>1</td>\n",
       "      <td>3R</td>\n",
       "      <td>3R</td>\n",
       "      <td>NaN</td>\n",
       "      <td>NaN</td>\n",
       "      <td>NaN</td>\n",
       "      <td>NaN</td>\n",
       "      <td>...</td>\n",
       "      <td>NaN</td>\n",
       "      <td>NaN</td>\n",
       "      <td>NaN</td>\n",
       "      <td>NaN</td>\n",
       "      <td>NaN</td>\n",
       "      <td>NaN</td>\n",
       "      <td>NaN</td>\n",
       "      <td>NaN</td>\n",
       "      <td>NaN</td>\n",
       "      <td>NaN</td>\n",
       "    </tr>\n",
       "    <tr>\n",
       "      <th>4</th>\n",
       "      <td>1996-07-14</td>\n",
       "      <td>July 1996 Waikato Flooding</td>\n",
       "      <td>1</td>\n",
       "      <td>NaN</td>\n",
       "      <td>NaN</td>\n",
       "      <td>NaN</td>\n",
       "      <td>3R</td>\n",
       "      <td>NaN</td>\n",
       "      <td>NaN</td>\n",
       "      <td>NaN</td>\n",
       "      <td>...</td>\n",
       "      <td>NaN</td>\n",
       "      <td>NaN</td>\n",
       "      <td>NaN</td>\n",
       "      <td>NaN</td>\n",
       "      <td>NaN</td>\n",
       "      <td>NaN</td>\n",
       "      <td>NaN</td>\n",
       "      <td>NaN</td>\n",
       "      <td>NaN</td>\n",
       "      <td>NaN</td>\n",
       "    </tr>\n",
       "    <tr>\n",
       "      <th>...</th>\n",
       "      <td>...</td>\n",
       "      <td>...</td>\n",
       "      <td>...</td>\n",
       "      <td>...</td>\n",
       "      <td>...</td>\n",
       "      <td>...</td>\n",
       "      <td>...</td>\n",
       "      <td>...</td>\n",
       "      <td>...</td>\n",
       "      <td>...</td>\n",
       "      <td>...</td>\n",
       "      <td>...</td>\n",
       "      <td>...</td>\n",
       "      <td>...</td>\n",
       "      <td>...</td>\n",
       "      <td>...</td>\n",
       "      <td>...</td>\n",
       "      <td>...</td>\n",
       "      <td>...</td>\n",
       "      <td>...</td>\n",
       "      <td>...</td>\n",
       "    </tr>\n",
       "    <tr>\n",
       "      <th>1299</th>\n",
       "      <td>NaT</td>\n",
       "      <td>NaN</td>\n",
       "      <td>NaN</td>\n",
       "      <td>NaN</td>\n",
       "      <td>NaN</td>\n",
       "      <td>NaN</td>\n",
       "      <td>NaN</td>\n",
       "      <td>NaN</td>\n",
       "      <td>NaN</td>\n",
       "      <td>NaN</td>\n",
       "      <td>...</td>\n",
       "      <td>NaN</td>\n",
       "      <td>NaN</td>\n",
       "      <td>NaN</td>\n",
       "      <td>NaN</td>\n",
       "      <td>NaN</td>\n",
       "      <td>NaN</td>\n",
       "      <td>NaN</td>\n",
       "      <td>NaN</td>\n",
       "      <td>NaN</td>\n",
       "      <td>NaN</td>\n",
       "    </tr>\n",
       "    <tr>\n",
       "      <th>1300</th>\n",
       "      <td>NaT</td>\n",
       "      <td>NaN</td>\n",
       "      <td>NaN</td>\n",
       "      <td>NaN</td>\n",
       "      <td>NaN</td>\n",
       "      <td>NaN</td>\n",
       "      <td>NaN</td>\n",
       "      <td>NaN</td>\n",
       "      <td>NaN</td>\n",
       "      <td>NaN</td>\n",
       "      <td>...</td>\n",
       "      <td>NaN</td>\n",
       "      <td>NaN</td>\n",
       "      <td>NaN</td>\n",
       "      <td>NaN</td>\n",
       "      <td>NaN</td>\n",
       "      <td>NaN</td>\n",
       "      <td>NaN</td>\n",
       "      <td>NaN</td>\n",
       "      <td>NaN</td>\n",
       "      <td>NaN</td>\n",
       "    </tr>\n",
       "    <tr>\n",
       "      <th>1301</th>\n",
       "      <td>NaT</td>\n",
       "      <td>NaN</td>\n",
       "      <td>NaN</td>\n",
       "      <td>NaN</td>\n",
       "      <td>NaN</td>\n",
       "      <td>NaN</td>\n",
       "      <td>NaN</td>\n",
       "      <td>NaN</td>\n",
       "      <td>NaN</td>\n",
       "      <td>NaN</td>\n",
       "      <td>...</td>\n",
       "      <td>NaN</td>\n",
       "      <td>NaN</td>\n",
       "      <td>NaN</td>\n",
       "      <td>NaN</td>\n",
       "      <td>NaN</td>\n",
       "      <td>NaN</td>\n",
       "      <td>NaN</td>\n",
       "      <td>NaN</td>\n",
       "      <td>NaN</td>\n",
       "      <td>NaN</td>\n",
       "    </tr>\n",
       "    <tr>\n",
       "      <th>1302</th>\n",
       "      <td>NaT</td>\n",
       "      <td>NaN</td>\n",
       "      <td>NaN</td>\n",
       "      <td>NaN</td>\n",
       "      <td>NaN</td>\n",
       "      <td>NaN</td>\n",
       "      <td>NaN</td>\n",
       "      <td>NaN</td>\n",
       "      <td>NaN</td>\n",
       "      <td>NaN</td>\n",
       "      <td>...</td>\n",
       "      <td>NaN</td>\n",
       "      <td>NaN</td>\n",
       "      <td>NaN</td>\n",
       "      <td>NaN</td>\n",
       "      <td>NaN</td>\n",
       "      <td>NaN</td>\n",
       "      <td>NaN</td>\n",
       "      <td>NaN</td>\n",
       "      <td>NaN</td>\n",
       "      <td>NaN</td>\n",
       "    </tr>\n",
       "    <tr>\n",
       "      <th>1303</th>\n",
       "      <td>NaT</td>\n",
       "      <td>NaN</td>\n",
       "      <td>NaN</td>\n",
       "      <td>NaN</td>\n",
       "      <td>NaN</td>\n",
       "      <td>NaN</td>\n",
       "      <td>NaN</td>\n",
       "      <td>NaN</td>\n",
       "      <td>NaN</td>\n",
       "      <td>NaN</td>\n",
       "      <td>...</td>\n",
       "      <td>NaN</td>\n",
       "      <td>NaN</td>\n",
       "      <td>NaN</td>\n",
       "      <td>NaN</td>\n",
       "      <td>NaN</td>\n",
       "      <td>NaN</td>\n",
       "      <td>NaN</td>\n",
       "      <td>NaN</td>\n",
       "      <td>NaN</td>\n",
       "      <td>NaN</td>\n",
       "    </tr>\n",
       "  </tbody>\n",
       "</table>\n",
       "<p>1304 rows × 35 columns</p>\n",
       "</div>"
      ],
      "text/plain": [
       "     Event date HWE Event Title (black) / MetService Event Title (red) Source  \\\n",
       "0           NaT                                                NaN       NIWA   \n",
       "1    1996-03-31  March 1996 Eastern North Island Ex-Tropical Cy...          1   \n",
       "2    1996-07-01                    July 1996 South Island Snowfall          1   \n",
       "3    1996-07-11              July 1996 Northland Auckland Rainfall        NaN   \n",
       "4    1996-07-14                         July 1996 Waikato Flooding          1   \n",
       "...         ...                                                ...        ...   \n",
       "1299        NaT                                                NaN        NaN   \n",
       "1300        NaT                                                NaN        NaN   \n",
       "1301        NaT                                                NaN        NaN   \n",
       "1302        NaT                                                NaN        NaN   \n",
       "1303        NaT                                                NaN        NaN   \n",
       "\n",
       "      Unnamed: 3 Regional Council region(s) affected Unnamed: 5 Unnamed: 6  \\\n",
       "0     MetService                                 Nld        Ald        Wko   \n",
       "1            NaN                                 NaN        NaN        NaN   \n",
       "2            NaN                                 NaN        NaN        NaN   \n",
       "3              1                                  3R         3R        NaN   \n",
       "4            NaN                                 NaN        NaN         3R   \n",
       "...          ...                                 ...        ...        ...   \n",
       "1299         NaN                                 NaN        NaN        NaN   \n",
       "1300         NaN                                 NaN        NaN        NaN   \n",
       "1301         NaN                                 NaN        NaN        NaN   \n",
       "1302         NaN                                 NaN        NaN        NaN   \n",
       "1303         NaN                                 NaN        NaN        NaN   \n",
       "\n",
       "     Unnamed: 7 Unnamed: 8 Unnamed: 9  ... Unnamed: 25 Unnamed: 26  \\\n",
       "0           Bop        Gsb        Hby  ...         NaN         NaN   \n",
       "1           NaN         3R      3R;3W  ...         NaN         NaN   \n",
       "2           NaN        NaN         1S  ...         NaN         NaN   \n",
       "3           NaN        NaN        NaN  ...         NaN         NaN   \n",
       "4           NaN        NaN        NaN  ...         NaN         NaN   \n",
       "...         ...        ...        ...  ...         ...         ...   \n",
       "1299        NaN        NaN        NaN  ...         NaN         NaN   \n",
       "1300        NaN        NaN        NaN  ...         NaN         NaN   \n",
       "1301        NaN        NaN        NaN  ...         NaN         NaN   \n",
       "1302        NaN        NaN        NaN  ...         NaN         NaN   \n",
       "1303        NaN        NaN        NaN  ...         NaN         NaN   \n",
       "\n",
       "     Unnamed: 27 Unnamed: 28 Unnamed: 29 Unnamed: 30 Unnamed: 31 Unnamed: 32  \\\n",
       "0            NaN         NaN         NaN         NaN         NaN         NaN   \n",
       "1            NaN         NaN         NaN         NaN         NaN         NaN   \n",
       "2            NaN         NaN         NaN         NaN         NaN         NaN   \n",
       "3            NaN         NaN         NaN         NaN         NaN         NaN   \n",
       "4            NaN         NaN         NaN         NaN         NaN         NaN   \n",
       "...          ...         ...         ...         ...         ...         ...   \n",
       "1299         NaN         NaN         NaN         NaN         NaN         NaN   \n",
       "1300         NaN         NaN         NaN         NaN         NaN         NaN   \n",
       "1301         NaN         NaN         NaN         NaN         NaN         NaN   \n",
       "1302         NaN         NaN         NaN         NaN         NaN         NaN   \n",
       "1303         NaN         NaN         NaN         NaN         NaN         NaN   \n",
       "\n",
       "     Unnamed: 33 Unnamed: 34  \n",
       "0            NaN         NaN  \n",
       "1            NaN         NaN  \n",
       "2            NaN         NaN  \n",
       "3            NaN         NaN  \n",
       "4            NaN         NaN  \n",
       "...          ...         ...  \n",
       "1299         NaN         NaN  \n",
       "1300         NaN         NaN  \n",
       "1301         NaN         NaN  \n",
       "1302         NaN         NaN  \n",
       "1303         NaN         NaN  \n",
       "\n",
       "[1304 rows x 35 columns]"
      ]
     },
     "execution_count": 3,
     "metadata": {},
     "output_type": "execute_result"
    }
   ],
   "source": [
    "# Reading maximum events\n",
    "sheat = pd.read_excel('/mnt/storage/Scratch/Fareeda/historical_ewes_tagged_202004241455.xlsx')\n",
    "sheat\n"
   ]
  },
  {
   "cell_type": "code",
   "execution_count": 9,
   "metadata": {},
   "outputs": [
    {
     "data": {
      "text/plain": [
       "0      False\n",
       "1        NaN\n",
       "2        NaN\n",
       "3        NaN\n",
       "4        NaN\n",
       "       ...  \n",
       "833      NaN\n",
       "834     True\n",
       "835      NaN\n",
       "836      NaN\n",
       "837    False\n",
       "Name: Unnamed: 12, Length: 838, dtype: object"
      ]
     },
     "execution_count": 9,
     "metadata": {},
     "output_type": "execute_result"
    }
   ],
   "source": [
    "# To check whether R exist in a column because we are interested in precipitation \n",
    "sheat['Unnamed: 12'].str.contains('R')"
   ]
  },
  {
   "cell_type": "code",
   "execution_count": 8,
   "metadata": {},
   "outputs": [
    {
     "data": {
      "text/html": [
       "<div>\n",
       "<style scoped>\n",
       "    .dataframe tbody tr th:only-of-type {\n",
       "        vertical-align: middle;\n",
       "    }\n",
       "\n",
       "    .dataframe tbody tr th {\n",
       "        vertical-align: top;\n",
       "    }\n",
       "\n",
       "    .dataframe thead th {\n",
       "        text-align: right;\n",
       "    }\n",
       "</style>\n",
       "<table border=\"1\" class=\"dataframe\">\n",
       "  <thead>\n",
       "    <tr style=\"text-align: right;\">\n",
       "      <th></th>\n",
       "      <th>Event date</th>\n",
       "      <th>Unnamed: 12</th>\n",
       "    </tr>\n",
       "  </thead>\n",
       "  <tbody>\n",
       "    <tr>\n",
       "      <th>0</th>\n",
       "      <td>NaT</td>\n",
       "      <td>Wgn</td>\n",
       "    </tr>\n",
       "    <tr>\n",
       "      <th>1</th>\n",
       "      <td>1996-03-31</td>\n",
       "      <td>NaN</td>\n",
       "    </tr>\n",
       "    <tr>\n",
       "      <th>2</th>\n",
       "      <td>1996-07-01</td>\n",
       "      <td>NaN</td>\n",
       "    </tr>\n",
       "    <tr>\n",
       "      <th>3</th>\n",
       "      <td>1996-07-11</td>\n",
       "      <td>NaN</td>\n",
       "    </tr>\n",
       "    <tr>\n",
       "      <th>4</th>\n",
       "      <td>1996-07-14</td>\n",
       "      <td>NaN</td>\n",
       "    </tr>\n",
       "    <tr>\n",
       "      <th>...</th>\n",
       "      <td>...</td>\n",
       "      <td>...</td>\n",
       "    </tr>\n",
       "    <tr>\n",
       "      <th>833</th>\n",
       "      <td>2019-12-03</td>\n",
       "      <td>NaN</td>\n",
       "    </tr>\n",
       "    <tr>\n",
       "      <th>834</th>\n",
       "      <td>2019-12-08</td>\n",
       "      <td>2R</td>\n",
       "    </tr>\n",
       "    <tr>\n",
       "      <th>835</th>\n",
       "      <td>2019-12-16</td>\n",
       "      <td>NaN</td>\n",
       "    </tr>\n",
       "    <tr>\n",
       "      <th>836</th>\n",
       "      <td>2019-12-17</td>\n",
       "      <td>NaN</td>\n",
       "    </tr>\n",
       "    <tr>\n",
       "      <th>837</th>\n",
       "      <td>2019-12-20</td>\n",
       "      <td>3W</td>\n",
       "    </tr>\n",
       "  </tbody>\n",
       "</table>\n",
       "<p>838 rows × 2 columns</p>\n",
       "</div>"
      ],
      "text/plain": [
       "    Event date Unnamed: 12\n",
       "0          NaT         Wgn\n",
       "1   1996-03-31         NaN\n",
       "2   1996-07-01         NaN\n",
       "3   1996-07-11         NaN\n",
       "4   1996-07-14         NaN\n",
       "..         ...         ...\n",
       "833 2019-12-03         NaN\n",
       "834 2019-12-08          2R\n",
       "835 2019-12-16         NaN\n",
       "836 2019-12-17         NaN\n",
       "837 2019-12-20          3W\n",
       "\n",
       "[838 rows x 2 columns]"
      ]
     },
     "execution_count": 8,
     "metadata": {},
     "output_type": "execute_result"
    }
   ],
   "source": [
    "# Extracting two columns (event date and wellington region) from sheat dataframe \n",
    "sh = sheat[['Event date', 'Unnamed: 12']]\n",
    "sh"
   ]
  },
  {
   "cell_type": "code",
   "execution_count": 9,
   "metadata": {},
   "outputs": [
    {
     "data": {
      "text/html": [
       "<div>\n",
       "<style scoped>\n",
       "    .dataframe tbody tr th:only-of-type {\n",
       "        vertical-align: middle;\n",
       "    }\n",
       "\n",
       "    .dataframe tbody tr th {\n",
       "        vertical-align: top;\n",
       "    }\n",
       "\n",
       "    .dataframe thead th {\n",
       "        text-align: right;\n",
       "    }\n",
       "</style>\n",
       "<table border=\"1\" class=\"dataframe\">\n",
       "  <thead>\n",
       "    <tr style=\"text-align: right;\">\n",
       "      <th></th>\n",
       "      <th>Event date</th>\n",
       "      <th>Unnamed: 12</th>\n",
       "    </tr>\n",
       "  </thead>\n",
       "  <tbody>\n",
       "    <tr>\n",
       "      <th>8</th>\n",
       "      <td>1996-09-24</td>\n",
       "      <td>1T</td>\n",
       "    </tr>\n",
       "    <tr>\n",
       "      <th>9</th>\n",
       "      <td>1996-10-01</td>\n",
       "      <td>3W</td>\n",
       "    </tr>\n",
       "    <tr>\n",
       "      <th>10</th>\n",
       "      <td>1996-10-12</td>\n",
       "      <td>3R;3W</td>\n",
       "    </tr>\n",
       "    <tr>\n",
       "      <th>13</th>\n",
       "      <td>1996-11-18</td>\n",
       "      <td>3W</td>\n",
       "    </tr>\n",
       "    <tr>\n",
       "      <th>22</th>\n",
       "      <td>1997-03-11</td>\n",
       "      <td>\\n</td>\n",
       "    </tr>\n",
       "    <tr>\n",
       "      <th>...</th>\n",
       "      <td>...</td>\n",
       "      <td>...</td>\n",
       "    </tr>\n",
       "    <tr>\n",
       "      <th>804</th>\n",
       "      <td>2018-12-02</td>\n",
       "      <td>3C</td>\n",
       "    </tr>\n",
       "    <tr>\n",
       "      <th>805</th>\n",
       "      <td>2018-12-03</td>\n",
       "      <td>2C</td>\n",
       "    </tr>\n",
       "    <tr>\n",
       "      <th>811</th>\n",
       "      <td>2019-03-08</td>\n",
       "      <td>3R</td>\n",
       "    </tr>\n",
       "    <tr>\n",
       "      <th>834</th>\n",
       "      <td>2019-12-08</td>\n",
       "      <td>2R</td>\n",
       "    </tr>\n",
       "    <tr>\n",
       "      <th>837</th>\n",
       "      <td>2019-12-20</td>\n",
       "      <td>3W</td>\n",
       "    </tr>\n",
       "  </tbody>\n",
       "</table>\n",
       "<p>226 rows × 2 columns</p>\n",
       "</div>"
      ],
      "text/plain": [
       "    Event date Unnamed: 12\n",
       "8   1996-09-24          1T\n",
       "9   1996-10-01          3W\n",
       "10  1996-10-12       3R;3W\n",
       "13  1996-11-18          3W\n",
       "22  1997-03-11          \\n\n",
       "..         ...         ...\n",
       "804 2018-12-02          3C\n",
       "805 2018-12-03          2C\n",
       "811 2019-03-08          3R\n",
       "834 2019-12-08          2R\n",
       "837 2019-12-20          3W\n",
       "\n",
       "[226 rows x 2 columns]"
      ]
     },
     "execution_count": 9,
     "metadata": {},
     "output_type": "execute_result"
    }
   ],
   "source": [
    "# Removing null rows\n",
    "sh2 = sh.dropna()\n",
    "sh2"
   ]
  },
  {
   "cell_type": "markdown",
   "metadata": {},
   "source": [
    "## Extreme event dataframe"
   ]
  },
  {
   "cell_type": "code",
   "execution_count": 10,
   "metadata": {},
   "outputs": [],
   "source": [
    "# Define function \n",
    "def f(x):\n",
    "    if 'R' in x:\n",
    "        return 1\n",
    "    else:\n",
    "        return 0\n",
    "    \n"
   ]
  },
  {
   "cell_type": "code",
   "execution_count": 11,
   "metadata": {},
   "outputs": [
    {
     "name": "stderr",
     "output_type": "stream",
     "text": [
      "<ipython-input-11-dc794b12be3d>:2: SettingWithCopyWarning: \n",
      "A value is trying to be set on a copy of a slice from a DataFrame.\n",
      "Try using .loc[row_indexer,col_indexer] = value instead\n",
      "\n",
      "See the caveats in the documentation: https://pandas.pydata.org/pandas-docs/stable/user_guide/indexing.html#returning-a-view-versus-a-copy\n",
      "  sh2['rain'] = sh2['Unnamed: 12'].apply(f)\n"
     ]
    },
    {
     "data": {
      "text/html": [
       "<div>\n",
       "<style scoped>\n",
       "    .dataframe tbody tr th:only-of-type {\n",
       "        vertical-align: middle;\n",
       "    }\n",
       "\n",
       "    .dataframe tbody tr th {\n",
       "        vertical-align: top;\n",
       "    }\n",
       "\n",
       "    .dataframe thead th {\n",
       "        text-align: right;\n",
       "    }\n",
       "</style>\n",
       "<table border=\"1\" class=\"dataframe\">\n",
       "  <thead>\n",
       "    <tr style=\"text-align: right;\">\n",
       "      <th></th>\n",
       "      <th>Event date</th>\n",
       "      <th>Unnamed: 12</th>\n",
       "      <th>rain</th>\n",
       "    </tr>\n",
       "  </thead>\n",
       "  <tbody>\n",
       "    <tr>\n",
       "      <th>8</th>\n",
       "      <td>1996-09-24</td>\n",
       "      <td>1T</td>\n",
       "      <td>0</td>\n",
       "    </tr>\n",
       "    <tr>\n",
       "      <th>9</th>\n",
       "      <td>1996-10-01</td>\n",
       "      <td>3W</td>\n",
       "      <td>0</td>\n",
       "    </tr>\n",
       "    <tr>\n",
       "      <th>10</th>\n",
       "      <td>1996-10-12</td>\n",
       "      <td>3R;3W</td>\n",
       "      <td>1</td>\n",
       "    </tr>\n",
       "    <tr>\n",
       "      <th>13</th>\n",
       "      <td>1996-11-18</td>\n",
       "      <td>3W</td>\n",
       "      <td>0</td>\n",
       "    </tr>\n",
       "    <tr>\n",
       "      <th>22</th>\n",
       "      <td>1997-03-11</td>\n",
       "      <td>\\n</td>\n",
       "      <td>0</td>\n",
       "    </tr>\n",
       "    <tr>\n",
       "      <th>...</th>\n",
       "      <td>...</td>\n",
       "      <td>...</td>\n",
       "      <td>...</td>\n",
       "    </tr>\n",
       "    <tr>\n",
       "      <th>804</th>\n",
       "      <td>2018-12-02</td>\n",
       "      <td>3C</td>\n",
       "      <td>0</td>\n",
       "    </tr>\n",
       "    <tr>\n",
       "      <th>805</th>\n",
       "      <td>2018-12-03</td>\n",
       "      <td>2C</td>\n",
       "      <td>0</td>\n",
       "    </tr>\n",
       "    <tr>\n",
       "      <th>811</th>\n",
       "      <td>2019-03-08</td>\n",
       "      <td>3R</td>\n",
       "      <td>1</td>\n",
       "    </tr>\n",
       "    <tr>\n",
       "      <th>834</th>\n",
       "      <td>2019-12-08</td>\n",
       "      <td>2R</td>\n",
       "      <td>1</td>\n",
       "    </tr>\n",
       "    <tr>\n",
       "      <th>837</th>\n",
       "      <td>2019-12-20</td>\n",
       "      <td>3W</td>\n",
       "      <td>0</td>\n",
       "    </tr>\n",
       "  </tbody>\n",
       "</table>\n",
       "<p>226 rows × 3 columns</p>\n",
       "</div>"
      ],
      "text/plain": [
       "    Event date Unnamed: 12  rain\n",
       "8   1996-09-24          1T     0\n",
       "9   1996-10-01          3W     0\n",
       "10  1996-10-12       3R;3W     1\n",
       "13  1996-11-18          3W     0\n",
       "22  1997-03-11          \\n     0\n",
       "..         ...         ...   ...\n",
       "804 2018-12-02          3C     0\n",
       "805 2018-12-03          2C     0\n",
       "811 2019-03-08          3R     1\n",
       "834 2019-12-08          2R     1\n",
       "837 2019-12-20          3W     0\n",
       "\n",
       "[226 rows x 3 columns]"
      ]
     },
     "execution_count": 11,
     "metadata": {},
     "output_type": "execute_result"
    }
   ],
   "source": [
    "# Creating new column and entering 1 if R is present otherwise 0\n",
    "sh2['rain'] = sh2['Unnamed: 12'].apply(f)\n",
    "sh2"
   ]
  },
  {
   "cell_type": "code",
   "execution_count": 12,
   "metadata": {},
   "outputs": [
    {
     "data": {
      "text/html": [
       "<div>\n",
       "<style scoped>\n",
       "    .dataframe tbody tr th:only-of-type {\n",
       "        vertical-align: middle;\n",
       "    }\n",
       "\n",
       "    .dataframe tbody tr th {\n",
       "        vertical-align: top;\n",
       "    }\n",
       "\n",
       "    .dataframe thead th {\n",
       "        text-align: right;\n",
       "    }\n",
       "</style>\n",
       "<table border=\"1\" class=\"dataframe\">\n",
       "  <thead>\n",
       "    <tr style=\"text-align: right;\">\n",
       "      <th></th>\n",
       "      <th>Event date</th>\n",
       "      <th>Unnamed: 12</th>\n",
       "      <th>rain</th>\n",
       "    </tr>\n",
       "  </thead>\n",
       "  <tbody>\n",
       "    <tr>\n",
       "      <th>10</th>\n",
       "      <td>1996-10-12</td>\n",
       "      <td>3R;3W</td>\n",
       "      <td>1</td>\n",
       "    </tr>\n",
       "    <tr>\n",
       "      <th>28</th>\n",
       "      <td>1997-06-17</td>\n",
       "      <td>3R</td>\n",
       "      <td>1</td>\n",
       "    </tr>\n",
       "    <tr>\n",
       "      <th>30</th>\n",
       "      <td>1997-07-09</td>\n",
       "      <td>3R</td>\n",
       "      <td>1</td>\n",
       "    </tr>\n",
       "    <tr>\n",
       "      <th>36</th>\n",
       "      <td>1997-10-03</td>\n",
       "      <td>2R;3W</td>\n",
       "      <td>1</td>\n",
       "    </tr>\n",
       "    <tr>\n",
       "      <th>38</th>\n",
       "      <td>1997-11-14</td>\n",
       "      <td>3R</td>\n",
       "      <td>1</td>\n",
       "    </tr>\n",
       "    <tr>\n",
       "      <th>...</th>\n",
       "      <td>...</td>\n",
       "      <td>...</td>\n",
       "      <td>...</td>\n",
       "    </tr>\n",
       "    <tr>\n",
       "      <th>770</th>\n",
       "      <td>2018-02-01</td>\n",
       "      <td>3R;3W</td>\n",
       "      <td>1</td>\n",
       "    </tr>\n",
       "    <tr>\n",
       "      <th>788</th>\n",
       "      <td>2018-06-12</td>\n",
       "      <td>2R</td>\n",
       "      <td>1</td>\n",
       "    </tr>\n",
       "    <tr>\n",
       "      <th>791</th>\n",
       "      <td>2018-07-07</td>\n",
       "      <td>3R;3W</td>\n",
       "      <td>1</td>\n",
       "    </tr>\n",
       "    <tr>\n",
       "      <th>811</th>\n",
       "      <td>2019-03-08</td>\n",
       "      <td>3R</td>\n",
       "      <td>1</td>\n",
       "    </tr>\n",
       "    <tr>\n",
       "      <th>834</th>\n",
       "      <td>2019-12-08</td>\n",
       "      <td>2R</td>\n",
       "      <td>1</td>\n",
       "    </tr>\n",
       "  </tbody>\n",
       "</table>\n",
       "<p>76 rows × 3 columns</p>\n",
       "</div>"
      ],
      "text/plain": [
       "    Event date Unnamed: 12  rain\n",
       "10  1996-10-12       3R;3W     1\n",
       "28  1997-06-17          3R     1\n",
       "30  1997-07-09          3R     1\n",
       "36  1997-10-03       2R;3W     1\n",
       "38  1997-11-14          3R     1\n",
       "..         ...         ...   ...\n",
       "770 2018-02-01       3R;3W     1\n",
       "788 2018-06-12          2R     1\n",
       "791 2018-07-07       3R;3W     1\n",
       "811 2019-03-08          3R     1\n",
       "834 2019-12-08          2R     1\n",
       "\n",
       "[76 rows x 3 columns]"
      ]
     },
     "execution_count": 12,
     "metadata": {},
     "output_type": "execute_result"
    }
   ],
   "source": [
    "# selecting rows which contain 'R' in the Unnamed: 12 column\n",
    "sh3 = sh2.loc[sh2['Unnamed: 12'].str.contains('R')]\n",
    "sh3"
   ]
  },
  {
   "cell_type": "markdown",
   "metadata": {},
   "source": [
    "## Joining both dataframe"
   ]
  },
  {
   "cell_type": "code",
   "execution_count": 14,
   "metadata": {},
   "outputs": [
    {
     "data": {
      "text/html": [
       "<div>\n",
       "<style scoped>\n",
       "    .dataframe tbody tr th:only-of-type {\n",
       "        vertical-align: middle;\n",
       "    }\n",
       "\n",
       "    .dataframe tbody tr th {\n",
       "        vertical-align: top;\n",
       "    }\n",
       "\n",
       "    .dataframe thead th {\n",
       "        text-align: right;\n",
       "    }\n",
       "</style>\n",
       "<table border=\"1\" class=\"dataframe\">\n",
       "  <thead>\n",
       "    <tr style=\"text-align: right;\">\n",
       "      <th></th>\n",
       "      <th>temp</th>\n",
       "      <th>sp</th>\n",
       "      <th>tcw</th>\n",
       "    </tr>\n",
       "    <tr>\n",
       "      <th>time</th>\n",
       "      <th></th>\n",
       "      <th></th>\n",
       "      <th></th>\n",
       "    </tr>\n",
       "  </thead>\n",
       "  <tbody>\n",
       "    <tr>\n",
       "      <th>1996-01-01 00:00:00</th>\n",
       "      <td>290.853851</td>\n",
       "      <td>100175.007812</td>\n",
       "      <td>16.728743</td>\n",
       "    </tr>\n",
       "    <tr>\n",
       "      <th>1996-01-01 01:00:00</th>\n",
       "      <td>291.417694</td>\n",
       "      <td>100133.265625</td>\n",
       "      <td>17.180902</td>\n",
       "    </tr>\n",
       "    <tr>\n",
       "      <th>1996-01-01 02:00:00</th>\n",
       "      <td>292.178162</td>\n",
       "      <td>100123.757812</td>\n",
       "      <td>17.231808</td>\n",
       "    </tr>\n",
       "    <tr>\n",
       "      <th>1996-01-01 03:00:00</th>\n",
       "      <td>292.575165</td>\n",
       "      <td>100070.734375</td>\n",
       "      <td>16.735910</td>\n",
       "    </tr>\n",
       "    <tr>\n",
       "      <th>1996-01-01 04:00:00</th>\n",
       "      <td>292.863342</td>\n",
       "      <td>100008.296875</td>\n",
       "      <td>16.049551</td>\n",
       "    </tr>\n",
       "    <tr>\n",
       "      <th>...</th>\n",
       "      <td>...</td>\n",
       "      <td>...</td>\n",
       "      <td>...</td>\n",
       "    </tr>\n",
       "    <tr>\n",
       "      <th>2020-04-30 19:00:00</th>\n",
       "      <td>285.855133</td>\n",
       "      <td>99768.148438</td>\n",
       "      <td>7.431450</td>\n",
       "    </tr>\n",
       "    <tr>\n",
       "      <th>2020-04-30 20:00:00</th>\n",
       "      <td>287.536957</td>\n",
       "      <td>99792.570312</td>\n",
       "      <td>7.424390</td>\n",
       "    </tr>\n",
       "    <tr>\n",
       "      <th>2020-04-30 21:00:00</th>\n",
       "      <td>287.438690</td>\n",
       "      <td>99826.421875</td>\n",
       "      <td>7.393387</td>\n",
       "    </tr>\n",
       "    <tr>\n",
       "      <th>2020-04-30 22:00:00</th>\n",
       "      <td>289.395416</td>\n",
       "      <td>99855.414062</td>\n",
       "      <td>7.540514</td>\n",
       "    </tr>\n",
       "    <tr>\n",
       "      <th>2020-04-30 23:00:00</th>\n",
       "      <td>289.120880</td>\n",
       "      <td>99895.953125</td>\n",
       "      <td>7.655159</td>\n",
       "    </tr>\n",
       "  </tbody>\n",
       "</table>\n",
       "<p>213288 rows × 3 columns</p>\n",
       "</div>"
      ],
      "text/plain": [
       "                           temp             sp        tcw\n",
       "time                                                     \n",
       "1996-01-01 00:00:00  290.853851  100175.007812  16.728743\n",
       "1996-01-01 01:00:00  291.417694  100133.265625  17.180902\n",
       "1996-01-01 02:00:00  292.178162  100123.757812  17.231808\n",
       "1996-01-01 03:00:00  292.575165  100070.734375  16.735910\n",
       "1996-01-01 04:00:00  292.863342  100008.296875  16.049551\n",
       "...                         ...            ...        ...\n",
       "2020-04-30 19:00:00  285.855133   99768.148438   7.431450\n",
       "2020-04-30 20:00:00  287.536957   99792.570312   7.424390\n",
       "2020-04-30 21:00:00  287.438690   99826.421875   7.393387\n",
       "2020-04-30 22:00:00  289.395416   99855.414062   7.540514\n",
       "2020-04-30 23:00:00  289.120880   99895.953125   7.655159\n",
       "\n",
       "[213288 rows x 3 columns]"
      ]
     },
     "execution_count": 14,
     "metadata": {},
     "output_type": "execute_result"
    }
   ],
   "source": [
    "# To see new_data frame\n",
    "new_data"
   ]
  },
  {
   "cell_type": "code",
   "execution_count": 13,
   "metadata": {},
   "outputs": [
    {
     "data": {
      "text/html": [
       "<div>\n",
       "<style scoped>\n",
       "    .dataframe tbody tr th:only-of-type {\n",
       "        vertical-align: middle;\n",
       "    }\n",
       "\n",
       "    .dataframe tbody tr th {\n",
       "        vertical-align: top;\n",
       "    }\n",
       "\n",
       "    .dataframe thead th {\n",
       "        text-align: right;\n",
       "    }\n",
       "</style>\n",
       "<table border=\"1\" class=\"dataframe\">\n",
       "  <thead>\n",
       "    <tr style=\"text-align: right;\">\n",
       "      <th></th>\n",
       "      <th>temp</th>\n",
       "      <th>sp</th>\n",
       "      <th>tcw</th>\n",
       "    </tr>\n",
       "    <tr>\n",
       "      <th>time</th>\n",
       "      <th></th>\n",
       "      <th></th>\n",
       "      <th></th>\n",
       "    </tr>\n",
       "  </thead>\n",
       "  <tbody>\n",
       "    <tr>\n",
       "      <th>1996-01-01 00:00:00</th>\n",
       "      <td>290.853851</td>\n",
       "      <td>100175.007812</td>\n",
       "      <td>16.728743</td>\n",
       "    </tr>\n",
       "    <tr>\n",
       "      <th>1996-01-01 23:00:00</th>\n",
       "      <td>291.062653</td>\n",
       "      <td>100065.085938</td>\n",
       "      <td>16.694519</td>\n",
       "    </tr>\n",
       "    <tr>\n",
       "      <th>1996-01-02 00:00:00</th>\n",
       "      <td>291.241852</td>\n",
       "      <td>100039.437500</td>\n",
       "      <td>17.240368</td>\n",
       "    </tr>\n",
       "    <tr>\n",
       "      <th>1996-01-02 23:00:00</th>\n",
       "      <td>291.310394</td>\n",
       "      <td>99552.078125</td>\n",
       "      <td>12.764560</td>\n",
       "    </tr>\n",
       "    <tr>\n",
       "      <th>1996-01-03 00:00:00</th>\n",
       "      <td>291.230896</td>\n",
       "      <td>99499.601562</td>\n",
       "      <td>12.797529</td>\n",
       "    </tr>\n",
       "    <tr>\n",
       "      <th>...</th>\n",
       "      <td>...</td>\n",
       "      <td>...</td>\n",
       "      <td>...</td>\n",
       "    </tr>\n",
       "    <tr>\n",
       "      <th>2020-04-28 23:00:00</th>\n",
       "      <td>289.001801</td>\n",
       "      <td>100587.687500</td>\n",
       "      <td>9.099380</td>\n",
       "    </tr>\n",
       "    <tr>\n",
       "      <th>2020-04-29 00:00:00</th>\n",
       "      <td>289.154694</td>\n",
       "      <td>100527.953125</td>\n",
       "      <td>10.025865</td>\n",
       "    </tr>\n",
       "    <tr>\n",
       "      <th>2020-04-29 23:00:00</th>\n",
       "      <td>288.899017</td>\n",
       "      <td>100384.835938</td>\n",
       "      <td>8.654546</td>\n",
       "    </tr>\n",
       "    <tr>\n",
       "      <th>2020-04-30 00:00:00</th>\n",
       "      <td>288.659546</td>\n",
       "      <td>100231.703125</td>\n",
       "      <td>8.651578</td>\n",
       "    </tr>\n",
       "    <tr>\n",
       "      <th>2020-04-30 23:00:00</th>\n",
       "      <td>289.120880</td>\n",
       "      <td>99895.953125</td>\n",
       "      <td>7.655159</td>\n",
       "    </tr>\n",
       "  </tbody>\n",
       "</table>\n",
       "<p>17774 rows × 3 columns</p>\n",
       "</div>"
      ],
      "text/plain": [
       "                           temp             sp        tcw\n",
       "time                                                     \n",
       "1996-01-01 00:00:00  290.853851  100175.007812  16.728743\n",
       "1996-01-01 23:00:00  291.062653  100065.085938  16.694519\n",
       "1996-01-02 00:00:00  291.241852  100039.437500  17.240368\n",
       "1996-01-02 23:00:00  291.310394   99552.078125  12.764560\n",
       "1996-01-03 00:00:00  291.230896   99499.601562  12.797529\n",
       "...                         ...            ...        ...\n",
       "2020-04-28 23:00:00  289.001801  100587.687500   9.099380\n",
       "2020-04-29 00:00:00  289.154694  100527.953125  10.025865\n",
       "2020-04-29 23:00:00  288.899017  100384.835938   8.654546\n",
       "2020-04-30 00:00:00  288.659546  100231.703125   8.651578\n",
       "2020-04-30 23:00:00  289.120880   99895.953125   7.655159\n",
       "\n",
       "[17774 rows x 3 columns]"
      ]
     },
     "execution_count": 13,
     "metadata": {},
     "output_type": "execute_result"
    }
   ],
   "source": [
    "# Subsetting for 0 or 23 hour from index\n",
    "Hour_data = new_data.loc[(new_data.index.hour == 23) | (new_data.index.hour == 0)]\n",
    "Hour_data"
   ]
  },
  {
   "cell_type": "code",
   "execution_count": 14,
   "metadata": {},
   "outputs": [
    {
     "data": {
      "text/html": [
       "<div>\n",
       "<style scoped>\n",
       "    .dataframe tbody tr th:only-of-type {\n",
       "        vertical-align: middle;\n",
       "    }\n",
       "\n",
       "    .dataframe tbody tr th {\n",
       "        vertical-align: top;\n",
       "    }\n",
       "\n",
       "    .dataframe thead th {\n",
       "        text-align: right;\n",
       "    }\n",
       "</style>\n",
       "<table border=\"1\" class=\"dataframe\">\n",
       "  <thead>\n",
       "    <tr style=\"text-align: right;\">\n",
       "      <th></th>\n",
       "      <th>temp</th>\n",
       "      <th>sp</th>\n",
       "      <th>tcw</th>\n",
       "    </tr>\n",
       "    <tr>\n",
       "      <th>time</th>\n",
       "      <th></th>\n",
       "      <th></th>\n",
       "      <th></th>\n",
       "    </tr>\n",
       "  </thead>\n",
       "  <tbody>\n",
       "    <tr>\n",
       "      <th>1996-01-01</th>\n",
       "      <td>290.853851</td>\n",
       "      <td>100175.007812</td>\n",
       "      <td>16.728743</td>\n",
       "    </tr>\n",
       "    <tr>\n",
       "      <th>1996-01-02</th>\n",
       "      <td>291.241852</td>\n",
       "      <td>100039.437500</td>\n",
       "      <td>17.240368</td>\n",
       "    </tr>\n",
       "    <tr>\n",
       "      <th>1996-01-03</th>\n",
       "      <td>291.230896</td>\n",
       "      <td>99499.601562</td>\n",
       "      <td>12.797529</td>\n",
       "    </tr>\n",
       "    <tr>\n",
       "      <th>1996-01-04</th>\n",
       "      <td>292.104889</td>\n",
       "      <td>99463.914062</td>\n",
       "      <td>19.124949</td>\n",
       "    </tr>\n",
       "    <tr>\n",
       "      <th>1996-01-05</th>\n",
       "      <td>291.501343</td>\n",
       "      <td>99918.070312</td>\n",
       "      <td>25.928146</td>\n",
       "    </tr>\n",
       "    <tr>\n",
       "      <th>...</th>\n",
       "      <td>...</td>\n",
       "      <td>...</td>\n",
       "      <td>...</td>\n",
       "    </tr>\n",
       "    <tr>\n",
       "      <th>2020-04-26</th>\n",
       "      <td>289.416504</td>\n",
       "      <td>99358.414062</td>\n",
       "      <td>14.770068</td>\n",
       "    </tr>\n",
       "    <tr>\n",
       "      <th>2020-04-27</th>\n",
       "      <td>289.074646</td>\n",
       "      <td>98926.929688</td>\n",
       "      <td>15.679741</td>\n",
       "    </tr>\n",
       "    <tr>\n",
       "      <th>2020-04-28</th>\n",
       "      <td>289.660126</td>\n",
       "      <td>99807.992188</td>\n",
       "      <td>10.210015</td>\n",
       "    </tr>\n",
       "    <tr>\n",
       "      <th>2020-04-29</th>\n",
       "      <td>289.154694</td>\n",
       "      <td>100527.953125</td>\n",
       "      <td>10.025865</td>\n",
       "    </tr>\n",
       "    <tr>\n",
       "      <th>2020-04-30</th>\n",
       "      <td>288.659546</td>\n",
       "      <td>100231.703125</td>\n",
       "      <td>8.651578</td>\n",
       "    </tr>\n",
       "  </tbody>\n",
       "</table>\n",
       "<p>8887 rows × 3 columns</p>\n",
       "</div>"
      ],
      "text/plain": [
       "                  temp             sp        tcw\n",
       "time                                            \n",
       "1996-01-01  290.853851  100175.007812  16.728743\n",
       "1996-01-02  291.241852  100039.437500  17.240368\n",
       "1996-01-03  291.230896   99499.601562  12.797529\n",
       "1996-01-04  292.104889   99463.914062  19.124949\n",
       "1996-01-05  291.501343   99918.070312  25.928146\n",
       "...                ...            ...        ...\n",
       "2020-04-26  289.416504   99358.414062  14.770068\n",
       "2020-04-27  289.074646   98926.929688  15.679741\n",
       "2020-04-28  289.660126   99807.992188  10.210015\n",
       "2020-04-29  289.154694  100527.953125  10.025865\n",
       "2020-04-30  288.659546  100231.703125   8.651578\n",
       "\n",
       "[8887 rows x 3 columns]"
      ]
     },
     "execution_count": 14,
     "metadata": {},
     "output_type": "execute_result"
    }
   ],
   "source": [
    "# Extracting rows for only 0 hour\n",
    "H1 = Hour_data.loc[Hour_data.index.hour == 0]\n",
    "H1"
   ]
  },
  {
   "cell_type": "code",
   "execution_count": 15,
   "metadata": {},
   "outputs": [
    {
     "data": {
      "text/html": [
       "<div>\n",
       "<style scoped>\n",
       "    .dataframe tbody tr th:only-of-type {\n",
       "        vertical-align: middle;\n",
       "    }\n",
       "\n",
       "    .dataframe tbody tr th {\n",
       "        vertical-align: top;\n",
       "    }\n",
       "\n",
       "    .dataframe thead th {\n",
       "        text-align: right;\n",
       "    }\n",
       "</style>\n",
       "<table border=\"1\" class=\"dataframe\">\n",
       "  <thead>\n",
       "    <tr style=\"text-align: right;\">\n",
       "      <th></th>\n",
       "      <th>temp</th>\n",
       "      <th>sp</th>\n",
       "      <th>tcw</th>\n",
       "    </tr>\n",
       "    <tr>\n",
       "      <th>time</th>\n",
       "      <th></th>\n",
       "      <th></th>\n",
       "      <th></th>\n",
       "    </tr>\n",
       "  </thead>\n",
       "  <tbody>\n",
       "    <tr>\n",
       "      <th>1996-01-01 23:00:00</th>\n",
       "      <td>291.062653</td>\n",
       "      <td>100065.085938</td>\n",
       "      <td>16.694519</td>\n",
       "    </tr>\n",
       "    <tr>\n",
       "      <th>1996-01-02 23:00:00</th>\n",
       "      <td>291.310394</td>\n",
       "      <td>99552.078125</td>\n",
       "      <td>12.764560</td>\n",
       "    </tr>\n",
       "    <tr>\n",
       "      <th>1996-01-03 23:00:00</th>\n",
       "      <td>291.758911</td>\n",
       "      <td>99446.812500</td>\n",
       "      <td>18.472071</td>\n",
       "    </tr>\n",
       "    <tr>\n",
       "      <th>1996-01-04 23:00:00</th>\n",
       "      <td>291.247406</td>\n",
       "      <td>99894.804688</td>\n",
       "      <td>25.320429</td>\n",
       "    </tr>\n",
       "    <tr>\n",
       "      <th>1996-01-05 23:00:00</th>\n",
       "      <td>291.270721</td>\n",
       "      <td>100171.132812</td>\n",
       "      <td>27.919706</td>\n",
       "    </tr>\n",
       "    <tr>\n",
       "      <th>...</th>\n",
       "      <td>...</td>\n",
       "      <td>...</td>\n",
       "      <td>...</td>\n",
       "    </tr>\n",
       "    <tr>\n",
       "      <th>2020-04-26 23:00:00</th>\n",
       "      <td>289.346375</td>\n",
       "      <td>99010.437500</td>\n",
       "      <td>14.631294</td>\n",
       "    </tr>\n",
       "    <tr>\n",
       "      <th>2020-04-27 23:00:00</th>\n",
       "      <td>289.555847</td>\n",
       "      <td>99756.703125</td>\n",
       "      <td>10.016919</td>\n",
       "    </tr>\n",
       "    <tr>\n",
       "      <th>2020-04-28 23:00:00</th>\n",
       "      <td>289.001801</td>\n",
       "      <td>100587.687500</td>\n",
       "      <td>9.099380</td>\n",
       "    </tr>\n",
       "    <tr>\n",
       "      <th>2020-04-29 23:00:00</th>\n",
       "      <td>288.899017</td>\n",
       "      <td>100384.835938</td>\n",
       "      <td>8.654546</td>\n",
       "    </tr>\n",
       "    <tr>\n",
       "      <th>2020-04-30 23:00:00</th>\n",
       "      <td>289.120880</td>\n",
       "      <td>99895.953125</td>\n",
       "      <td>7.655159</td>\n",
       "    </tr>\n",
       "  </tbody>\n",
       "</table>\n",
       "<p>8887 rows × 3 columns</p>\n",
       "</div>"
      ],
      "text/plain": [
       "                           temp             sp        tcw\n",
       "time                                                     \n",
       "1996-01-01 23:00:00  291.062653  100065.085938  16.694519\n",
       "1996-01-02 23:00:00  291.310394   99552.078125  12.764560\n",
       "1996-01-03 23:00:00  291.758911   99446.812500  18.472071\n",
       "1996-01-04 23:00:00  291.247406   99894.804688  25.320429\n",
       "1996-01-05 23:00:00  291.270721  100171.132812  27.919706\n",
       "...                         ...            ...        ...\n",
       "2020-04-26 23:00:00  289.346375   99010.437500  14.631294\n",
       "2020-04-27 23:00:00  289.555847   99756.703125  10.016919\n",
       "2020-04-28 23:00:00  289.001801  100587.687500   9.099380\n",
       "2020-04-29 23:00:00  288.899017  100384.835938   8.654546\n",
       "2020-04-30 23:00:00  289.120880   99895.953125   7.655159\n",
       "\n",
       "[8887 rows x 3 columns]"
      ]
     },
     "execution_count": 15,
     "metadata": {},
     "output_type": "execute_result"
    }
   ],
   "source": [
    "# extrecting rows of 23 hour\n",
    "H2 = Hour_data.loc[Hour_data.index.hour == 23]\n",
    "H2"
   ]
  },
  {
   "cell_type": "code",
   "execution_count": 16,
   "metadata": {},
   "outputs": [
    {
     "data": {
      "text/html": [
       "<div>\n",
       "<style scoped>\n",
       "    .dataframe tbody tr th:only-of-type {\n",
       "        vertical-align: middle;\n",
       "    }\n",
       "\n",
       "    .dataframe tbody tr th {\n",
       "        vertical-align: top;\n",
       "    }\n",
       "\n",
       "    .dataframe thead th {\n",
       "        text-align: right;\n",
       "    }\n",
       "</style>\n",
       "<table border=\"1\" class=\"dataframe\">\n",
       "  <thead>\n",
       "    <tr style=\"text-align: right;\">\n",
       "      <th></th>\n",
       "      <th>temp</th>\n",
       "      <th>sp</th>\n",
       "      <th>tcw</th>\n",
       "    </tr>\n",
       "    <tr>\n",
       "      <th>time</th>\n",
       "      <th></th>\n",
       "      <th></th>\n",
       "      <th></th>\n",
       "    </tr>\n",
       "  </thead>\n",
       "  <tbody>\n",
       "    <tr>\n",
       "      <th>1996-01-01</th>\n",
       "      <td>291.062653</td>\n",
       "      <td>100065.085938</td>\n",
       "      <td>16.694519</td>\n",
       "    </tr>\n",
       "    <tr>\n",
       "      <th>1996-01-02</th>\n",
       "      <td>291.310394</td>\n",
       "      <td>99552.078125</td>\n",
       "      <td>12.764560</td>\n",
       "    </tr>\n",
       "    <tr>\n",
       "      <th>1996-01-03</th>\n",
       "      <td>291.758911</td>\n",
       "      <td>99446.812500</td>\n",
       "      <td>18.472071</td>\n",
       "    </tr>\n",
       "    <tr>\n",
       "      <th>1996-01-04</th>\n",
       "      <td>291.247406</td>\n",
       "      <td>99894.804688</td>\n",
       "      <td>25.320429</td>\n",
       "    </tr>\n",
       "    <tr>\n",
       "      <th>1996-01-05</th>\n",
       "      <td>291.270721</td>\n",
       "      <td>100171.132812</td>\n",
       "      <td>27.919706</td>\n",
       "    </tr>\n",
       "    <tr>\n",
       "      <th>...</th>\n",
       "      <td>...</td>\n",
       "      <td>...</td>\n",
       "      <td>...</td>\n",
       "    </tr>\n",
       "    <tr>\n",
       "      <th>2020-04-26</th>\n",
       "      <td>289.346375</td>\n",
       "      <td>99010.437500</td>\n",
       "      <td>14.631294</td>\n",
       "    </tr>\n",
       "    <tr>\n",
       "      <th>2020-04-27</th>\n",
       "      <td>289.555847</td>\n",
       "      <td>99756.703125</td>\n",
       "      <td>10.016919</td>\n",
       "    </tr>\n",
       "    <tr>\n",
       "      <th>2020-04-28</th>\n",
       "      <td>289.001801</td>\n",
       "      <td>100587.687500</td>\n",
       "      <td>9.099380</td>\n",
       "    </tr>\n",
       "    <tr>\n",
       "      <th>2020-04-29</th>\n",
       "      <td>288.899017</td>\n",
       "      <td>100384.835938</td>\n",
       "      <td>8.654546</td>\n",
       "    </tr>\n",
       "    <tr>\n",
       "      <th>2020-04-30</th>\n",
       "      <td>289.120880</td>\n",
       "      <td>99895.953125</td>\n",
       "      <td>7.655159</td>\n",
       "    </tr>\n",
       "  </tbody>\n",
       "</table>\n",
       "<p>8887 rows × 3 columns</p>\n",
       "</div>"
      ],
      "text/plain": [
       "                  temp             sp        tcw\n",
       "time                                            \n",
       "1996-01-01  291.062653  100065.085938  16.694519\n",
       "1996-01-02  291.310394   99552.078125  12.764560\n",
       "1996-01-03  291.758911   99446.812500  18.472071\n",
       "1996-01-04  291.247406   99894.804688  25.320429\n",
       "1996-01-05  291.270721  100171.132812  27.919706\n",
       "...                ...            ...        ...\n",
       "2020-04-26  289.346375   99010.437500  14.631294\n",
       "2020-04-27  289.555847   99756.703125  10.016919\n",
       "2020-04-28  289.001801  100587.687500   9.099380\n",
       "2020-04-29  288.899017  100384.835938   8.654546\n",
       "2020-04-30  289.120880   99895.953125   7.655159\n",
       "\n",
       "[8887 rows x 3 columns]"
      ]
     },
     "execution_count": 16,
     "metadata": {},
     "output_type": "execute_result"
    }
   ],
   "source": [
    "# Changing index of H2 with the index of H1 because we want only dates in the index\n",
    "H3 = H2.set_index(H1.index)\n",
    "H3"
   ]
  },
  {
   "cell_type": "code",
   "execution_count": 17,
   "metadata": {},
   "outputs": [
    {
     "data": {
      "text/html": [
       "<div>\n",
       "<style scoped>\n",
       "    .dataframe tbody tr th:only-of-type {\n",
       "        vertical-align: middle;\n",
       "    }\n",
       "\n",
       "    .dataframe tbody tr th {\n",
       "        vertical-align: top;\n",
       "    }\n",
       "\n",
       "    .dataframe thead th {\n",
       "        text-align: right;\n",
       "    }\n",
       "</style>\n",
       "<table border=\"1\" class=\"dataframe\">\n",
       "  <thead>\n",
       "    <tr style=\"text-align: right;\">\n",
       "      <th></th>\n",
       "      <th>temp1</th>\n",
       "      <th>temp2</th>\n",
       "      <th>SP1</th>\n",
       "      <th>SP2</th>\n",
       "      <th>tcw1</th>\n",
       "      <th>tcw2</th>\n",
       "    </tr>\n",
       "    <tr>\n",
       "      <th>time</th>\n",
       "      <th></th>\n",
       "      <th></th>\n",
       "      <th></th>\n",
       "      <th></th>\n",
       "      <th></th>\n",
       "      <th></th>\n",
       "    </tr>\n",
       "  </thead>\n",
       "  <tbody>\n",
       "    <tr>\n",
       "      <th>1996-01-01</th>\n",
       "      <td>290.853851</td>\n",
       "      <td>291.062653</td>\n",
       "      <td>100175.007812</td>\n",
       "      <td>100065.085938</td>\n",
       "      <td>16.728743</td>\n",
       "      <td>16.694519</td>\n",
       "    </tr>\n",
       "    <tr>\n",
       "      <th>1996-01-02</th>\n",
       "      <td>291.241852</td>\n",
       "      <td>291.310394</td>\n",
       "      <td>100039.437500</td>\n",
       "      <td>99552.078125</td>\n",
       "      <td>17.240368</td>\n",
       "      <td>12.764560</td>\n",
       "    </tr>\n",
       "    <tr>\n",
       "      <th>1996-01-03</th>\n",
       "      <td>291.230896</td>\n",
       "      <td>291.758911</td>\n",
       "      <td>99499.601562</td>\n",
       "      <td>99446.812500</td>\n",
       "      <td>12.797529</td>\n",
       "      <td>18.472071</td>\n",
       "    </tr>\n",
       "    <tr>\n",
       "      <th>1996-01-04</th>\n",
       "      <td>292.104889</td>\n",
       "      <td>291.247406</td>\n",
       "      <td>99463.914062</td>\n",
       "      <td>99894.804688</td>\n",
       "      <td>19.124949</td>\n",
       "      <td>25.320429</td>\n",
       "    </tr>\n",
       "    <tr>\n",
       "      <th>1996-01-05</th>\n",
       "      <td>291.501343</td>\n",
       "      <td>291.270721</td>\n",
       "      <td>99918.070312</td>\n",
       "      <td>100171.132812</td>\n",
       "      <td>25.928146</td>\n",
       "      <td>27.919706</td>\n",
       "    </tr>\n",
       "    <tr>\n",
       "      <th>...</th>\n",
       "      <td>...</td>\n",
       "      <td>...</td>\n",
       "      <td>...</td>\n",
       "      <td>...</td>\n",
       "      <td>...</td>\n",
       "      <td>...</td>\n",
       "    </tr>\n",
       "    <tr>\n",
       "      <th>2020-04-26</th>\n",
       "      <td>289.416504</td>\n",
       "      <td>289.346375</td>\n",
       "      <td>99358.414062</td>\n",
       "      <td>99010.437500</td>\n",
       "      <td>14.770068</td>\n",
       "      <td>14.631294</td>\n",
       "    </tr>\n",
       "    <tr>\n",
       "      <th>2020-04-27</th>\n",
       "      <td>289.074646</td>\n",
       "      <td>289.555847</td>\n",
       "      <td>98926.929688</td>\n",
       "      <td>99756.703125</td>\n",
       "      <td>15.679741</td>\n",
       "      <td>10.016919</td>\n",
       "    </tr>\n",
       "    <tr>\n",
       "      <th>2020-04-28</th>\n",
       "      <td>289.660126</td>\n",
       "      <td>289.001801</td>\n",
       "      <td>99807.992188</td>\n",
       "      <td>100587.687500</td>\n",
       "      <td>10.210015</td>\n",
       "      <td>9.099380</td>\n",
       "    </tr>\n",
       "    <tr>\n",
       "      <th>2020-04-29</th>\n",
       "      <td>289.154694</td>\n",
       "      <td>288.899017</td>\n",
       "      <td>100527.953125</td>\n",
       "      <td>100384.835938</td>\n",
       "      <td>10.025865</td>\n",
       "      <td>8.654546</td>\n",
       "    </tr>\n",
       "    <tr>\n",
       "      <th>2020-04-30</th>\n",
       "      <td>288.659546</td>\n",
       "      <td>289.120880</td>\n",
       "      <td>100231.703125</td>\n",
       "      <td>99895.953125</td>\n",
       "      <td>8.651578</td>\n",
       "      <td>7.655159</td>\n",
       "    </tr>\n",
       "  </tbody>\n",
       "</table>\n",
       "<p>8887 rows × 6 columns</p>\n",
       "</div>"
      ],
      "text/plain": [
       "                 temp1       temp2            SP1            SP2       tcw1  \\\n",
       "time                                                                          \n",
       "1996-01-01  290.853851  291.062653  100175.007812  100065.085938  16.728743   \n",
       "1996-01-02  291.241852  291.310394  100039.437500   99552.078125  17.240368   \n",
       "1996-01-03  291.230896  291.758911   99499.601562   99446.812500  12.797529   \n",
       "1996-01-04  292.104889  291.247406   99463.914062   99894.804688  19.124949   \n",
       "1996-01-05  291.501343  291.270721   99918.070312  100171.132812  25.928146   \n",
       "...                ...         ...            ...            ...        ...   \n",
       "2020-04-26  289.416504  289.346375   99358.414062   99010.437500  14.770068   \n",
       "2020-04-27  289.074646  289.555847   98926.929688   99756.703125  15.679741   \n",
       "2020-04-28  289.660126  289.001801   99807.992188  100587.687500  10.210015   \n",
       "2020-04-29  289.154694  288.899017  100527.953125  100384.835938  10.025865   \n",
       "2020-04-30  288.659546  289.120880  100231.703125   99895.953125   8.651578   \n",
       "\n",
       "                 tcw2  \n",
       "time                   \n",
       "1996-01-01  16.694519  \n",
       "1996-01-02  12.764560  \n",
       "1996-01-03  18.472071  \n",
       "1996-01-04  25.320429  \n",
       "1996-01-05  27.919706  \n",
       "...               ...  \n",
       "2020-04-26  14.631294  \n",
       "2020-04-27  10.016919  \n",
       "2020-04-28   9.099380  \n",
       "2020-04-29   8.654546  \n",
       "2020-04-30   7.655159  \n",
       "\n",
       "[8887 rows x 6 columns]"
      ]
     },
     "execution_count": 17,
     "metadata": {},
     "output_type": "execute_result"
    }
   ],
   "source": [
    "# Creating new dataframe that will hold temp, sp, tcw columns seperately for 0 and 23 hour\n",
    "\n",
    "Main_data = pd.DataFrame()\n",
    "Main_data['temp1'] = H1['temp']\n",
    "Main_data['temp2'] = H3['temp']\n",
    "Main_data['SP1'] = H1['sp']\n",
    "Main_data['SP2'] = H3['sp']\n",
    "Main_data['tcw1'] = H1['tcw']\n",
    "Main_data['tcw2'] = H3['tcw']\n",
    "Main_data"
   ]
  },
  {
   "cell_type": "code",
   "execution_count": 18,
   "metadata": {},
   "outputs": [
    {
     "data": {
      "text/html": [
       "<div>\n",
       "<style scoped>\n",
       "    .dataframe tbody tr th:only-of-type {\n",
       "        vertical-align: middle;\n",
       "    }\n",
       "\n",
       "    .dataframe tbody tr th {\n",
       "        vertical-align: top;\n",
       "    }\n",
       "\n",
       "    .dataframe thead th {\n",
       "        text-align: right;\n",
       "    }\n",
       "</style>\n",
       "<table border=\"1\" class=\"dataframe\">\n",
       "  <thead>\n",
       "    <tr style=\"text-align: right;\">\n",
       "      <th></th>\n",
       "      <th>Unnamed: 12</th>\n",
       "      <th>rain</th>\n",
       "    </tr>\n",
       "    <tr>\n",
       "      <th>Event date</th>\n",
       "      <th></th>\n",
       "      <th></th>\n",
       "    </tr>\n",
       "  </thead>\n",
       "  <tbody>\n",
       "    <tr>\n",
       "      <th>1996-09-24</th>\n",
       "      <td>1T</td>\n",
       "      <td>0</td>\n",
       "    </tr>\n",
       "    <tr>\n",
       "      <th>1996-10-01</th>\n",
       "      <td>3W</td>\n",
       "      <td>0</td>\n",
       "    </tr>\n",
       "    <tr>\n",
       "      <th>1996-10-12</th>\n",
       "      <td>3R;3W</td>\n",
       "      <td>1</td>\n",
       "    </tr>\n",
       "    <tr>\n",
       "      <th>1996-11-18</th>\n",
       "      <td>3W</td>\n",
       "      <td>0</td>\n",
       "    </tr>\n",
       "    <tr>\n",
       "      <th>1997-03-11</th>\n",
       "      <td>\\n</td>\n",
       "      <td>0</td>\n",
       "    </tr>\n",
       "    <tr>\n",
       "      <th>...</th>\n",
       "      <td>...</td>\n",
       "      <td>...</td>\n",
       "    </tr>\n",
       "    <tr>\n",
       "      <th>2018-12-02</th>\n",
       "      <td>3C</td>\n",
       "      <td>0</td>\n",
       "    </tr>\n",
       "    <tr>\n",
       "      <th>2018-12-03</th>\n",
       "      <td>2C</td>\n",
       "      <td>0</td>\n",
       "    </tr>\n",
       "    <tr>\n",
       "      <th>2019-03-08</th>\n",
       "      <td>3R</td>\n",
       "      <td>1</td>\n",
       "    </tr>\n",
       "    <tr>\n",
       "      <th>2019-12-08</th>\n",
       "      <td>2R</td>\n",
       "      <td>1</td>\n",
       "    </tr>\n",
       "    <tr>\n",
       "      <th>2019-12-20</th>\n",
       "      <td>3W</td>\n",
       "      <td>0</td>\n",
       "    </tr>\n",
       "  </tbody>\n",
       "</table>\n",
       "<p>226 rows × 2 columns</p>\n",
       "</div>"
      ],
      "text/plain": [
       "           Unnamed: 12  rain\n",
       "Event date                  \n",
       "1996-09-24          1T     0\n",
       "1996-10-01          3W     0\n",
       "1996-10-12       3R;3W     1\n",
       "1996-11-18          3W     0\n",
       "1997-03-11          \\n     0\n",
       "...                ...   ...\n",
       "2018-12-02          3C     0\n",
       "2018-12-03          2C     0\n",
       "2019-03-08          3R     1\n",
       "2019-12-08          2R     1\n",
       "2019-12-20          3W     0\n",
       "\n",
       "[226 rows x 2 columns]"
      ]
     },
     "execution_count": 18,
     "metadata": {},
     "output_type": "execute_result"
    }
   ],
   "source": [
    "# changing the index of sh4 with sh2 because we want to join this dataframe with main_data dataframe\n",
    "sh4 = sh2.set_index('Event date')\n",
    "sh4"
   ]
  },
  {
   "cell_type": "code",
   "execution_count": 19,
   "metadata": {},
   "outputs": [
    {
     "data": {
      "text/html": [
       "<div>\n",
       "<style scoped>\n",
       "    .dataframe tbody tr th:only-of-type {\n",
       "        vertical-align: middle;\n",
       "    }\n",
       "\n",
       "    .dataframe tbody tr th {\n",
       "        vertical-align: top;\n",
       "    }\n",
       "\n",
       "    .dataframe thead th {\n",
       "        text-align: right;\n",
       "    }\n",
       "</style>\n",
       "<table border=\"1\" class=\"dataframe\">\n",
       "  <thead>\n",
       "    <tr style=\"text-align: right;\">\n",
       "      <th></th>\n",
       "      <th>temp1</th>\n",
       "      <th>temp2</th>\n",
       "      <th>SP1</th>\n",
       "      <th>SP2</th>\n",
       "      <th>tcw1</th>\n",
       "      <th>tcw2</th>\n",
       "      <th>Unnamed: 12</th>\n",
       "      <th>rain</th>\n",
       "    </tr>\n",
       "    <tr>\n",
       "      <th>time</th>\n",
       "      <th></th>\n",
       "      <th></th>\n",
       "      <th></th>\n",
       "      <th></th>\n",
       "      <th></th>\n",
       "      <th></th>\n",
       "      <th></th>\n",
       "      <th></th>\n",
       "    </tr>\n",
       "  </thead>\n",
       "  <tbody>\n",
       "    <tr>\n",
       "      <th>1996-01-01</th>\n",
       "      <td>290.853851</td>\n",
       "      <td>291.062653</td>\n",
       "      <td>100175.007812</td>\n",
       "      <td>100065.085938</td>\n",
       "      <td>16.728743</td>\n",
       "      <td>16.694519</td>\n",
       "      <td>NaN</td>\n",
       "      <td>NaN</td>\n",
       "    </tr>\n",
       "    <tr>\n",
       "      <th>1996-01-02</th>\n",
       "      <td>291.241852</td>\n",
       "      <td>291.310394</td>\n",
       "      <td>100039.437500</td>\n",
       "      <td>99552.078125</td>\n",
       "      <td>17.240368</td>\n",
       "      <td>12.764560</td>\n",
       "      <td>NaN</td>\n",
       "      <td>NaN</td>\n",
       "    </tr>\n",
       "    <tr>\n",
       "      <th>1996-01-03</th>\n",
       "      <td>291.230896</td>\n",
       "      <td>291.758911</td>\n",
       "      <td>99499.601562</td>\n",
       "      <td>99446.812500</td>\n",
       "      <td>12.797529</td>\n",
       "      <td>18.472071</td>\n",
       "      <td>NaN</td>\n",
       "      <td>NaN</td>\n",
       "    </tr>\n",
       "    <tr>\n",
       "      <th>1996-01-04</th>\n",
       "      <td>292.104889</td>\n",
       "      <td>291.247406</td>\n",
       "      <td>99463.914062</td>\n",
       "      <td>99894.804688</td>\n",
       "      <td>19.124949</td>\n",
       "      <td>25.320429</td>\n",
       "      <td>NaN</td>\n",
       "      <td>NaN</td>\n",
       "    </tr>\n",
       "    <tr>\n",
       "      <th>1996-01-05</th>\n",
       "      <td>291.501343</td>\n",
       "      <td>291.270721</td>\n",
       "      <td>99918.070312</td>\n",
       "      <td>100171.132812</td>\n",
       "      <td>25.928146</td>\n",
       "      <td>27.919706</td>\n",
       "      <td>NaN</td>\n",
       "      <td>NaN</td>\n",
       "    </tr>\n",
       "    <tr>\n",
       "      <th>...</th>\n",
       "      <td>...</td>\n",
       "      <td>...</td>\n",
       "      <td>...</td>\n",
       "      <td>...</td>\n",
       "      <td>...</td>\n",
       "      <td>...</td>\n",
       "      <td>...</td>\n",
       "      <td>...</td>\n",
       "    </tr>\n",
       "    <tr>\n",
       "      <th>2020-04-26</th>\n",
       "      <td>289.416504</td>\n",
       "      <td>289.346375</td>\n",
       "      <td>99358.414062</td>\n",
       "      <td>99010.437500</td>\n",
       "      <td>14.770068</td>\n",
       "      <td>14.631294</td>\n",
       "      <td>NaN</td>\n",
       "      <td>NaN</td>\n",
       "    </tr>\n",
       "    <tr>\n",
       "      <th>2020-04-27</th>\n",
       "      <td>289.074646</td>\n",
       "      <td>289.555847</td>\n",
       "      <td>98926.929688</td>\n",
       "      <td>99756.703125</td>\n",
       "      <td>15.679741</td>\n",
       "      <td>10.016919</td>\n",
       "      <td>NaN</td>\n",
       "      <td>NaN</td>\n",
       "    </tr>\n",
       "    <tr>\n",
       "      <th>2020-04-28</th>\n",
       "      <td>289.660126</td>\n",
       "      <td>289.001801</td>\n",
       "      <td>99807.992188</td>\n",
       "      <td>100587.687500</td>\n",
       "      <td>10.210015</td>\n",
       "      <td>9.099380</td>\n",
       "      <td>NaN</td>\n",
       "      <td>NaN</td>\n",
       "    </tr>\n",
       "    <tr>\n",
       "      <th>2020-04-29</th>\n",
       "      <td>289.154694</td>\n",
       "      <td>288.899017</td>\n",
       "      <td>100527.953125</td>\n",
       "      <td>100384.835938</td>\n",
       "      <td>10.025865</td>\n",
       "      <td>8.654546</td>\n",
       "      <td>NaN</td>\n",
       "      <td>NaN</td>\n",
       "    </tr>\n",
       "    <tr>\n",
       "      <th>2020-04-30</th>\n",
       "      <td>288.659546</td>\n",
       "      <td>289.120880</td>\n",
       "      <td>100231.703125</td>\n",
       "      <td>99895.953125</td>\n",
       "      <td>8.651578</td>\n",
       "      <td>7.655159</td>\n",
       "      <td>NaN</td>\n",
       "      <td>NaN</td>\n",
       "    </tr>\n",
       "  </tbody>\n",
       "</table>\n",
       "<p>8887 rows × 8 columns</p>\n",
       "</div>"
      ],
      "text/plain": [
       "                 temp1       temp2            SP1            SP2       tcw1  \\\n",
       "time                                                                          \n",
       "1996-01-01  290.853851  291.062653  100175.007812  100065.085938  16.728743   \n",
       "1996-01-02  291.241852  291.310394  100039.437500   99552.078125  17.240368   \n",
       "1996-01-03  291.230896  291.758911   99499.601562   99446.812500  12.797529   \n",
       "1996-01-04  292.104889  291.247406   99463.914062   99894.804688  19.124949   \n",
       "1996-01-05  291.501343  291.270721   99918.070312  100171.132812  25.928146   \n",
       "...                ...         ...            ...            ...        ...   \n",
       "2020-04-26  289.416504  289.346375   99358.414062   99010.437500  14.770068   \n",
       "2020-04-27  289.074646  289.555847   98926.929688   99756.703125  15.679741   \n",
       "2020-04-28  289.660126  289.001801   99807.992188  100587.687500  10.210015   \n",
       "2020-04-29  289.154694  288.899017  100527.953125  100384.835938  10.025865   \n",
       "2020-04-30  288.659546  289.120880  100231.703125   99895.953125   8.651578   \n",
       "\n",
       "                 tcw2 Unnamed: 12  rain  \n",
       "time                                     \n",
       "1996-01-01  16.694519         NaN   NaN  \n",
       "1996-01-02  12.764560         NaN   NaN  \n",
       "1996-01-03  18.472071         NaN   NaN  \n",
       "1996-01-04  25.320429         NaN   NaN  \n",
       "1996-01-05  27.919706         NaN   NaN  \n",
       "...               ...         ...   ...  \n",
       "2020-04-26  14.631294         NaN   NaN  \n",
       "2020-04-27  10.016919         NaN   NaN  \n",
       "2020-04-28   9.099380         NaN   NaN  \n",
       "2020-04-29   8.654546         NaN   NaN  \n",
       "2020-04-30   7.655159         NaN   NaN  \n",
       "\n",
       "[8887 rows x 8 columns]"
      ]
     },
     "execution_count": 19,
     "metadata": {},
     "output_type": "execute_result"
    }
   ],
   "source": [
    "# Joining main_data and sh4 dataframes\n",
    "Fin_data = Main_data.join(sh4)\n",
    "Fin_data"
   ]
  },
  {
   "cell_type": "code",
   "execution_count": 20,
   "metadata": {},
   "outputs": [],
   "source": [
    "# Replacing nan with 0 in the rain column\n",
    "Fin_data['rain'] = Fin_data['rain'].fillna(0)\n",
    "Fin_data = Fin_data.drop('Unnamed: 12', axis=1)"
   ]
  },
  {
   "cell_type": "markdown",
   "metadata": {},
   "source": [
    "### Final dataframe"
   ]
  },
  {
   "cell_type": "code",
   "execution_count": 21,
   "metadata": {},
   "outputs": [
    {
     "data": {
      "text/html": [
       "<div>\n",
       "<style scoped>\n",
       "    .dataframe tbody tr th:only-of-type {\n",
       "        vertical-align: middle;\n",
       "    }\n",
       "\n",
       "    .dataframe tbody tr th {\n",
       "        vertical-align: top;\n",
       "    }\n",
       "\n",
       "    .dataframe thead th {\n",
       "        text-align: right;\n",
       "    }\n",
       "</style>\n",
       "<table border=\"1\" class=\"dataframe\">\n",
       "  <thead>\n",
       "    <tr style=\"text-align: right;\">\n",
       "      <th></th>\n",
       "      <th>temp1</th>\n",
       "      <th>temp2</th>\n",
       "      <th>SP1</th>\n",
       "      <th>SP2</th>\n",
       "      <th>tcw1</th>\n",
       "      <th>tcw2</th>\n",
       "      <th>rain</th>\n",
       "    </tr>\n",
       "    <tr>\n",
       "      <th>time</th>\n",
       "      <th></th>\n",
       "      <th></th>\n",
       "      <th></th>\n",
       "      <th></th>\n",
       "      <th></th>\n",
       "      <th></th>\n",
       "      <th></th>\n",
       "    </tr>\n",
       "  </thead>\n",
       "  <tbody>\n",
       "    <tr>\n",
       "      <th>1996-01-01</th>\n",
       "      <td>290.853851</td>\n",
       "      <td>291.062653</td>\n",
       "      <td>100175.007812</td>\n",
       "      <td>100065.085938</td>\n",
       "      <td>16.728743</td>\n",
       "      <td>16.694519</td>\n",
       "      <td>0.0</td>\n",
       "    </tr>\n",
       "    <tr>\n",
       "      <th>1996-01-02</th>\n",
       "      <td>291.241852</td>\n",
       "      <td>291.310394</td>\n",
       "      <td>100039.437500</td>\n",
       "      <td>99552.078125</td>\n",
       "      <td>17.240368</td>\n",
       "      <td>12.764560</td>\n",
       "      <td>0.0</td>\n",
       "    </tr>\n",
       "    <tr>\n",
       "      <th>1996-01-03</th>\n",
       "      <td>291.230896</td>\n",
       "      <td>291.758911</td>\n",
       "      <td>99499.601562</td>\n",
       "      <td>99446.812500</td>\n",
       "      <td>12.797529</td>\n",
       "      <td>18.472071</td>\n",
       "      <td>0.0</td>\n",
       "    </tr>\n",
       "    <tr>\n",
       "      <th>1996-01-04</th>\n",
       "      <td>292.104889</td>\n",
       "      <td>291.247406</td>\n",
       "      <td>99463.914062</td>\n",
       "      <td>99894.804688</td>\n",
       "      <td>19.124949</td>\n",
       "      <td>25.320429</td>\n",
       "      <td>0.0</td>\n",
       "    </tr>\n",
       "    <tr>\n",
       "      <th>1996-01-05</th>\n",
       "      <td>291.501343</td>\n",
       "      <td>291.270721</td>\n",
       "      <td>99918.070312</td>\n",
       "      <td>100171.132812</td>\n",
       "      <td>25.928146</td>\n",
       "      <td>27.919706</td>\n",
       "      <td>0.0</td>\n",
       "    </tr>\n",
       "    <tr>\n",
       "      <th>...</th>\n",
       "      <td>...</td>\n",
       "      <td>...</td>\n",
       "      <td>...</td>\n",
       "      <td>...</td>\n",
       "      <td>...</td>\n",
       "      <td>...</td>\n",
       "      <td>...</td>\n",
       "    </tr>\n",
       "    <tr>\n",
       "      <th>2020-04-26</th>\n",
       "      <td>289.416504</td>\n",
       "      <td>289.346375</td>\n",
       "      <td>99358.414062</td>\n",
       "      <td>99010.437500</td>\n",
       "      <td>14.770068</td>\n",
       "      <td>14.631294</td>\n",
       "      <td>0.0</td>\n",
       "    </tr>\n",
       "    <tr>\n",
       "      <th>2020-04-27</th>\n",
       "      <td>289.074646</td>\n",
       "      <td>289.555847</td>\n",
       "      <td>98926.929688</td>\n",
       "      <td>99756.703125</td>\n",
       "      <td>15.679741</td>\n",
       "      <td>10.016919</td>\n",
       "      <td>0.0</td>\n",
       "    </tr>\n",
       "    <tr>\n",
       "      <th>2020-04-28</th>\n",
       "      <td>289.660126</td>\n",
       "      <td>289.001801</td>\n",
       "      <td>99807.992188</td>\n",
       "      <td>100587.687500</td>\n",
       "      <td>10.210015</td>\n",
       "      <td>9.099380</td>\n",
       "      <td>0.0</td>\n",
       "    </tr>\n",
       "    <tr>\n",
       "      <th>2020-04-29</th>\n",
       "      <td>289.154694</td>\n",
       "      <td>288.899017</td>\n",
       "      <td>100527.953125</td>\n",
       "      <td>100384.835938</td>\n",
       "      <td>10.025865</td>\n",
       "      <td>8.654546</td>\n",
       "      <td>0.0</td>\n",
       "    </tr>\n",
       "    <tr>\n",
       "      <th>2020-04-30</th>\n",
       "      <td>288.659546</td>\n",
       "      <td>289.120880</td>\n",
       "      <td>100231.703125</td>\n",
       "      <td>99895.953125</td>\n",
       "      <td>8.651578</td>\n",
       "      <td>7.655159</td>\n",
       "      <td>0.0</td>\n",
       "    </tr>\n",
       "  </tbody>\n",
       "</table>\n",
       "<p>8887 rows × 7 columns</p>\n",
       "</div>"
      ],
      "text/plain": [
       "                 temp1       temp2            SP1            SP2       tcw1  \\\n",
       "time                                                                          \n",
       "1996-01-01  290.853851  291.062653  100175.007812  100065.085938  16.728743   \n",
       "1996-01-02  291.241852  291.310394  100039.437500   99552.078125  17.240368   \n",
       "1996-01-03  291.230896  291.758911   99499.601562   99446.812500  12.797529   \n",
       "1996-01-04  292.104889  291.247406   99463.914062   99894.804688  19.124949   \n",
       "1996-01-05  291.501343  291.270721   99918.070312  100171.132812  25.928146   \n",
       "...                ...         ...            ...            ...        ...   \n",
       "2020-04-26  289.416504  289.346375   99358.414062   99010.437500  14.770068   \n",
       "2020-04-27  289.074646  289.555847   98926.929688   99756.703125  15.679741   \n",
       "2020-04-28  289.660126  289.001801   99807.992188  100587.687500  10.210015   \n",
       "2020-04-29  289.154694  288.899017  100527.953125  100384.835938  10.025865   \n",
       "2020-04-30  288.659546  289.120880  100231.703125   99895.953125   8.651578   \n",
       "\n",
       "                 tcw2  rain  \n",
       "time                         \n",
       "1996-01-01  16.694519   0.0  \n",
       "1996-01-02  12.764560   0.0  \n",
       "1996-01-03  18.472071   0.0  \n",
       "1996-01-04  25.320429   0.0  \n",
       "1996-01-05  27.919706   0.0  \n",
       "...               ...   ...  \n",
       "2020-04-26  14.631294   0.0  \n",
       "2020-04-27  10.016919   0.0  \n",
       "2020-04-28   9.099380   0.0  \n",
       "2020-04-29   8.654546   0.0  \n",
       "2020-04-30   7.655159   0.0  \n",
       "\n",
       "[8887 rows x 7 columns]"
      ]
     },
     "execution_count": 21,
     "metadata": {},
     "output_type": "execute_result"
    }
   ],
   "source": [
    "Fin_data"
   ]
  },
  {
   "cell_type": "code",
   "execution_count": 62,
   "metadata": {},
   "outputs": [],
   "source": [
    "Fin_data.to_csv('dataframe.csv', sep='\\t')"
   ]
  },
  {
   "cell_type": "code",
   "execution_count": 36,
   "metadata": {},
   "outputs": [
    {
     "data": {
      "text/plain": [
       "0.0    8811\n",
       "1.0      76\n",
       "Name: rain, dtype: int64"
      ]
     },
     "execution_count": 36,
     "metadata": {},
     "output_type": "execute_result"
    }
   ],
   "source": [
    "# To see total counts for 1 and 0\n",
    "Fin_data.rain.value_counts()"
   ]
  },
  {
   "cell_type": "code",
   "execution_count": 178,
   "metadata": {},
   "outputs": [
    {
     "data": {
      "text/plain": [
       "1.0"
      ]
     },
     "execution_count": 178,
     "metadata": {},
     "output_type": "execute_result"
    }
   ],
   "source": [
    "Fin_data.rain['2019-12-08']"
   ]
  },
  {
   "cell_type": "code",
   "execution_count": 179,
   "metadata": {},
   "outputs": [
    {
     "data": {
      "text/plain": [
       "0.0"
      ]
     },
     "execution_count": 179,
     "metadata": {},
     "output_type": "execute_result"
    }
   ],
   "source": [
    "Fin_data.rain['2019-12-20']"
   ]
  },
  {
   "cell_type": "markdown",
   "metadata": {},
   "source": [
    "# Modelling"
   ]
  },
  {
   "cell_type": "code",
   "execution_count": 22,
   "metadata": {},
   "outputs": [
    {
     "data": {
      "text/html": [
       "<div>\n",
       "<style scoped>\n",
       "    .dataframe tbody tr th:only-of-type {\n",
       "        vertical-align: middle;\n",
       "    }\n",
       "\n",
       "    .dataframe tbody tr th {\n",
       "        vertical-align: top;\n",
       "    }\n",
       "\n",
       "    .dataframe thead th {\n",
       "        text-align: right;\n",
       "    }\n",
       "</style>\n",
       "<table border=\"1\" class=\"dataframe\">\n",
       "  <thead>\n",
       "    <tr style=\"text-align: right;\">\n",
       "      <th></th>\n",
       "      <th>temp1</th>\n",
       "      <th>temp2</th>\n",
       "      <th>SP1</th>\n",
       "      <th>SP2</th>\n",
       "      <th>tcw1</th>\n",
       "      <th>tcw2</th>\n",
       "    </tr>\n",
       "    <tr>\n",
       "      <th>time</th>\n",
       "      <th></th>\n",
       "      <th></th>\n",
       "      <th></th>\n",
       "      <th></th>\n",
       "      <th></th>\n",
       "      <th></th>\n",
       "    </tr>\n",
       "  </thead>\n",
       "  <tbody>\n",
       "    <tr>\n",
       "      <th>1996-01-01</th>\n",
       "      <td>290.853851</td>\n",
       "      <td>291.062653</td>\n",
       "      <td>100175.007812</td>\n",
       "      <td>100065.085938</td>\n",
       "      <td>16.728743</td>\n",
       "      <td>16.694519</td>\n",
       "    </tr>\n",
       "    <tr>\n",
       "      <th>1996-01-02</th>\n",
       "      <td>291.241852</td>\n",
       "      <td>291.310394</td>\n",
       "      <td>100039.437500</td>\n",
       "      <td>99552.078125</td>\n",
       "      <td>17.240368</td>\n",
       "      <td>12.764560</td>\n",
       "    </tr>\n",
       "    <tr>\n",
       "      <th>1996-01-03</th>\n",
       "      <td>291.230896</td>\n",
       "      <td>291.758911</td>\n",
       "      <td>99499.601562</td>\n",
       "      <td>99446.812500</td>\n",
       "      <td>12.797529</td>\n",
       "      <td>18.472071</td>\n",
       "    </tr>\n",
       "    <tr>\n",
       "      <th>1996-01-04</th>\n",
       "      <td>292.104889</td>\n",
       "      <td>291.247406</td>\n",
       "      <td>99463.914062</td>\n",
       "      <td>99894.804688</td>\n",
       "      <td>19.124949</td>\n",
       "      <td>25.320429</td>\n",
       "    </tr>\n",
       "    <tr>\n",
       "      <th>1996-01-05</th>\n",
       "      <td>291.501343</td>\n",
       "      <td>291.270721</td>\n",
       "      <td>99918.070312</td>\n",
       "      <td>100171.132812</td>\n",
       "      <td>25.928146</td>\n",
       "      <td>27.919706</td>\n",
       "    </tr>\n",
       "    <tr>\n",
       "      <th>...</th>\n",
       "      <td>...</td>\n",
       "      <td>...</td>\n",
       "      <td>...</td>\n",
       "      <td>...</td>\n",
       "      <td>...</td>\n",
       "      <td>...</td>\n",
       "    </tr>\n",
       "    <tr>\n",
       "      <th>2020-04-26</th>\n",
       "      <td>289.416504</td>\n",
       "      <td>289.346375</td>\n",
       "      <td>99358.414062</td>\n",
       "      <td>99010.437500</td>\n",
       "      <td>14.770068</td>\n",
       "      <td>14.631294</td>\n",
       "    </tr>\n",
       "    <tr>\n",
       "      <th>2020-04-27</th>\n",
       "      <td>289.074646</td>\n",
       "      <td>289.555847</td>\n",
       "      <td>98926.929688</td>\n",
       "      <td>99756.703125</td>\n",
       "      <td>15.679741</td>\n",
       "      <td>10.016919</td>\n",
       "    </tr>\n",
       "    <tr>\n",
       "      <th>2020-04-28</th>\n",
       "      <td>289.660126</td>\n",
       "      <td>289.001801</td>\n",
       "      <td>99807.992188</td>\n",
       "      <td>100587.687500</td>\n",
       "      <td>10.210015</td>\n",
       "      <td>9.099380</td>\n",
       "    </tr>\n",
       "    <tr>\n",
       "      <th>2020-04-29</th>\n",
       "      <td>289.154694</td>\n",
       "      <td>288.899017</td>\n",
       "      <td>100527.953125</td>\n",
       "      <td>100384.835938</td>\n",
       "      <td>10.025865</td>\n",
       "      <td>8.654546</td>\n",
       "    </tr>\n",
       "    <tr>\n",
       "      <th>2020-04-30</th>\n",
       "      <td>288.659546</td>\n",
       "      <td>289.120880</td>\n",
       "      <td>100231.703125</td>\n",
       "      <td>99895.953125</td>\n",
       "      <td>8.651578</td>\n",
       "      <td>7.655159</td>\n",
       "    </tr>\n",
       "  </tbody>\n",
       "</table>\n",
       "<p>8887 rows × 6 columns</p>\n",
       "</div>"
      ],
      "text/plain": [
       "                 temp1       temp2            SP1            SP2       tcw1  \\\n",
       "time                                                                          \n",
       "1996-01-01  290.853851  291.062653  100175.007812  100065.085938  16.728743   \n",
       "1996-01-02  291.241852  291.310394  100039.437500   99552.078125  17.240368   \n",
       "1996-01-03  291.230896  291.758911   99499.601562   99446.812500  12.797529   \n",
       "1996-01-04  292.104889  291.247406   99463.914062   99894.804688  19.124949   \n",
       "1996-01-05  291.501343  291.270721   99918.070312  100171.132812  25.928146   \n",
       "...                ...         ...            ...            ...        ...   \n",
       "2020-04-26  289.416504  289.346375   99358.414062   99010.437500  14.770068   \n",
       "2020-04-27  289.074646  289.555847   98926.929688   99756.703125  15.679741   \n",
       "2020-04-28  289.660126  289.001801   99807.992188  100587.687500  10.210015   \n",
       "2020-04-29  289.154694  288.899017  100527.953125  100384.835938  10.025865   \n",
       "2020-04-30  288.659546  289.120880  100231.703125   99895.953125   8.651578   \n",
       "\n",
       "                 tcw2  \n",
       "time                   \n",
       "1996-01-01  16.694519  \n",
       "1996-01-02  12.764560  \n",
       "1996-01-03  18.472071  \n",
       "1996-01-04  25.320429  \n",
       "1996-01-05  27.919706  \n",
       "...               ...  \n",
       "2020-04-26  14.631294  \n",
       "2020-04-27  10.016919  \n",
       "2020-04-28   9.099380  \n",
       "2020-04-29   8.654546  \n",
       "2020-04-30   7.655159  \n",
       "\n",
       "[8887 rows x 6 columns]"
      ]
     },
     "execution_count": 22,
     "metadata": {},
     "output_type": "execute_result"
    }
   ],
   "source": [
    "# Split data into X and Y\n",
    "X = Fin_data.drop('rain', axis=1)\n",
    "Y = Fin_data['rain']\n",
    "X"
   ]
  },
  {
   "cell_type": "code",
   "execution_count": 38,
   "metadata": {},
   "outputs": [
    {
     "data": {
      "text/plain": [
       "time\n",
       "1996-01-01    0.0\n",
       "1996-01-02    0.0\n",
       "1996-01-03    0.0\n",
       "1996-01-04    0.0\n",
       "1996-01-05    0.0\n",
       "             ... \n",
       "2020-04-26    0.0\n",
       "2020-04-27    0.0\n",
       "2020-04-28    0.0\n",
       "2020-04-29    0.0\n",
       "2020-04-30    0.0\n",
       "Name: rain, Length: 8887, dtype: float64"
      ]
     },
     "execution_count": 38,
     "metadata": {},
     "output_type": "execute_result"
    }
   ],
   "source": [
    "Y"
   ]
  },
  {
   "cell_type": "code",
   "execution_count": 39,
   "metadata": {},
   "outputs": [],
   "source": [
    "# Split data into train and test \n",
    "np.random.seed(42)\n",
    "\n",
    "X_train, X_test, Y_train, Y_test = train_test_split(X, Y, test_size=0.2)"
   ]
  },
  {
   "cell_type": "markdown",
   "metadata": {},
   "source": [
    "## Logistic regression"
   ]
  },
  {
   "cell_type": "code",
   "execution_count": 40,
   "metadata": {},
   "outputs": [],
   "source": [
    "# Fit the model to the data\n",
    "\n",
    "model = LogisticRegression()\n",
    "model = model.fit(X_train, Y_train)"
   ]
  },
  {
   "cell_type": "code",
   "execution_count": 41,
   "metadata": {},
   "outputs": [
    {
     "data": {
      "text/plain": [
       "0.9881889763779528"
      ]
     },
     "execution_count": 41,
     "metadata": {},
     "output_type": "execute_result"
    }
   ],
   "source": [
    "# Evaluate the model \n",
    "model.score(X_test, Y_test)"
   ]
  },
  {
   "cell_type": "code",
   "execution_count": 42,
   "metadata": {},
   "outputs": [
    {
     "data": {
      "text/plain": [
       "array([0., 0., 0., ..., 0., 0., 0.])"
      ]
     },
     "execution_count": 42,
     "metadata": {},
     "output_type": "execute_result"
    }
   ],
   "source": [
    "# Y prediction whether 0 or 1\n",
    "Y_predict = model.predict(X_test)\n",
    "Y_predict"
   ]
  },
  {
   "cell_type": "code",
   "execution_count": 34,
   "metadata": {},
   "outputs": [
    {
     "data": {
      "text/plain": [
       "0.0"
      ]
     },
     "execution_count": 34,
     "metadata": {},
     "output_type": "execute_result"
    }
   ],
   "source": [
    "Y_predict.max()"
   ]
  },
  {
   "cell_type": "code",
   "execution_count": 43,
   "metadata": {},
   "outputs": [
    {
     "data": {
      "text/plain": [
       "array([[0.99853757, 0.00146243],\n",
       "       [0.99429271, 0.00570729],\n",
       "       [0.99485888, 0.00514112],\n",
       "       ...,\n",
       "       [0.9975769 , 0.0024231 ],\n",
       "       [0.99686768, 0.00313232],\n",
       "       [0.99299962, 0.00700038]])"
      ]
     },
     "execution_count": 43,
     "metadata": {},
     "output_type": "execute_result"
    }
   ],
   "source": [
    "# probability of prediction of 0 & 1\n",
    "model.predict_proba(X_test)"
   ]
  },
  {
   "cell_type": "code",
   "execution_count": 44,
   "metadata": {},
   "outputs": [
    {
     "data": {
      "text/plain": [
       "array([[1757,    0],\n",
       "       [  21,    0]])"
      ]
     },
     "execution_count": 44,
     "metadata": {},
     "output_type": "execute_result"
    }
   ],
   "source": [
    "confusion_matrix(Y_test, Y_predict)"
   ]
  },
  {
   "cell_type": "code",
   "execution_count": 45,
   "metadata": {},
   "outputs": [
    {
     "name": "stdout",
     "output_type": "stream",
     "text": [
      "[[1757    0]\n",
      " [  21    0]]\n"
     ]
    }
   ],
   "source": [
    "print(confusion_matrix(Y_test, Y_predict))"
   ]
  },
  {
   "cell_type": "code",
   "execution_count": 46,
   "metadata": {},
   "outputs": [
    {
     "data": {
      "image/png": "[encoded data removed]",
      "text/plain": [
       "<Figure size 216x216 with 1 Axes>"
      ]
     },
     "metadata": {},
     "output_type": "display_data"
    }
   ],
   "source": [
    "sns.set(font_scale=1.5)\n",
    "\n",
    "def plot_confusion_mat(Y_test, Y_predict):\n",
    "    \"\"\"\n",
    "    Plot a nice looking confusion matrix using seaborn's heatmap()\n",
    "    \"\"\"\n",
    "    fig, ax = plt.subplots(figsize=(3,3))\n",
    "    ax = sns.heatmap(confusion_matrix(Y_test, Y_predict), \n",
    "                    annot = True,\n",
    "                    cbar=False)\n",
    "    plt.xlabel('True label')\n",
    "    plt.ylabel('Predicted label')\n",
    "    \n",
    "    bottom, top = ax.get_ylim()\n",
    "    #ax.set_ylim(bottom + 0.5, top - 0.5)\n",
    "    \n",
    "plot_confusion_mat(Y_test, Y_predict)    "
   ]
  },
  {
   "cell_type": "code",
   "execution_count": 43,
   "metadata": {},
   "outputs": [
    {
     "name": "stdout",
     "output_type": "stream",
     "text": [
      "              precision    recall  f1-score   support\n",
      "\n",
      "         0.0       0.99      1.00      0.99      1757\n",
      "         1.0       0.00      0.00      0.00        21\n",
      "\n",
      "    accuracy                           0.99      1778\n",
      "   macro avg       0.49      0.50      0.50      1778\n",
      "weighted avg       0.98      0.99      0.98      1778\n",
      "\n"
     ]
    },
    {
     "name": "stderr",
     "output_type": "stream",
     "text": [
      "/home/fareeda/miniconda3/envs/bs38/lib/python3.8/site-packages/sklearn/metrics/_classification.py:1272: UndefinedMetricWarning: Precision and F-score are ill-defined and being set to 0.0 in labels with no predicted samples. Use `zero_division` parameter to control this behavior.\n",
      "  _warn_prf(average, modifier, msg_start, len(result))\n"
     ]
    }
   ],
   "source": [
    "print(classification_report(Y_test, Y_predict))"
   ]
  },
  {
   "cell_type": "code",
   "execution_count": 57,
   "metadata": {},
   "outputs": [
    {
     "data": {
      "text/plain": [
       "0.0"
      ]
     },
     "execution_count": 57,
     "metadata": {},
     "output_type": "execute_result"
    }
   ],
   "source": [
    "f1_score(Y_test, Y_predict)"
   ]
  },
  {
   "cell_type": "code",
   "execution_count": 58,
   "metadata": {},
   "outputs": [
    {
     "data": {
      "text/plain": [
       "0.0"
      ]
     },
     "execution_count": 58,
     "metadata": {},
     "output_type": "execute_result"
    }
   ],
   "source": [
    "recall_score(Y_test, Y_predict)"
   ]
  },
  {
   "cell_type": "code",
   "execution_count": 52,
   "metadata": {
    "collapsed": true,
    "jupyter": {
     "outputs_hidden": true
    }
   },
   "outputs": [
    {
     "data": {
      "text/html": [
       "<div>\n",
       "<style scoped>\n",
       "    .dataframe tbody tr th:only-of-type {\n",
       "        vertical-align: middle;\n",
       "    }\n",
       "\n",
       "    .dataframe tbody tr th {\n",
       "        vertical-align: top;\n",
       "    }\n",
       "\n",
       "    .dataframe thead th {\n",
       "        text-align: right;\n",
       "    }\n",
       "</style>\n",
       "<table border=\"1\" class=\"dataframe\">\n",
       "  <thead>\n",
       "    <tr style=\"text-align: right;\">\n",
       "      <th></th>\n",
       "      <th>0</th>\n",
       "    </tr>\n",
       "  </thead>\n",
       "  <tbody>\n",
       "    <tr>\n",
       "      <th>0</th>\n",
       "      <td>0.0</td>\n",
       "    </tr>\n",
       "    <tr>\n",
       "      <th>1</th>\n",
       "      <td>0.0</td>\n",
       "    </tr>\n",
       "    <tr>\n",
       "      <th>2</th>\n",
       "      <td>0.0</td>\n",
       "    </tr>\n",
       "    <tr>\n",
       "      <th>3</th>\n",
       "      <td>0.0</td>\n",
       "    </tr>\n",
       "    <tr>\n",
       "      <th>4</th>\n",
       "      <td>0.0</td>\n",
       "    </tr>\n",
       "    <tr>\n",
       "      <th>...</th>\n",
       "      <td>...</td>\n",
       "    </tr>\n",
       "    <tr>\n",
       "      <th>1773</th>\n",
       "      <td>0.0</td>\n",
       "    </tr>\n",
       "    <tr>\n",
       "      <th>1774</th>\n",
       "      <td>0.0</td>\n",
       "    </tr>\n",
       "    <tr>\n",
       "      <th>1775</th>\n",
       "      <td>0.0</td>\n",
       "    </tr>\n",
       "    <tr>\n",
       "      <th>1776</th>\n",
       "      <td>0.0</td>\n",
       "    </tr>\n",
       "    <tr>\n",
       "      <th>1777</th>\n",
       "      <td>0.0</td>\n",
       "    </tr>\n",
       "  </tbody>\n",
       "</table>\n",
       "<p>1778 rows × 1 columns</p>\n",
       "</div>"
      ],
      "text/plain": [
       "        0\n",
       "0     0.0\n",
       "1     0.0\n",
       "2     0.0\n",
       "3     0.0\n",
       "4     0.0\n",
       "...   ...\n",
       "1773  0.0\n",
       "1774  0.0\n",
       "1775  0.0\n",
       "1776  0.0\n",
       "1777  0.0\n",
       "\n",
       "[1778 rows x 1 columns]"
      ]
     },
     "execution_count": 52,
     "metadata": {},
     "output_type": "execute_result"
    }
   ],
   "source": [
    "predictions = pd.DataFrame(Y_predict)\n",
    "predictions"
   ]
  },
  {
   "cell_type": "code",
   "execution_count": 53,
   "metadata": {},
   "outputs": [
    {
     "data": {
      "text/plain": [
       "0.0    1778\n",
       "Name: 0, dtype: int64"
      ]
     },
     "execution_count": 53,
     "metadata": {},
     "output_type": "execute_result"
    }
   ],
   "source": [
    "predictions[0].value_counts()"
   ]
  },
  {
   "cell_type": "markdown",
   "metadata": {},
   "source": [
    "## RandomForest"
   ]
  },
  {
   "cell_type": "code",
   "execution_count": 47,
   "metadata": {},
   "outputs": [],
   "source": [
    "model1 = RandomForestClassifier(n_estimators=10)\n",
    "\n",
    "model1 = model1.fit(X_train, Y_train)"
   ]
  },
  {
   "cell_type": "code",
   "execution_count": 48,
   "metadata": {},
   "outputs": [
    {
     "data": {
      "text/plain": [
       "0.9876265466816648"
      ]
     },
     "execution_count": 48,
     "metadata": {},
     "output_type": "execute_result"
    }
   ],
   "source": [
    "model1.score(X_test, Y_test)"
   ]
  },
  {
   "cell_type": "code",
   "execution_count": 49,
   "metadata": {},
   "outputs": [
    {
     "data": {
      "text/plain": [
       "array([0.98876404, 0.98876404, 0.98595506, 0.98873239, 0.98873239])"
      ]
     },
     "execution_count": 49,
     "metadata": {},
     "output_type": "execute_result"
    }
   ],
   "source": [
    "cross_val_score(model1, X_test, Y_test, cv=5)"
   ]
  },
  {
   "cell_type": "code",
   "execution_count": 50,
   "metadata": {},
   "outputs": [],
   "source": [
    "model1_predict = model1.predict(X_test)"
   ]
  },
  {
   "cell_type": "code",
   "execution_count": 51,
   "metadata": {},
   "outputs": [
    {
     "data": {
      "text/plain": [
       "array([[1756,    1],\n",
       "       [  21,    0]])"
      ]
     },
     "execution_count": 51,
     "metadata": {},
     "output_type": "execute_result"
    }
   ],
   "source": [
    "confusion_matrix(Y_test, model1_predict)"
   ]
  },
  {
   "cell_type": "code",
   "execution_count": 66,
   "metadata": {},
   "outputs": [
    {
     "name": "stdout",
     "output_type": "stream",
     "text": [
      "              precision    recall  f1-score   support\n",
      "\n",
      "         0.0       0.99      1.00      0.99      1757\n",
      "         1.0       0.00      0.00      0.00        21\n",
      "\n",
      "    accuracy                           0.99      1778\n",
      "   macro avg       0.49      0.50      0.50      1778\n",
      "weighted avg       0.98      0.99      0.98      1778\n",
      "\n"
     ]
    },
    {
     "name": "stderr",
     "output_type": "stream",
     "text": [
      "/home/fareeda/miniconda3/envs/bs38/lib/python3.8/site-packages/sklearn/metrics/_classification.py:1272: UndefinedMetricWarning: Precision and F-score are ill-defined and being set to 0.0 in labels with no predicted samples. Use `zero_division` parameter to control this behavior.\n",
      "  _warn_prf(average, modifier, msg_start, len(result))\n"
     ]
    }
   ],
   "source": [
    "print(classification_report(Y_test, model1_predict))"
   ]
  },
  {
   "cell_type": "code",
   "execution_count": null,
   "metadata": {},
   "outputs": [],
   "source": []
  },
  {
   "cell_type": "code",
   "execution_count": null,
   "metadata": {},
   "outputs": [],
   "source": []
  },
  {
   "cell_type": "code",
   "execution_count": null,
   "metadata": {},
   "outputs": [],
   "source": []
  },
  {
   "cell_type": "markdown",
   "metadata": {},
   "source": [
    "# Resampling"
   ]
  },
  {
   "cell_type": "markdown",
   "metadata": {},
   "source": [
    "## Oversampling\n"
   ]
  },
  {
   "cell_type": "code",
   "execution_count": 106,
   "metadata": {},
   "outputs": [
    {
     "data": {
      "text/html": [
       "<div>\n",
       "<style scoped>\n",
       "    .dataframe tbody tr th:only-of-type {\n",
       "        vertical-align: middle;\n",
       "    }\n",
       "\n",
       "    .dataframe tbody tr th {\n",
       "        vertical-align: top;\n",
       "    }\n",
       "\n",
       "    .dataframe thead th {\n",
       "        text-align: right;\n",
       "    }\n",
       "</style>\n",
       "<table border=\"1\" class=\"dataframe\">\n",
       "  <thead>\n",
       "    <tr style=\"text-align: right;\">\n",
       "      <th></th>\n",
       "      <th>temp1</th>\n",
       "      <th>temp2</th>\n",
       "      <th>SP1</th>\n",
       "      <th>SP2</th>\n",
       "      <th>tcw1</th>\n",
       "      <th>tcw2</th>\n",
       "      <th>rain</th>\n",
       "    </tr>\n",
       "    <tr>\n",
       "      <th>time</th>\n",
       "      <th></th>\n",
       "      <th></th>\n",
       "      <th></th>\n",
       "      <th></th>\n",
       "      <th></th>\n",
       "      <th></th>\n",
       "      <th></th>\n",
       "    </tr>\n",
       "  </thead>\n",
       "  <tbody>\n",
       "    <tr>\n",
       "      <th>1998-03-26</th>\n",
       "      <td>291.768890</td>\n",
       "      <td>290.518524</td>\n",
       "      <td>99726.117188</td>\n",
       "      <td>99947.898438</td>\n",
       "      <td>19.707582</td>\n",
       "      <td>18.463655</td>\n",
       "      <td>0.0</td>\n",
       "    </tr>\n",
       "    <tr>\n",
       "      <th>2009-04-04</th>\n",
       "      <td>288.917633</td>\n",
       "      <td>290.227997</td>\n",
       "      <td>100375.289062</td>\n",
       "      <td>99916.640625</td>\n",
       "      <td>8.103856</td>\n",
       "      <td>9.358947</td>\n",
       "      <td>0.0</td>\n",
       "    </tr>\n",
       "    <tr>\n",
       "      <th>1997-09-10</th>\n",
       "      <td>286.398865</td>\n",
       "      <td>284.237854</td>\n",
       "      <td>99057.984375</td>\n",
       "      <td>97909.007812</td>\n",
       "      <td>13.228416</td>\n",
       "      <td>18.827896</td>\n",
       "      <td>0.0</td>\n",
       "    </tr>\n",
       "    <tr>\n",
       "      <th>2006-02-05</th>\n",
       "      <td>290.729431</td>\n",
       "      <td>288.834778</td>\n",
       "      <td>98276.328125</td>\n",
       "      <td>99007.710938</td>\n",
       "      <td>18.589233</td>\n",
       "      <td>15.887465</td>\n",
       "      <td>0.0</td>\n",
       "    </tr>\n",
       "    <tr>\n",
       "      <th>2016-12-31</th>\n",
       "      <td>290.557343</td>\n",
       "      <td>292.072754</td>\n",
       "      <td>98641.742188</td>\n",
       "      <td>97940.453125</td>\n",
       "      <td>15.025950</td>\n",
       "      <td>32.772285</td>\n",
       "      <td>0.0</td>\n",
       "    </tr>\n",
       "  </tbody>\n",
       "</table>\n",
       "</div>"
      ],
      "text/plain": [
       "                 temp1       temp2            SP1           SP2       tcw1  \\\n",
       "time                                                                         \n",
       "1998-03-26  291.768890  290.518524   99726.117188  99947.898438  19.707582   \n",
       "2009-04-04  288.917633  290.227997  100375.289062  99916.640625   8.103856   \n",
       "1997-09-10  286.398865  284.237854   99057.984375  97909.007812  13.228416   \n",
       "2006-02-05  290.729431  288.834778   98276.328125  99007.710938  18.589233   \n",
       "2016-12-31  290.557343  292.072754   98641.742188  97940.453125  15.025950   \n",
       "\n",
       "                 tcw2  rain  \n",
       "time                         \n",
       "1998-03-26  18.463655   0.0  \n",
       "2009-04-04   9.358947   0.0  \n",
       "1997-09-10  18.827896   0.0  \n",
       "2006-02-05  15.887465   0.0  \n",
       "2016-12-31  32.772285   0.0  "
      ]
     },
     "execution_count": 106,
     "metadata": {},
     "output_type": "execute_result"
    }
   ],
   "source": [
    "from sklearn.utils import resample\n",
    "\n",
    "# Concatenate training data back togather\n",
    "X = pd.concat([X_train, Y_train], axis=1)\n",
    "X.head()"
   ]
  },
  {
   "cell_type": "code",
   "execution_count": 34,
   "metadata": {},
   "outputs": [],
   "source": [
    "# Seperating minority & majority classes\n",
    "not_rain = X[X.rain==0]\n",
    "rain = X[X.rain==1]"
   ]
  },
  {
   "cell_type": "code",
   "execution_count": 79,
   "metadata": {},
   "outputs": [
    {
     "data": {
      "text/html": [
       "<div>\n",
       "<style scoped>\n",
       "    .dataframe tbody tr th:only-of-type {\n",
       "        vertical-align: middle;\n",
       "    }\n",
       "\n",
       "    .dataframe tbody tr th {\n",
       "        vertical-align: top;\n",
       "    }\n",
       "\n",
       "    .dataframe thead th {\n",
       "        text-align: right;\n",
       "    }\n",
       "</style>\n",
       "<table border=\"1\" class=\"dataframe\">\n",
       "  <thead>\n",
       "    <tr style=\"text-align: right;\">\n",
       "      <th></th>\n",
       "      <th>temp1</th>\n",
       "      <th>temp2</th>\n",
       "      <th>SP1</th>\n",
       "      <th>SP2</th>\n",
       "      <th>tcw1</th>\n",
       "      <th>tcw2</th>\n",
       "      <th>rain</th>\n",
       "    </tr>\n",
       "    <tr>\n",
       "      <th>time</th>\n",
       "      <th></th>\n",
       "      <th></th>\n",
       "      <th></th>\n",
       "      <th></th>\n",
       "      <th></th>\n",
       "      <th></th>\n",
       "      <th></th>\n",
       "    </tr>\n",
       "  </thead>\n",
       "  <tbody>\n",
       "    <tr>\n",
       "      <th>1998-03-26</th>\n",
       "      <td>291.768890</td>\n",
       "      <td>290.518524</td>\n",
       "      <td>99726.117188</td>\n",
       "      <td>99947.898438</td>\n",
       "      <td>19.707582</td>\n",
       "      <td>18.463655</td>\n",
       "      <td>0.0</td>\n",
       "    </tr>\n",
       "    <tr>\n",
       "      <th>2009-04-04</th>\n",
       "      <td>288.917633</td>\n",
       "      <td>290.227997</td>\n",
       "      <td>100375.289062</td>\n",
       "      <td>99916.640625</td>\n",
       "      <td>8.103856</td>\n",
       "      <td>9.358947</td>\n",
       "      <td>0.0</td>\n",
       "    </tr>\n",
       "    <tr>\n",
       "      <th>1997-09-10</th>\n",
       "      <td>286.398865</td>\n",
       "      <td>284.237854</td>\n",
       "      <td>99057.984375</td>\n",
       "      <td>97909.007812</td>\n",
       "      <td>13.228416</td>\n",
       "      <td>18.827896</td>\n",
       "      <td>0.0</td>\n",
       "    </tr>\n",
       "    <tr>\n",
       "      <th>2006-02-05</th>\n",
       "      <td>290.729431</td>\n",
       "      <td>288.834778</td>\n",
       "      <td>98276.328125</td>\n",
       "      <td>99007.710938</td>\n",
       "      <td>18.589233</td>\n",
       "      <td>15.887465</td>\n",
       "      <td>0.0</td>\n",
       "    </tr>\n",
       "    <tr>\n",
       "      <th>2016-12-31</th>\n",
       "      <td>290.557343</td>\n",
       "      <td>292.072754</td>\n",
       "      <td>98641.742188</td>\n",
       "      <td>97940.453125</td>\n",
       "      <td>15.025950</td>\n",
       "      <td>32.772285</td>\n",
       "      <td>0.0</td>\n",
       "    </tr>\n",
       "  </tbody>\n",
       "</table>\n",
       "</div>"
      ],
      "text/plain": [
       "                 temp1       temp2            SP1           SP2       tcw1  \\\n",
       "time                                                                         \n",
       "1998-03-26  291.768890  290.518524   99726.117188  99947.898438  19.707582   \n",
       "2009-04-04  288.917633  290.227997  100375.289062  99916.640625   8.103856   \n",
       "1997-09-10  286.398865  284.237854   99057.984375  97909.007812  13.228416   \n",
       "2006-02-05  290.729431  288.834778   98276.328125  99007.710938  18.589233   \n",
       "2016-12-31  290.557343  292.072754   98641.742188  97940.453125  15.025950   \n",
       "\n",
       "                 tcw2  rain  \n",
       "time                         \n",
       "1998-03-26  18.463655   0.0  \n",
       "2009-04-04   9.358947   0.0  \n",
       "1997-09-10  18.827896   0.0  \n",
       "2006-02-05  15.887465   0.0  \n",
       "2016-12-31  32.772285   0.0  "
      ]
     },
     "execution_count": 79,
     "metadata": {},
     "output_type": "execute_result"
    }
   ],
   "source": [
    "not_rain.head()"
   ]
  },
  {
   "cell_type": "code",
   "execution_count": 78,
   "metadata": {},
   "outputs": [
    {
     "data": {
      "text/html": [
       "<div>\n",
       "<style scoped>\n",
       "    .dataframe tbody tr th:only-of-type {\n",
       "        vertical-align: middle;\n",
       "    }\n",
       "\n",
       "    .dataframe tbody tr th {\n",
       "        vertical-align: top;\n",
       "    }\n",
       "\n",
       "    .dataframe thead th {\n",
       "        text-align: right;\n",
       "    }\n",
       "</style>\n",
       "<table border=\"1\" class=\"dataframe\">\n",
       "  <thead>\n",
       "    <tr style=\"text-align: right;\">\n",
       "      <th></th>\n",
       "      <th>temp1</th>\n",
       "      <th>temp2</th>\n",
       "      <th>SP1</th>\n",
       "      <th>SP2</th>\n",
       "      <th>tcw1</th>\n",
       "      <th>tcw2</th>\n",
       "      <th>rain</th>\n",
       "    </tr>\n",
       "    <tr>\n",
       "      <th>time</th>\n",
       "      <th></th>\n",
       "      <th></th>\n",
       "      <th></th>\n",
       "      <th></th>\n",
       "      <th></th>\n",
       "      <th></th>\n",
       "      <th></th>\n",
       "    </tr>\n",
       "  </thead>\n",
       "  <tbody>\n",
       "    <tr>\n",
       "      <th>2001-11-22</th>\n",
       "      <td>288.810364</td>\n",
       "      <td>285.454407</td>\n",
       "      <td>97827.109375</td>\n",
       "      <td>97675.085938</td>\n",
       "      <td>38.995815</td>\n",
       "      <td>25.160254</td>\n",
       "      <td>1.0</td>\n",
       "    </tr>\n",
       "    <tr>\n",
       "      <th>2003-06-08</th>\n",
       "      <td>287.634644</td>\n",
       "      <td>286.134338</td>\n",
       "      <td>98647.671875</td>\n",
       "      <td>97894.851562</td>\n",
       "      <td>7.288258</td>\n",
       "      <td>25.581177</td>\n",
       "      <td>1.0</td>\n",
       "    </tr>\n",
       "    <tr>\n",
       "      <th>2005-03-29</th>\n",
       "      <td>290.017853</td>\n",
       "      <td>288.071808</td>\n",
       "      <td>98429.742188</td>\n",
       "      <td>98812.632812</td>\n",
       "      <td>21.281834</td>\n",
       "      <td>28.096525</td>\n",
       "      <td>1.0</td>\n",
       "    </tr>\n",
       "    <tr>\n",
       "      <th>1998-10-27</th>\n",
       "      <td>290.820312</td>\n",
       "      <td>290.844086</td>\n",
       "      <td>98535.523438</td>\n",
       "      <td>98165.625000</td>\n",
       "      <td>30.722002</td>\n",
       "      <td>34.293579</td>\n",
       "      <td>1.0</td>\n",
       "    </tr>\n",
       "    <tr>\n",
       "      <th>2008-06-22</th>\n",
       "      <td>285.469147</td>\n",
       "      <td>284.002625</td>\n",
       "      <td>97380.312500</td>\n",
       "      <td>96385.125000</td>\n",
       "      <td>26.026836</td>\n",
       "      <td>20.335007</td>\n",
       "      <td>1.0</td>\n",
       "    </tr>\n",
       "  </tbody>\n",
       "</table>\n",
       "</div>"
      ],
      "text/plain": [
       "                 temp1       temp2           SP1           SP2       tcw1  \\\n",
       "time                                                                        \n",
       "2001-11-22  288.810364  285.454407  97827.109375  97675.085938  38.995815   \n",
       "2003-06-08  287.634644  286.134338  98647.671875  97894.851562   7.288258   \n",
       "2005-03-29  290.017853  288.071808  98429.742188  98812.632812  21.281834   \n",
       "1998-10-27  290.820312  290.844086  98535.523438  98165.625000  30.722002   \n",
       "2008-06-22  285.469147  284.002625  97380.312500  96385.125000  26.026836   \n",
       "\n",
       "                 tcw2  rain  \n",
       "time                         \n",
       "2001-11-22  25.160254   1.0  \n",
       "2003-06-08  25.581177   1.0  \n",
       "2005-03-29  28.096525   1.0  \n",
       "1998-10-27  34.293579   1.0  \n",
       "2008-06-22  20.335007   1.0  "
      ]
     },
     "execution_count": 78,
     "metadata": {},
     "output_type": "execute_result"
    }
   ],
   "source": [
    "rain.head()"
   ]
  },
  {
   "cell_type": "code",
   "execution_count": 35,
   "metadata": {},
   "outputs": [],
   "source": [
    "# upsample minority class\n",
    "rain_upsample = resample(rain,\n",
    "                         replace=True, # sample with replacement\n",
    "                         n_samples=len(not_rain), # match number in majority class\n",
    "                         random_state=27)"
   ]
  },
  {
   "cell_type": "code",
   "execution_count": 80,
   "metadata": {},
   "outputs": [
    {
     "data": {
      "text/html": [
       "<div>\n",
       "<style scoped>\n",
       "    .dataframe tbody tr th:only-of-type {\n",
       "        vertical-align: middle;\n",
       "    }\n",
       "\n",
       "    .dataframe tbody tr th {\n",
       "        vertical-align: top;\n",
       "    }\n",
       "\n",
       "    .dataframe thead th {\n",
       "        text-align: right;\n",
       "    }\n",
       "</style>\n",
       "<table border=\"1\" class=\"dataframe\">\n",
       "  <thead>\n",
       "    <tr style=\"text-align: right;\">\n",
       "      <th></th>\n",
       "      <th>temp1</th>\n",
       "      <th>temp2</th>\n",
       "      <th>SP1</th>\n",
       "      <th>SP2</th>\n",
       "      <th>tcw1</th>\n",
       "      <th>tcw2</th>\n",
       "      <th>rain</th>\n",
       "    </tr>\n",
       "    <tr>\n",
       "      <th>time</th>\n",
       "      <th></th>\n",
       "      <th></th>\n",
       "      <th></th>\n",
       "      <th></th>\n",
       "      <th></th>\n",
       "      <th></th>\n",
       "      <th></th>\n",
       "    </tr>\n",
       "  </thead>\n",
       "  <tbody>\n",
       "    <tr>\n",
       "      <th>2008-10-07</th>\n",
       "      <td>287.938110</td>\n",
       "      <td>286.087189</td>\n",
       "      <td>96373.742188</td>\n",
       "      <td>97089.546875</td>\n",
       "      <td>27.599371</td>\n",
       "      <td>10.106321</td>\n",
       "      <td>1.0</td>\n",
       "    </tr>\n",
       "    <tr>\n",
       "      <th>2019-03-08</th>\n",
       "      <td>290.591278</td>\n",
       "      <td>290.575134</td>\n",
       "      <td>99141.046875</td>\n",
       "      <td>99303.921875</td>\n",
       "      <td>34.074757</td>\n",
       "      <td>17.674967</td>\n",
       "      <td>1.0</td>\n",
       "    </tr>\n",
       "    <tr>\n",
       "      <th>2010-01-14</th>\n",
       "      <td>292.317688</td>\n",
       "      <td>288.658905</td>\n",
       "      <td>98383.195312</td>\n",
       "      <td>98778.109375</td>\n",
       "      <td>14.802686</td>\n",
       "      <td>28.993168</td>\n",
       "      <td>1.0</td>\n",
       "    </tr>\n",
       "    <tr>\n",
       "      <th>2002-10-25</th>\n",
       "      <td>290.048279</td>\n",
       "      <td>286.301117</td>\n",
       "      <td>97455.125000</td>\n",
       "      <td>97364.375000</td>\n",
       "      <td>27.648497</td>\n",
       "      <td>15.375426</td>\n",
       "      <td>1.0</td>\n",
       "    </tr>\n",
       "    <tr>\n",
       "      <th>2005-01-05</th>\n",
       "      <td>288.184296</td>\n",
       "      <td>291.570923</td>\n",
       "      <td>97867.523438</td>\n",
       "      <td>97647.875000</td>\n",
       "      <td>32.728134</td>\n",
       "      <td>25.577227</td>\n",
       "      <td>1.0</td>\n",
       "    </tr>\n",
       "  </tbody>\n",
       "</table>\n",
       "</div>"
      ],
      "text/plain": [
       "                 temp1       temp2           SP1           SP2       tcw1  \\\n",
       "time                                                                        \n",
       "2008-10-07  287.938110  286.087189  96373.742188  97089.546875  27.599371   \n",
       "2019-03-08  290.591278  290.575134  99141.046875  99303.921875  34.074757   \n",
       "2010-01-14  292.317688  288.658905  98383.195312  98778.109375  14.802686   \n",
       "2002-10-25  290.048279  286.301117  97455.125000  97364.375000  27.648497   \n",
       "2005-01-05  288.184296  291.570923  97867.523438  97647.875000  32.728134   \n",
       "\n",
       "                 tcw2  rain  \n",
       "time                         \n",
       "2008-10-07  10.106321   1.0  \n",
       "2019-03-08  17.674967   1.0  \n",
       "2010-01-14  28.993168   1.0  \n",
       "2002-10-25  15.375426   1.0  \n",
       "2005-01-05  25.577227   1.0  "
      ]
     },
     "execution_count": 80,
     "metadata": {},
     "output_type": "execute_result"
    }
   ],
   "source": [
    "rain_upsample.head()"
   ]
  },
  {
   "cell_type": "code",
   "execution_count": 81,
   "metadata": {},
   "outputs": [
    {
     "data": {
      "text/html": [
       "<div>\n",
       "<style scoped>\n",
       "    .dataframe tbody tr th:only-of-type {\n",
       "        vertical-align: middle;\n",
       "    }\n",
       "\n",
       "    .dataframe tbody tr th {\n",
       "        vertical-align: top;\n",
       "    }\n",
       "\n",
       "    .dataframe thead th {\n",
       "        text-align: right;\n",
       "    }\n",
       "</style>\n",
       "<table border=\"1\" class=\"dataframe\">\n",
       "  <thead>\n",
       "    <tr style=\"text-align: right;\">\n",
       "      <th></th>\n",
       "      <th>temp1</th>\n",
       "      <th>temp2</th>\n",
       "      <th>SP1</th>\n",
       "      <th>SP2</th>\n",
       "      <th>tcw1</th>\n",
       "      <th>tcw2</th>\n",
       "      <th>rain</th>\n",
       "    </tr>\n",
       "    <tr>\n",
       "      <th>time</th>\n",
       "      <th></th>\n",
       "      <th></th>\n",
       "      <th></th>\n",
       "      <th></th>\n",
       "      <th></th>\n",
       "      <th></th>\n",
       "      <th></th>\n",
       "    </tr>\n",
       "  </thead>\n",
       "  <tbody>\n",
       "    <tr>\n",
       "      <th>1998-03-26</th>\n",
       "      <td>291.768890</td>\n",
       "      <td>290.518524</td>\n",
       "      <td>99726.117188</td>\n",
       "      <td>99947.898438</td>\n",
       "      <td>19.707582</td>\n",
       "      <td>18.463655</td>\n",
       "      <td>0.0</td>\n",
       "    </tr>\n",
       "    <tr>\n",
       "      <th>2009-04-04</th>\n",
       "      <td>288.917633</td>\n",
       "      <td>290.227997</td>\n",
       "      <td>100375.289062</td>\n",
       "      <td>99916.640625</td>\n",
       "      <td>8.103856</td>\n",
       "      <td>9.358947</td>\n",
       "      <td>0.0</td>\n",
       "    </tr>\n",
       "    <tr>\n",
       "      <th>1997-09-10</th>\n",
       "      <td>286.398865</td>\n",
       "      <td>284.237854</td>\n",
       "      <td>99057.984375</td>\n",
       "      <td>97909.007812</td>\n",
       "      <td>13.228416</td>\n",
       "      <td>18.827896</td>\n",
       "      <td>0.0</td>\n",
       "    </tr>\n",
       "    <tr>\n",
       "      <th>2006-02-05</th>\n",
       "      <td>290.729431</td>\n",
       "      <td>288.834778</td>\n",
       "      <td>98276.328125</td>\n",
       "      <td>99007.710938</td>\n",
       "      <td>18.589233</td>\n",
       "      <td>15.887465</td>\n",
       "      <td>0.0</td>\n",
       "    </tr>\n",
       "    <tr>\n",
       "      <th>2016-12-31</th>\n",
       "      <td>290.557343</td>\n",
       "      <td>292.072754</td>\n",
       "      <td>98641.742188</td>\n",
       "      <td>97940.453125</td>\n",
       "      <td>15.025950</td>\n",
       "      <td>32.772285</td>\n",
       "      <td>0.0</td>\n",
       "    </tr>\n",
       "  </tbody>\n",
       "</table>\n",
       "</div>"
      ],
      "text/plain": [
       "                 temp1       temp2            SP1           SP2       tcw1  \\\n",
       "time                                                                         \n",
       "1998-03-26  291.768890  290.518524   99726.117188  99947.898438  19.707582   \n",
       "2009-04-04  288.917633  290.227997  100375.289062  99916.640625   8.103856   \n",
       "1997-09-10  286.398865  284.237854   99057.984375  97909.007812  13.228416   \n",
       "2006-02-05  290.729431  288.834778   98276.328125  99007.710938  18.589233   \n",
       "2016-12-31  290.557343  292.072754   98641.742188  97940.453125  15.025950   \n",
       "\n",
       "                 tcw2  rain  \n",
       "time                         \n",
       "1998-03-26  18.463655   0.0  \n",
       "2009-04-04   9.358947   0.0  \n",
       "1997-09-10  18.827896   0.0  \n",
       "2006-02-05  15.887465   0.0  \n",
       "2016-12-31  32.772285   0.0  "
      ]
     },
     "execution_count": 81,
     "metadata": {},
     "output_type": "execute_result"
    }
   ],
   "source": [
    "# Combine majority and upsampling minority\n",
    "upsample = pd.concat([not_rain, rain_upsample])\n",
    "upsample.head()"
   ]
  },
  {
   "cell_type": "code",
   "execution_count": 37,
   "metadata": {},
   "outputs": [
    {
     "data": {
      "text/plain": [
       "1.0    7054\n",
       "0.0    7054\n",
       "Name: rain, dtype: int64"
      ]
     },
     "execution_count": 37,
     "metadata": {},
     "output_type": "execute_result"
    }
   ],
   "source": [
    "upsample.rain.value_counts()"
   ]
  },
  {
   "cell_type": "markdown",
   "metadata": {},
   "source": [
    "## Logistic regression with balanced data"
   ]
  },
  {
   "cell_type": "code",
   "execution_count": 38,
   "metadata": {},
   "outputs": [],
   "source": [
    "y_train = upsample.rain\n",
    "x_train = upsample.drop('rain', axis=1)"
   ]
  },
  {
   "cell_type": "code",
   "execution_count": 40,
   "metadata": {},
   "outputs": [],
   "source": [
    "# Model fitting\n",
    "upsampled_model = LogisticRegression(solver='liblinear').fit(x_train, y_train)"
   ]
  },
  {
   "cell_type": "code",
   "execution_count": 43,
   "metadata": {},
   "outputs": [
    {
     "data": {
      "text/plain": [
       "array([0., 1., 0., ..., 0., 0., 0.])"
      ]
     },
     "execution_count": 43,
     "metadata": {},
     "output_type": "execute_result"
    }
   ],
   "source": [
    "upsampled_pred = upsampled_model.predict(X_test)\n",
    "upsampled_pred"
   ]
  },
  {
   "cell_type": "code",
   "execution_count": 45,
   "metadata": {},
   "outputs": [
    {
     "name": "stdout",
     "output_type": "stream",
     "text": [
      "              precision    recall  f1-score   support\n",
      "\n",
      "         0.0       0.99      0.76      0.86      1757\n",
      "         1.0       0.03      0.52      0.05        21\n",
      "\n",
      "    accuracy                           0.76      1778\n",
      "   macro avg       0.51      0.64      0.45      1778\n",
      "weighted avg       0.98      0.76      0.85      1778\n",
      "\n"
     ]
    }
   ],
   "source": [
    "print(classification_report(Y_test, upsampled_pred))"
   ]
  },
  {
   "cell_type": "code",
   "execution_count": 49,
   "metadata": {},
   "outputs": [
    {
     "data": {
      "text/plain": [
       "0.7570303712035995"
      ]
     },
     "execution_count": 49,
     "metadata": {},
     "output_type": "execute_result"
    }
   ],
   "source": [
    "accuracy_score(Y_test, upsampled_pred)"
   ]
  },
  {
   "cell_type": "code",
   "execution_count": 50,
   "metadata": {},
   "outputs": [
    {
     "name": "stdout",
     "output_type": "stream",
     "text": [
      "[[1335  422]\n",
      " [  10   11]]\n"
     ]
    }
   ],
   "source": [
    "print(confusion_matrix(Y_test, upsampled_pred))"
   ]
  },
  {
   "cell_type": "code",
   "execution_count": 54,
   "metadata": {},
   "outputs": [
    {
     "data": {
      "image/png": "[encoded data removed]",
      "text/plain": [
       "<Figure size 216x216 with 2 Axes>"
      ]
     },
     "metadata": {},
     "output_type": "display_data"
    }
   ],
   "source": [
    "sns.set(font_scale=1.5)\n",
    "\n",
    "def plot_confusion_mat(Y_test, Y_predict):\n",
    "    \"\"\"\n",
    "    Plot a nice looking confusion matrix using seaborn's heatmap()\n",
    "    \"\"\"\n",
    "    fig, ax = plt.subplots(figsize=(3,3))\n",
    "    ax = sns.heatmap(confusion_matrix(Y_test, Y_predict), \n",
    "                    annot = True,\n",
    "                    cbar=True)\n",
    "    plt.xlabel('True label')\n",
    "    plt.ylabel('Predicted label')\n",
    "    \n",
    "    bottom, top = ax.get_ylim()\n",
    "    #ax.set_ylim(bottom + 0.5, top - 0.5)\n",
    "    \n",
    "plot_confusion_mat(Y_test, upsampled_pred)   "
   ]
  },
  {
   "cell_type": "code",
   "execution_count": 56,
   "metadata": {},
   "outputs": [
    {
     "data": {
      "text/plain": [
       "0.0    1345\n",
       "1.0     433\n",
       "Name: 0, dtype: int64"
      ]
     },
     "execution_count": 56,
     "metadata": {},
     "output_type": "execute_result"
    }
   ],
   "source": [
    "upsampled_data = pd.DataFrame(upsampled_pred)\n",
    "upsampled_data[0].value_counts()"
   ]
  },
  {
   "cell_type": "code",
   "execution_count": 109,
   "metadata": {},
   "outputs": [
    {
     "name": "stdout",
     "output_type": "stream",
     "text": [
      "0.6418136975905899\n"
     ]
    }
   ],
   "source": [
    "print(roc_auc_score(Y_test, upsampled_pred))"
   ]
  },
  {
   "cell_type": "code",
   "execution_count": null,
   "metadata": {},
   "outputs": [],
   "source": []
  },
  {
   "cell_type": "markdown",
   "metadata": {},
   "source": [
    "## RandomForest"
   ]
  },
  {
   "cell_type": "code",
   "execution_count": 117,
   "metadata": {},
   "outputs": [],
   "source": [
    "upsampled_model1 = RandomForestClassifier(class_weight={0:1, 1:10}).fit(x_train, y_train)"
   ]
  },
  {
   "cell_type": "code",
   "execution_count": 118,
   "metadata": {},
   "outputs": [],
   "source": [
    "upsampled_model1_pred = upsampled_model1.predict(X_test)"
   ]
  },
  {
   "cell_type": "code",
   "execution_count": 119,
   "metadata": {},
   "outputs": [
    {
     "data": {
      "text/plain": [
       "0.9881889763779528"
      ]
     },
     "execution_count": 119,
     "metadata": {},
     "output_type": "execute_result"
    }
   ],
   "source": [
    "accuracy_score(Y_test, upsampled_model1_pred)"
   ]
  },
  {
   "cell_type": "code",
   "execution_count": 120,
   "metadata": {},
   "outputs": [
    {
     "name": "stdout",
     "output_type": "stream",
     "text": [
      "              precision    recall  f1-score   support\n",
      "\n",
      "         0.0       0.99      1.00      0.99      1757\n",
      "         1.0       0.00      0.00      0.00        21\n",
      "\n",
      "    accuracy                           0.99      1778\n",
      "   macro avg       0.49      0.50      0.50      1778\n",
      "weighted avg       0.98      0.99      0.98      1778\n",
      "\n"
     ]
    },
    {
     "name": "stderr",
     "output_type": "stream",
     "text": [
      "/home/fareeda/miniconda3/envs/bs38/lib/python3.8/site-packages/sklearn/metrics/_classification.py:1272: UndefinedMetricWarning: Precision and F-score are ill-defined and being set to 0.0 in labels with no predicted samples. Use `zero_division` parameter to control this behavior.\n",
      "  _warn_prf(average, modifier, msg_start, len(result))\n"
     ]
    }
   ],
   "source": [
    "print(classification_report(Y_test, upsampled_model1_pred ))"
   ]
  },
  {
   "cell_type": "code",
   "execution_count": 92,
   "metadata": {},
   "outputs": [
    {
     "data": {
      "text/html": [
       "<div>\n",
       "<style scoped>\n",
       "    .dataframe tbody tr th:only-of-type {\n",
       "        vertical-align: middle;\n",
       "    }\n",
       "\n",
       "    .dataframe tbody tr th {\n",
       "        vertical-align: top;\n",
       "    }\n",
       "\n",
       "    .dataframe thead th {\n",
       "        text-align: right;\n",
       "    }\n",
       "</style>\n",
       "<table border=\"1\" class=\"dataframe\">\n",
       "  <thead>\n",
       "    <tr style=\"text-align: right;\">\n",
       "      <th></th>\n",
       "      <th>0</th>\n",
       "      <th>1</th>\n",
       "    </tr>\n",
       "  </thead>\n",
       "  <tbody>\n",
       "    <tr>\n",
       "      <th>0</th>\n",
       "      <td>1757</td>\n",
       "      <td>0</td>\n",
       "    </tr>\n",
       "    <tr>\n",
       "      <th>1</th>\n",
       "      <td>21</td>\n",
       "      <td>0</td>\n",
       "    </tr>\n",
       "  </tbody>\n",
       "</table>\n",
       "</div>"
      ],
      "text/plain": [
       "      0  1\n",
       "0  1757  0\n",
       "1    21  0"
      ]
     },
     "execution_count": 92,
     "metadata": {},
     "output_type": "execute_result"
    }
   ],
   "source": [
    "pd.DataFrame(confusion_matrix(Y_test, upsampled_model1_pred))"
   ]
  },
  {
   "cell_type": "markdown",
   "metadata": {},
   "source": [
    "## Decision Tree"
   ]
  },
  {
   "cell_type": "code",
   "execution_count": 132,
   "metadata": {},
   "outputs": [
    {
     "data": {
      "text/plain": [
       "0.9814398200224972"
      ]
     },
     "execution_count": 132,
     "metadata": {},
     "output_type": "execute_result"
    }
   ],
   "source": [
    "from sklearn.tree import DecisionTreeClassifier\n",
    "\n",
    "clf = DecisionTreeClassifier()\n",
    "\n",
    "clf = clf.fit(x_train, y_train)\n",
    "\n",
    "clf_pred = clf.predict(X_test)\n",
    "\n",
    "accuracy_score(Y_test, clf_pred)"
   ]
  },
  {
   "cell_type": "code",
   "execution_count": 133,
   "metadata": {},
   "outputs": [
    {
     "name": "stdout",
     "output_type": "stream",
     "text": [
      "[[1743   14]\n",
      " [  19    2]]\n"
     ]
    }
   ],
   "source": [
    "print(confusion_matrix(Y_test, clf_pred))"
   ]
  },
  {
   "cell_type": "markdown",
   "metadata": {},
   "source": [
    "# Penalize Algorithm"
   ]
  },
  {
   "cell_type": "code",
   "execution_count": 84,
   "metadata": {},
   "outputs": [],
   "source": [
    "from sklearn.svm import SVC\n",
    "\n",
    "# we can add class_weight='balanced' to add penalize mistake\n",
    "svc_model = SVC(class_weight='balanced', probability=True)"
   ]
  },
  {
   "cell_type": "code",
   "execution_count": 151,
   "metadata": {},
   "outputs": [],
   "source": [
    "svc_model = svc_model.fit(X_train, Y_train)"
   ]
  },
  {
   "cell_type": "code",
   "execution_count": 152,
   "metadata": {},
   "outputs": [],
   "source": [
    "svc_pred = svc_model.predict(X_test)"
   ]
  },
  {
   "cell_type": "code",
   "execution_count": 154,
   "metadata": {},
   "outputs": [
    {
     "name": "stdout",
     "output_type": "stream",
     "text": [
      "[[1187  570]\n",
      " [   4   17]]\n"
     ]
    }
   ],
   "source": [
    "print(confusion_matrix(Y_test, svc_pred))"
   ]
  },
  {
   "cell_type": "code",
   "execution_count": 155,
   "metadata": {},
   "outputs": [
    {
     "name": "stdout",
     "output_type": "stream",
     "text": [
      "              precision    recall  f1-score   support\n",
      "\n",
      "         0.0       1.00      0.68      0.81      1757\n",
      "         1.0       0.03      0.81      0.06        21\n",
      "\n",
      "    accuracy                           0.68      1778\n",
      "   macro avg       0.51      0.74      0.43      1778\n",
      "weighted avg       0.99      0.68      0.80      1778\n",
      "\n"
     ]
    }
   ],
   "source": [
    "print(classification_report(Y_test, svc_pred))"
   ]
  },
  {
   "cell_type": "markdown",
   "metadata": {},
   "source": [
    "### penalize oversampling"
   ]
  },
  {
   "cell_type": "code",
   "execution_count": 156,
   "metadata": {},
   "outputs": [],
   "source": [
    "svc_model1 = svc_model.fit(x_train, y_train)"
   ]
  },
  {
   "cell_type": "code",
   "execution_count": 158,
   "metadata": {},
   "outputs": [],
   "source": [
    "svc_pred1 = svc_model1.predict(X_test)"
   ]
  },
  {
   "cell_type": "code",
   "execution_count": 159,
   "metadata": {},
   "outputs": [
    {
     "name": "stdout",
     "output_type": "stream",
     "text": [
      "[[1241  516]\n",
      " [   6   15]]\n"
     ]
    }
   ],
   "source": [
    "print(confusion_matrix(Y_test, svc_pred1))"
   ]
  },
  {
   "cell_type": "code",
   "execution_count": null,
   "metadata": {},
   "outputs": [],
   "source": []
  },
  {
   "cell_type": "markdown",
   "metadata": {},
   "source": [
    "# Undersampling"
   ]
  },
  {
   "cell_type": "code",
   "execution_count": 59,
   "metadata": {},
   "outputs": [],
   "source": [
    "# Downsampling majority class\n",
    "not_rain_downsampling = resample(not_rain,\n",
    "                                 replace  = False, #sample without replacement\n",
    "                                 n_samples = len(rain), # match minority n\n",
    "                                 random_state=27)"
   ]
  },
  {
   "cell_type": "code",
   "execution_count": 71,
   "metadata": {},
   "outputs": [],
   "source": [
    "#not_rain_downsampling"
   ]
  },
  {
   "cell_type": "code",
   "execution_count": 61,
   "metadata": {},
   "outputs": [],
   "source": [
    "downsampled = pd.concat([not_rain_downsampling, rain])"
   ]
  },
  {
   "cell_type": "code",
   "execution_count": 62,
   "metadata": {},
   "outputs": [
    {
     "data": {
      "text/plain": [
       "1.0    55\n",
       "0.0    55\n",
       "Name: rain, dtype: int64"
      ]
     },
     "execution_count": 62,
     "metadata": {},
     "output_type": "execute_result"
    }
   ],
   "source": [
    "downsampled.rain.value_counts()"
   ]
  },
  {
   "cell_type": "code",
   "execution_count": 65,
   "metadata": {},
   "outputs": [],
   "source": [
    "y1_train = downsampled.rain\n",
    "x1_train = downsampled.drop('rain', axis=1)"
   ]
  },
  {
   "cell_type": "code",
   "execution_count": 66,
   "metadata": {},
   "outputs": [],
   "source": [
    "undersampled_model = LogisticRegression(solver='liblinear').fit(x1_train, y1_train)"
   ]
  },
  {
   "cell_type": "code",
   "execution_count": 68,
   "metadata": {},
   "outputs": [],
   "source": [
    "undersampled_pred = undersampled_model.predict(X_test)"
   ]
  },
  {
   "cell_type": "code",
   "execution_count": 69,
   "metadata": {},
   "outputs": [
    {
     "data": {
      "text/plain": [
       "0.7559055118110236"
      ]
     },
     "execution_count": 69,
     "metadata": {},
     "output_type": "execute_result"
    }
   ],
   "source": [
    "accuracy_score(Y_test, undersampled_pred)"
   ]
  },
  {
   "cell_type": "code",
   "execution_count": 70,
   "metadata": {},
   "outputs": [
    {
     "name": "stdout",
     "output_type": "stream",
     "text": [
      "              precision    recall  f1-score   support\n",
      "\n",
      "         0.0       0.99      0.76      0.86      1757\n",
      "         1.0       0.03      0.57      0.05        21\n",
      "\n",
      "    accuracy                           0.76      1778\n",
      "   macro avg       0.51      0.66      0.46      1778\n",
      "weighted avg       0.98      0.76      0.85      1778\n",
      "\n"
     ]
    }
   ],
   "source": [
    "print(classification_report(Y_test, undersampled_pred))"
   ]
  },
  {
   "cell_type": "code",
   "execution_count": 72,
   "metadata": {},
   "outputs": [
    {
     "name": "stdout",
     "output_type": "stream",
     "text": [
      "[[1332  425]\n",
      " [   9   12]]\n"
     ]
    }
   ],
   "source": [
    "print(confusion_matrix(Y_test, undersampled_pred))"
   ]
  },
  {
   "cell_type": "code",
   "execution_count": 77,
   "metadata": {},
   "outputs": [
    {
     "data": {
      "text/html": [
       "<div>\n",
       "<style scoped>\n",
       "    .dataframe tbody tr th:only-of-type {\n",
       "        vertical-align: middle;\n",
       "    }\n",
       "\n",
       "    .dataframe tbody tr th {\n",
       "        vertical-align: top;\n",
       "    }\n",
       "\n",
       "    .dataframe thead th {\n",
       "        text-align: right;\n",
       "    }\n",
       "</style>\n",
       "<table border=\"1\" class=\"dataframe\">\n",
       "  <thead>\n",
       "    <tr style=\"text-align: right;\">\n",
       "      <th></th>\n",
       "      <th>0</th>\n",
       "      <th>1</th>\n",
       "    </tr>\n",
       "  </thead>\n",
       "  <tbody>\n",
       "    <tr>\n",
       "      <th>0</th>\n",
       "      <td>1332</td>\n",
       "      <td>425</td>\n",
       "    </tr>\n",
       "    <tr>\n",
       "      <th>1</th>\n",
       "      <td>9</td>\n",
       "      <td>12</td>\n",
       "    </tr>\n",
       "  </tbody>\n",
       "</table>\n",
       "</div>"
      ],
      "text/plain": [
       "      0    1\n",
       "0  1332  425\n",
       "1     9   12"
      ]
     },
     "execution_count": 77,
     "metadata": {},
     "output_type": "execute_result"
    }
   ],
   "source": [
    "pd.DataFrame(confusion_matrix(Y_test, undersampled_pred))"
   ]
  },
  {
   "cell_type": "code",
   "execution_count": 73,
   "metadata": {},
   "outputs": [
    {
     "data": {
      "image/png": "[encoded data removed]",
      "text/plain": [
       "<Figure size 216x216 with 2 Axes>"
      ]
     },
     "metadata": {},
     "output_type": "display_data"
    }
   ],
   "source": [
    "sns.set(font_scale=1.5)\n",
    "\n",
    "def plot_confusion_mat(Y_test, Y_predict):\n",
    "    \"\"\"\n",
    "    Plot a nice looking confusion matrix using seaborn's heatmap()\n",
    "    \"\"\"\n",
    "    fig, ax = plt.subplots(figsize=(3,3))\n",
    "    ax = sns.heatmap(confusion_matrix(Y_test, Y_predict), \n",
    "                    annot = True,\n",
    "                    cbar=True)\n",
    "    plt.xlabel('True label')\n",
    "    plt.ylabel('Predicted label')\n",
    "    \n",
    "    bottom, top = ax.get_ylim()\n",
    "    #ax.set_ylim(bottom + 0.5, top - 0.5)\n",
    "    \n",
    "plot_confusion_mat(Y_test, undersampled_pred)  "
   ]
  },
  {
   "cell_type": "markdown",
   "metadata": {},
   "source": [
    "## RandomForest"
   ]
  },
  {
   "cell_type": "code",
   "execution_count": 161,
   "metadata": {},
   "outputs": [],
   "source": [
    "undersampled_model1 = RandomForestClassifier().fit(x1_train, y1_train)"
   ]
  },
  {
   "cell_type": "markdown",
   "metadata": {},
   "source": [
    "#  RandomForest with diff oversampling method"
   ]
  },
  {
   "cell_type": "code",
   "execution_count": 49,
   "metadata": {},
   "outputs": [
    {
     "name": "stdout",
     "output_type": "stream",
     "text": [
      "confusion matrix for RandomOverSampler\n",
      "[[1757    0]\n",
      " [  21    0]]\n",
      "confusion matrix for SMOTETomek\n",
      "[[1722   35]\n",
      " [  17    4]]\n",
      "confusion matrix for SMOTEENN\n",
      "[[1699   58]\n",
      " [  16    5]]\n",
      "confusion matrix for SMOTE\n",
      "[[1723   34]\n",
      " [  16    5]]\n",
      "confusion matrix for ADASYN\n",
      "[[1712   45]\n",
      " [  16    5]]\n",
      "confusion matrix for BorderlineSMOTE\n",
      "[[1751    6]\n",
      " [  20    1]]\n"
     ]
    }
   ],
   "source": [
    "# Function to test diff oversampling methods with Randomforest \n",
    "from imblearn.over_sampling import RandomOverSampler\n",
    "from imblearn.combine import SMOTETomek\n",
    "from imblearn.combine import SMOTEENN\n",
    "from imblearn.over_sampling import SMOTE\n",
    "from imblearn.over_sampling import ADASYN\n",
    "from imblearn.over_sampling import SMOTENC\n",
    "from imblearn.over_sampling import BorderlineSMOTE\n",
    "from sklearn import metrics\n",
    "from sklearn.model_selection import RandomizedSearchCV\n",
    "\n",
    "\n",
    "np.random.seed(42)\n",
    "\n",
    "upsample = {'RandomOverSampler': RandomOverSampler , \n",
    "            'SMOTETomek': SMOTETomek, \n",
    "            'SMOTEENN' :SMOTEENN, \n",
    "            'SMOTE' : SMOTE, \n",
    "            'ADASYN': ADASYN,\n",
    "             'BorderlineSMOTE':BorderlineSMOTE }\n",
    "\n",
    "grid = {'n_estimators' : [10, 100, 200, 500, 1000, 1200],\n",
    "       'max_depth' : [None, 5, 10, 20, 30],\n",
    "       'max_features' : ['auto', 'sqrt'],\n",
    "       'min_samples_split' : [2, 4, 6],\n",
    "       'min_samples_leaf' : [1, 2, 4]}\n",
    "\n",
    "\n",
    "def over_sample(x_train, y_train, x_test, y_test):\n",
    "    # Looping methods\n",
    "    for name, method in upsample.items():\n",
    "        \n",
    "        upsam = method()\n",
    "        \n",
    "        x_upsam, y_upsam = upsam.fit_resample(x_train, y_train)\n",
    "        \n",
    "        model = RandomForestClassifier().fit(x_upsam, y_upsam)\n",
    "        \n",
    "        # Setup RandomilzedSearchCV\n",
    "#         rs_clf1 = RandomizedSearchCV(estimator = clf,\n",
    "#                            param_distributions=grid,\n",
    "#                            n_iter=20, # try 20 models total\n",
    "#                            cv=5 # 5-fold cross-validation\n",
    "#                              ).fit(x_upsam, y_upsam)\n",
    "\n",
    "        \n",
    "        y_pred = model.predict(x_test)\n",
    "        \n",
    "        \n",
    "        print('confusion matrix for ' + str(name))\n",
    "        print(metrics.confusion_matrix(y_test, y_pred))\n",
    "#         print(metrics.classification_report(y_test, y_pred_ros))\n",
    "#         print('Accuracy {}'.format(metrics.accuracy_score(y_test, y_pred_ros)) )\n",
    "#         print('Area under the curve {}'.format(metrics.roc_auc_score(y_test, y_pred_ros)))\n",
    "        \n",
    "        \n",
    "over_sample(x_train, y_train, x_test, y_test)  "
   ]
  },
  {
   "cell_type": "code",
   "execution_count": null,
   "metadata": {},
   "outputs": [],
   "source": []
  },
  {
   "cell_type": "code",
   "execution_count": null,
   "metadata": {},
   "outputs": [],
   "source": []
  },
  {
   "cell_type": "code",
   "execution_count": null,
   "metadata": {},
   "outputs": [],
   "source": []
  },
  {
   "cell_type": "markdown",
   "metadata": {},
   "source": [
    "# RandomOverSampler\n",
    "RandomOverSampler individually with RandomForest\n"
   ]
  },
  {
   "cell_type": "code",
   "execution_count": 57,
   "metadata": {},
   "outputs": [],
   "source": [
    "from imblearn.over_sampling import RandomOverSampler\n",
    "\n",
    "\n",
    "ros = RandomOverSampler(random_state=42)\n",
    "\n",
    "x_ros, y_ros = ros.fit_resample(x_train, y_train)"
   ]
  },
  {
   "cell_type": "code",
   "execution_count": 58,
   "metadata": {},
   "outputs": [
    {
     "data": {
      "text/plain": [
       "0.0    7054\n",
       "1.0    7054\n",
       "Name: rain, dtype: int64"
      ]
     },
     "execution_count": 58,
     "metadata": {},
     "output_type": "execute_result"
    }
   ],
   "source": [
    "y_ros.value_counts()"
   ]
  },
  {
   "cell_type": "code",
   "execution_count": 63,
   "metadata": {},
   "outputs": [
    {
     "name": "stdout",
     "output_type": "stream",
     "text": [
      "confusion matrix\n",
      "[[1757    0]\n",
      " [  21    0]]\n",
      "              precision    recall  f1-score   support\n",
      "\n",
      "         0.0       0.99      1.00      0.99      1757\n",
      "         1.0       0.00      0.00      0.00        21\n",
      "\n",
      "    accuracy                           0.99      1778\n",
      "   macro avg       0.49      0.50      0.50      1778\n",
      "weighted avg       0.98      0.99      0.98      1778\n",
      "\n",
      "Accuracy 0.9881889763779528\n",
      "Area under the curve 0.5\n"
     ]
    }
   ],
   "source": [
    "model_ros = RandomForestClassifier().fit(x_ros, y_ros)\n",
    "\n",
    "y_pred_ros = model_ros.predict(x_test)\n",
    "\n",
    "print('confusion matrix')\n",
    "print(metrics.confusion_matrix(y_test, y_pred_ros))\n",
    "print(metrics.classification_report(y_test, y_pred_ros))\n",
    "print('Accuracy {}'.format(metrics.accuracy_score(y_test, y_pred_ros)) )\n",
    "print('Area under the curve {}'.format(metrics.roc_auc_score(y_test, y_pred_ros)))"
   ]
  },
  {
   "cell_type": "markdown",
   "metadata": {},
   "source": [
    "# SMOTETomek\n",
    "SMOTETomek individually with RandomForest\n"
   ]
  },
  {
   "cell_type": "code",
   "execution_count": 70,
   "metadata": {},
   "outputs": [
    {
     "name": "stdout",
     "output_type": "stream",
     "text": [
      "confusion matrix\n",
      "[[1717   40]\n",
      " [  17    4]]\n",
      "              precision    recall  f1-score   support\n",
      "\n",
      "         0.0       0.99      0.98      0.98      1757\n",
      "         1.0       0.09      0.19      0.12        21\n",
      "\n",
      "    accuracy                           0.97      1778\n",
      "   macro avg       0.54      0.58      0.55      1778\n",
      "weighted avg       0.98      0.97      0.97      1778\n",
      "\n",
      "Accuracy 0.967941507311586\n",
      "Area under the curve 0.5838550559666097\n"
     ]
    }
   ],
   "source": [
    "from imblearn.combine import SMOTETomek\n",
    "\n",
    "rs = SMOTETomek(random_state=42)\n",
    "\n",
    "x_rs, y_rs = rs.fit_resample(x_train, y_train)\n",
    "\n",
    "model_rs = RandomForestClassifier().fit(x_rs, y_rs)\n",
    "\n",
    "y_pred_rs = model_rs.predict(x_test)\n",
    "\n",
    "print('confusion matrix')\n",
    "print(metrics.confusion_matrix(y_test, y_pred_rs))\n",
    "print(metrics.classification_report(y_test, y_pred_rs))\n",
    "print('Accuracy {}'.format(metrics.accuracy_score(y_test, y_pred_rs)) )\n",
    "print('Area under the curve {}'.format(metrics.roc_auc_score(y_test, y_pred_rs)))"
   ]
  },
  {
   "cell_type": "markdown",
   "metadata": {},
   "source": [
    "## SMOTETomek with MultinomialNB "
   ]
  },
  {
   "cell_type": "code",
   "execution_count": 71,
   "metadata": {},
   "outputs": [
    {
     "name": "stdout",
     "output_type": "stream",
     "text": [
      "confusion matrix\n",
      "[[1351  406]\n",
      " [   6   15]]\n",
      "              precision    recall  f1-score   support\n",
      "\n",
      "         0.0       1.00      0.77      0.87      1757\n",
      "         1.0       0.04      0.71      0.07        21\n",
      "\n",
      "    accuracy                           0.77      1778\n",
      "   macro avg       0.52      0.74      0.47      1778\n",
      "weighted avg       0.98      0.77      0.86      1778\n",
      "\n",
      "Accuracy 0.7682789651293588\n",
      "Area under the curve 0.7416050085372794\n"
     ]
    }
   ],
   "source": [
    "from sklearn.naive_bayes import MultinomialNB\n",
    "\n",
    "model = MultinomialNB().fit(x_rs, y_rs)\n",
    "\n",
    "y_pred = model.predict(x_test)\n",
    "\n",
    "print('confusion matrix')\n",
    "print(metrics.confusion_matrix(y_test, y_pred))\n",
    "print(metrics.classification_report(y_test, y_pred))\n",
    "print('Accuracy {}'.format(metrics.accuracy_score(y_test, y_pred)) )\n",
    "print('Area under the curve {}'.format(metrics.roc_auc_score(y_test, y_pred)))\n",
    "\n"
   ]
  },
  {
   "cell_type": "code",
   "execution_count": null,
   "metadata": {},
   "outputs": [],
   "source": []
  },
  {
   "cell_type": "markdown",
   "metadata": {},
   "source": [
    "# XGBoost "
   ]
  },
  {
   "cell_type": "code",
   "execution_count": 26,
   "metadata": {},
   "outputs": [
    {
     "data": {
      "text/html": [
       "<div>\n",
       "<style scoped>\n",
       "    .dataframe tbody tr th:only-of-type {\n",
       "        vertical-align: middle;\n",
       "    }\n",
       "\n",
       "    .dataframe tbody tr th {\n",
       "        vertical-align: top;\n",
       "    }\n",
       "\n",
       "    .dataframe thead th {\n",
       "        text-align: right;\n",
       "    }\n",
       "</style>\n",
       "<table border=\"1\" class=\"dataframe\">\n",
       "  <thead>\n",
       "    <tr style=\"text-align: right;\">\n",
       "      <th></th>\n",
       "      <th>temp1</th>\n",
       "      <th>temp2</th>\n",
       "      <th>SP1</th>\n",
       "      <th>SP2</th>\n",
       "      <th>tcw1</th>\n",
       "      <th>tcw2</th>\n",
       "    </tr>\n",
       "    <tr>\n",
       "      <th>time</th>\n",
       "      <th></th>\n",
       "      <th></th>\n",
       "      <th></th>\n",
       "      <th></th>\n",
       "      <th></th>\n",
       "      <th></th>\n",
       "    </tr>\n",
       "  </thead>\n",
       "  <tbody>\n",
       "    <tr>\n",
       "      <th>1996-01-01</th>\n",
       "      <td>290.853851</td>\n",
       "      <td>291.062653</td>\n",
       "      <td>100175.007812</td>\n",
       "      <td>100065.085938</td>\n",
       "      <td>16.728743</td>\n",
       "      <td>16.694519</td>\n",
       "    </tr>\n",
       "    <tr>\n",
       "      <th>1996-01-02</th>\n",
       "      <td>291.241852</td>\n",
       "      <td>291.310394</td>\n",
       "      <td>100039.437500</td>\n",
       "      <td>99552.078125</td>\n",
       "      <td>17.240368</td>\n",
       "      <td>12.764560</td>\n",
       "    </tr>\n",
       "    <tr>\n",
       "      <th>1996-01-03</th>\n",
       "      <td>291.230896</td>\n",
       "      <td>291.758911</td>\n",
       "      <td>99499.601562</td>\n",
       "      <td>99446.812500</td>\n",
       "      <td>12.797529</td>\n",
       "      <td>18.472071</td>\n",
       "    </tr>\n",
       "    <tr>\n",
       "      <th>1996-01-04</th>\n",
       "      <td>292.104889</td>\n",
       "      <td>291.247406</td>\n",
       "      <td>99463.914062</td>\n",
       "      <td>99894.804688</td>\n",
       "      <td>19.124949</td>\n",
       "      <td>25.320429</td>\n",
       "    </tr>\n",
       "    <tr>\n",
       "      <th>1996-01-05</th>\n",
       "      <td>291.501343</td>\n",
       "      <td>291.270721</td>\n",
       "      <td>99918.070312</td>\n",
       "      <td>100171.132812</td>\n",
       "      <td>25.928146</td>\n",
       "      <td>27.919706</td>\n",
       "    </tr>\n",
       "    <tr>\n",
       "      <th>...</th>\n",
       "      <td>...</td>\n",
       "      <td>...</td>\n",
       "      <td>...</td>\n",
       "      <td>...</td>\n",
       "      <td>...</td>\n",
       "      <td>...</td>\n",
       "    </tr>\n",
       "    <tr>\n",
       "      <th>2020-04-26</th>\n",
       "      <td>289.416504</td>\n",
       "      <td>289.346375</td>\n",
       "      <td>99358.414062</td>\n",
       "      <td>99010.437500</td>\n",
       "      <td>14.770068</td>\n",
       "      <td>14.631294</td>\n",
       "    </tr>\n",
       "    <tr>\n",
       "      <th>2020-04-27</th>\n",
       "      <td>289.074646</td>\n",
       "      <td>289.555847</td>\n",
       "      <td>98926.929688</td>\n",
       "      <td>99756.703125</td>\n",
       "      <td>15.679741</td>\n",
       "      <td>10.016919</td>\n",
       "    </tr>\n",
       "    <tr>\n",
       "      <th>2020-04-28</th>\n",
       "      <td>289.660126</td>\n",
       "      <td>289.001801</td>\n",
       "      <td>99807.992188</td>\n",
       "      <td>100587.687500</td>\n",
       "      <td>10.210015</td>\n",
       "      <td>9.099380</td>\n",
       "    </tr>\n",
       "    <tr>\n",
       "      <th>2020-04-29</th>\n",
       "      <td>289.154694</td>\n",
       "      <td>288.899017</td>\n",
       "      <td>100527.953125</td>\n",
       "      <td>100384.835938</td>\n",
       "      <td>10.025865</td>\n",
       "      <td>8.654546</td>\n",
       "    </tr>\n",
       "    <tr>\n",
       "      <th>2020-04-30</th>\n",
       "      <td>288.659546</td>\n",
       "      <td>289.120880</td>\n",
       "      <td>100231.703125</td>\n",
       "      <td>99895.953125</td>\n",
       "      <td>8.651578</td>\n",
       "      <td>7.655159</td>\n",
       "    </tr>\n",
       "  </tbody>\n",
       "</table>\n",
       "<p>8887 rows × 6 columns</p>\n",
       "</div>"
      ],
      "text/plain": [
       "                 temp1       temp2            SP1            SP2       tcw1  \\\n",
       "time                                                                          \n",
       "1996-01-01  290.853851  291.062653  100175.007812  100065.085938  16.728743   \n",
       "1996-01-02  291.241852  291.310394  100039.437500   99552.078125  17.240368   \n",
       "1996-01-03  291.230896  291.758911   99499.601562   99446.812500  12.797529   \n",
       "1996-01-04  292.104889  291.247406   99463.914062   99894.804688  19.124949   \n",
       "1996-01-05  291.501343  291.270721   99918.070312  100171.132812  25.928146   \n",
       "...                ...         ...            ...            ...        ...   \n",
       "2020-04-26  289.416504  289.346375   99358.414062   99010.437500  14.770068   \n",
       "2020-04-27  289.074646  289.555847   98926.929688   99756.703125  15.679741   \n",
       "2020-04-28  289.660126  289.001801   99807.992188  100587.687500  10.210015   \n",
       "2020-04-29  289.154694  288.899017  100527.953125  100384.835938  10.025865   \n",
       "2020-04-30  288.659546  289.120880  100231.703125   99895.953125   8.651578   \n",
       "\n",
       "                 tcw2  \n",
       "time                   \n",
       "1996-01-01  16.694519  \n",
       "1996-01-02  12.764560  \n",
       "1996-01-03  18.472071  \n",
       "1996-01-04  25.320429  \n",
       "1996-01-05  27.919706  \n",
       "...               ...  \n",
       "2020-04-26  14.631294  \n",
       "2020-04-27  10.016919  \n",
       "2020-04-28   9.099380  \n",
       "2020-04-29   8.654546  \n",
       "2020-04-30   7.655159  \n",
       "\n",
       "[8887 rows x 6 columns]"
      ]
     },
     "execution_count": 26,
     "metadata": {},
     "output_type": "execute_result"
    }
   ],
   "source": [
    "X"
   ]
  },
  {
   "cell_type": "code",
   "execution_count": 27,
   "metadata": {},
   "outputs": [
    {
     "data": {
      "text/plain": [
       "time\n",
       "1996-01-01    0.0\n",
       "1996-01-02    0.0\n",
       "1996-01-03    0.0\n",
       "1996-01-04    0.0\n",
       "1996-01-05    0.0\n",
       "             ... \n",
       "2020-04-26    0.0\n",
       "2020-04-27    0.0\n",
       "2020-04-28    0.0\n",
       "2020-04-29    0.0\n",
       "2020-04-30    0.0\n",
       "Name: rain, Length: 8887, dtype: float64"
      ]
     },
     "execution_count": 27,
     "metadata": {},
     "output_type": "execute_result"
    }
   ],
   "source": [
    "Y"
   ]
  },
  {
   "cell_type": "markdown",
   "metadata": {},
   "source": [
    "## Imbalanced data"
   ]
  },
  {
   "cell_type": "code",
   "execution_count": 28,
   "metadata": {},
   "outputs": [
    {
     "name": "stdout",
     "output_type": "stream",
     "text": [
      "{'objective': 'binary:logistic', 'base_score': None, 'booster': None, 'colsample_bylevel': None, 'colsample_bynode': None, 'colsample_bytree': None, 'gamma': None, 'gpu_id': None, 'interaction_constraints': None, 'learning_rate': None, 'max_delta_step': None, 'max_depth': None, 'min_child_weight': None, 'monotone_constraints': None, 'n_jobs': None, 'num_parallel_tree': None, 'random_state': None, 'reg_alpha': None, 'reg_lambda': None, 'scale_pos_weight': None, 'subsample': None, 'tree_method': None, 'validate_parameters': None, 'verbosity': None}\n"
     ]
    }
   ],
   "source": [
    "x_train, x_test, y_train, y_test = train_test_split(X, Y, test_size=0.2, random_state=42)\n",
    "\n",
    "from xgboost.sklearn import XGBClassifier\n",
    "\n",
    "xgb_model = XGBClassifier()\n",
    "\n",
    "print(xgb_model.get_xgb_params())\n",
    "\n"
   ]
  },
  {
   "cell_type": "code",
   "execution_count": 44,
   "metadata": {
    "collapsed": true,
    "jupyter": {
     "outputs_hidden": true
    }
   },
   "outputs": [
    {
     "name": "stdout",
     "output_type": "stream",
     "text": [
      "[14:42:37] WARNING: /home/conda/feedstock_root/build_artifacts/xgboost_1607604574104/work/src/learner.cc:1061: Starting in XGBoost 1.3.0, the default evaluation metric used with the objective 'binary:logistic' was changed from 'error' to 'logloss'. Explicitly set eval_metric if you'd like to restore the old behavior.\n",
      "[0]\tvalidation_0-logloss:0.44536\tvalidation_1-logloss:0.44796\n",
      "[1]\tvalidation_0-logloss:0.30864\tvalidation_1-logloss:0.31318\n",
      "[2]\tvalidation_0-logloss:0.22274\tvalidation_1-logloss:0.22920\n",
      "[3]\tvalidation_0-logloss:0.16506\tvalidation_1-logloss:0.17409\n",
      "[4]\tvalidation_0-logloss:0.12518\tvalidation_1-logloss:0.13693\n",
      "[5]\tvalidation_0-logloss:0.09688\tvalidation_1-logloss:0.11128\n",
      "[6]\tvalidation_0-logloss:0.07671\tvalidation_1-logloss:0.09357\n",
      "[7]\tvalidation_0-logloss:0.06139\tvalidation_1-logloss:0.08116\n",
      "[8]\tvalidation_0-logloss:0.05007\tvalidation_1-logloss:0.07262\n",
      "[9]\tvalidation_0-logloss:0.04147\tvalidation_1-logloss:0.06675\n",
      "[10]\tvalidation_0-logloss:0.03530\tvalidation_1-logloss:0.06290\n",
      "[11]\tvalidation_0-logloss:0.03040\tvalidation_1-logloss:0.05996\n",
      "[12]\tvalidation_0-logloss:0.02642\tvalidation_1-logloss:0.05847\n",
      "[13]\tvalidation_0-logloss:0.02334\tvalidation_1-logloss:0.05810\n",
      "[14]\tvalidation_0-logloss:0.02081\tvalidation_1-logloss:0.05751\n",
      "[15]\tvalidation_0-logloss:0.01888\tvalidation_1-logloss:0.05718\n",
      "[16]\tvalidation_0-logloss:0.01718\tvalidation_1-logloss:0.05727\n",
      "[17]\tvalidation_0-logloss:0.01632\tvalidation_1-logloss:0.05771\n",
      "[18]\tvalidation_0-logloss:0.01516\tvalidation_1-logloss:0.05796\n"
     ]
    },
    {
     "name": "stderr",
     "output_type": "stream",
     "text": [
      "/home/fareeda/miniconda3/envs/bs38/lib/python3.8/site-packages/xgboost/sklearn.py:888: UserWarning: The use of label encoder in XGBClassifier is deprecated and will be removed in a future release. To remove this warning, do the following: 1) Pass option use_label_encoder=False when constructing XGBClassifier object; and 2) Encode your labels (y) as integers starting with 0, i.e. 0, 1, 2, ..., [num_class - 1].\n",
      "  warnings.warn(label_encoder_deprecation_msg, UserWarning)\n"
     ]
    },
    {
     "name": "stdout",
     "output_type": "stream",
     "text": [
      "[19]\tvalidation_0-logloss:0.01394\tvalidation_1-logloss:0.05913\n",
      "[20]\tvalidation_0-logloss:0.01324\tvalidation_1-logloss:0.05946\n",
      "[21]\tvalidation_0-logloss:0.01232\tvalidation_1-logloss:0.05986\n",
      "[22]\tvalidation_0-logloss:0.01174\tvalidation_1-logloss:0.06012\n",
      "[23]\tvalidation_0-logloss:0.01127\tvalidation_1-logloss:0.06055\n",
      "[24]\tvalidation_0-logloss:0.01090\tvalidation_1-logloss:0.06115\n",
      "[25]\tvalidation_0-logloss:0.01032\tvalidation_1-logloss:0.06141\n",
      "[26]\tvalidation_0-logloss:0.00973\tvalidation_1-logloss:0.06239\n",
      "[27]\tvalidation_0-logloss:0.00945\tvalidation_1-logloss:0.06274\n",
      "[28]\tvalidation_0-logloss:0.00921\tvalidation_1-logloss:0.06326\n",
      "[29]\tvalidation_0-logloss:0.00906\tvalidation_1-logloss:0.06358\n",
      "[30]\tvalidation_0-logloss:0.00883\tvalidation_1-logloss:0.06429\n",
      "[31]\tvalidation_0-logloss:0.00864\tvalidation_1-logloss:0.06448\n",
      "[32]\tvalidation_0-logloss:0.00815\tvalidation_1-logloss:0.06563\n",
      "[33]\tvalidation_0-logloss:0.00785\tvalidation_1-logloss:0.06610\n",
      "[34]\tvalidation_0-logloss:0.00772\tvalidation_1-logloss:0.06654\n",
      "[35]\tvalidation_0-logloss:0.00755\tvalidation_1-logloss:0.06677\n",
      "[36]\tvalidation_0-logloss:0.00722\tvalidation_1-logloss:0.06745\n",
      "[37]\tvalidation_0-logloss:0.00712\tvalidation_1-logloss:0.06789\n",
      "[38]\tvalidation_0-logloss:0.00688\tvalidation_1-logloss:0.06807\n",
      "[39]\tvalidation_0-logloss:0.00663\tvalidation_1-logloss:0.06873\n",
      "[40]\tvalidation_0-logloss:0.00629\tvalidation_1-logloss:0.06916\n",
      "[41]\tvalidation_0-logloss:0.00596\tvalidation_1-logloss:0.07008\n",
      "[42]\tvalidation_0-logloss:0.00587\tvalidation_1-logloss:0.07029\n",
      "[43]\tvalidation_0-logloss:0.00565\tvalidation_1-logloss:0.07089\n",
      "[44]\tvalidation_0-logloss:0.00555\tvalidation_1-logloss:0.07104\n",
      "[45]\tvalidation_0-logloss:0.00525\tvalidation_1-logloss:0.07164\n",
      "[46]\tvalidation_0-logloss:0.00505\tvalidation_1-logloss:0.07195\n",
      "[47]\tvalidation_0-logloss:0.00491\tvalidation_1-logloss:0.07246\n",
      "[48]\tvalidation_0-logloss:0.00476\tvalidation_1-logloss:0.07241\n",
      "[49]\tvalidation_0-logloss:0.00467\tvalidation_1-logloss:0.07244\n",
      "[50]\tvalidation_0-logloss:0.00458\tvalidation_1-logloss:0.07240\n",
      "[51]\tvalidation_0-logloss:0.00442\tvalidation_1-logloss:0.07292\n",
      "[52]\tvalidation_0-logloss:0.00432\tvalidation_1-logloss:0.07341\n",
      "[53]\tvalidation_0-logloss:0.00425\tvalidation_1-logloss:0.07354\n",
      "[54]\tvalidation_0-logloss:0.00410\tvalidation_1-logloss:0.07369\n",
      "[55]\tvalidation_0-logloss:0.00404\tvalidation_1-logloss:0.07392\n",
      "[56]\tvalidation_0-logloss:0.00396\tvalidation_1-logloss:0.07396\n",
      "[57]\tvalidation_0-logloss:0.00386\tvalidation_1-logloss:0.07454\n",
      "[58]\tvalidation_0-logloss:0.00380\tvalidation_1-logloss:0.07463\n",
      "[59]\tvalidation_0-logloss:0.00374\tvalidation_1-logloss:0.07503\n",
      "[60]\tvalidation_0-logloss:0.00362\tvalidation_1-logloss:0.07547\n",
      "[61]\tvalidation_0-logloss:0.00353\tvalidation_1-logloss:0.07576\n",
      "[62]\tvalidation_0-logloss:0.00347\tvalidation_1-logloss:0.07603\n",
      "[63]\tvalidation_0-logloss:0.00340\tvalidation_1-logloss:0.07630\n",
      "[64]\tvalidation_0-logloss:0.00333\tvalidation_1-logloss:0.07685\n",
      "[65]\tvalidation_0-logloss:0.00328\tvalidation_1-logloss:0.07702\n",
      "[66]\tvalidation_0-logloss:0.00323\tvalidation_1-logloss:0.07718\n",
      "[67]\tvalidation_0-logloss:0.00317\tvalidation_1-logloss:0.07744\n",
      "[68]\tvalidation_0-logloss:0.00310\tvalidation_1-logloss:0.07787\n",
      "[69]\tvalidation_0-logloss:0.00302\tvalidation_1-logloss:0.07803\n",
      "[70]\tvalidation_0-logloss:0.00296\tvalidation_1-logloss:0.07809\n",
      "[71]\tvalidation_0-logloss:0.00290\tvalidation_1-logloss:0.07838\n",
      "[72]\tvalidation_0-logloss:0.00283\tvalidation_1-logloss:0.07908\n",
      "[73]\tvalidation_0-logloss:0.00277\tvalidation_1-logloss:0.07976\n",
      "[74]\tvalidation_0-logloss:0.00272\tvalidation_1-logloss:0.08020\n",
      "[75]\tvalidation_0-logloss:0.00266\tvalidation_1-logloss:0.08050\n",
      "[76]\tvalidation_0-logloss:0.00261\tvalidation_1-logloss:0.08082\n",
      "[77]\tvalidation_0-logloss:0.00257\tvalidation_1-logloss:0.08101\n",
      "[78]\tvalidation_0-logloss:0.00253\tvalidation_1-logloss:0.08140\n",
      "[79]\tvalidation_0-logloss:0.00249\tvalidation_1-logloss:0.08143\n",
      "[80]\tvalidation_0-logloss:0.00246\tvalidation_1-logloss:0.08169\n",
      "[81]\tvalidation_0-logloss:0.00242\tvalidation_1-logloss:0.08208\n",
      "[82]\tvalidation_0-logloss:0.00238\tvalidation_1-logloss:0.08228\n",
      "[83]\tvalidation_0-logloss:0.00235\tvalidation_1-logloss:0.08242\n",
      "[84]\tvalidation_0-logloss:0.00233\tvalidation_1-logloss:0.08247\n",
      "[85]\tvalidation_0-logloss:0.00230\tvalidation_1-logloss:0.08245\n",
      "[86]\tvalidation_0-logloss:0.00227\tvalidation_1-logloss:0.08267\n",
      "[87]\tvalidation_0-logloss:0.00225\tvalidation_1-logloss:0.08274\n",
      "[88]\tvalidation_0-logloss:0.00222\tvalidation_1-logloss:0.08287\n",
      "[89]\tvalidation_0-logloss:0.00219\tvalidation_1-logloss:0.08296\n",
      "[90]\tvalidation_0-logloss:0.00217\tvalidation_1-logloss:0.08332\n",
      "[91]\tvalidation_0-logloss:0.00214\tvalidation_1-logloss:0.08373\n",
      "[92]\tvalidation_0-logloss:0.00212\tvalidation_1-logloss:0.08378\n",
      "[93]\tvalidation_0-logloss:0.00210\tvalidation_1-logloss:0.08395\n",
      "[94]\tvalidation_0-logloss:0.00207\tvalidation_1-logloss:0.08391\n",
      "[95]\tvalidation_0-logloss:0.00206\tvalidation_1-logloss:0.08390\n",
      "[96]\tvalidation_0-logloss:0.00203\tvalidation_1-logloss:0.08422\n",
      "[97]\tvalidation_0-logloss:0.00201\tvalidation_1-logloss:0.08442\n",
      "[98]\tvalidation_0-logloss:0.00199\tvalidation_1-logloss:0.08435\n",
      "[99]\tvalidation_0-logloss:0.00197\tvalidation_1-logloss:0.08458\n"
     ]
    },
    {
     "data": {
      "text/plain": [
       "XGBClassifier(base_score=0.5, booster='gbtree', colsample_bylevel=1,\n",
       "              colsample_bynode=1, colsample_bytree=1, gamma=0, gpu_id=-1,\n",
       "              importance_type='gain', interaction_constraints='',\n",
       "              learning_rate=0.300000012, max_delta_step=0, max_depth=6,\n",
       "              min_child_weight=1, missing=nan, monotone_constraints='()',\n",
       "              n_estimators=100, n_jobs=8, num_parallel_tree=1, random_state=0,\n",
       "              reg_alpha=0, reg_lambda=1, scale_pos_weight=1, subsample=1,\n",
       "              tree_method='exact', validate_parameters=1, verbosity=None)"
      ]
     },
     "execution_count": 44,
     "metadata": {},
     "output_type": "execute_result"
    }
   ],
   "source": [
    "xgb_model.fit(x_train, y_train, eval_metric=['error'], eval_set=[(x_train, y_train), (x_test, y_test)])"
   ]
  },
  {
   "cell_type": "code",
   "execution_count": 45,
   "metadata": {},
   "outputs": [
    {
     "name": "stdout",
     "output_type": "stream",
     "text": [
      "confusion matrix\n",
      "[[1757    0]\n",
      " [  21    0]]\n",
      "classification report\n",
      "              precision    recall  f1-score   support\n",
      "\n",
      "         0.0       0.99      1.00      0.99      1757\n",
      "         1.0       0.00      0.00      0.00        21\n",
      "\n",
      "    accuracy                           0.99      1778\n",
      "   macro avg       0.49      0.50      0.50      1778\n",
      "weighted avg       0.98      0.99      0.98      1778\n",
      "\n",
      "Accuracy\n",
      "0.9881889763779528\n",
      "Area under the curve 0.5\n"
     ]
    }
   ],
   "source": [
    "from sklearn import metrics\n",
    "import warnings\n",
    "warnings.filterwarnings('ignore')\n",
    "\n",
    "y_pred = xgb_model.predict(x_test) \n",
    "print('confusion matrix')\n",
    "print(metrics.confusion_matrix(y_test, y_pred))\n",
    "print('classification report')\n",
    "print(metrics.classification_report(y_test, y_pred))\n",
    "print('Accuracy')\n",
    "print(metrics.accuracy_score(y_test, y_pred))\n",
    "print('Area under the curve {}'.format(metrics.roc_auc_score(y_test, y_pred)))\n"
   ]
  },
  {
   "cell_type": "markdown",
   "metadata": {},
   "source": [
    "# SMOTE\n",
    "Balanced train data and imbalanced test data\n"
   ]
  },
  {
   "cell_type": "code",
   "execution_count": 48,
   "metadata": {},
   "outputs": [],
   "source": [
    "x_train, x_test, y_train, y_test = train_test_split(X, Y, test_size=0.2, random_state=42)\n"
   ]
  },
  {
   "cell_type": "code",
   "execution_count": 26,
   "metadata": {},
   "outputs": [
    {
     "data": {
      "text/plain": [
       "((7109, 6), (1778, 6), (7109,), (1778,))"
      ]
     },
     "execution_count": 26,
     "metadata": {},
     "output_type": "execute_result"
    }
   ],
   "source": [
    "x_train.shape, x_test.shape, y_train.shape, y_test.shape"
   ]
  },
  {
   "cell_type": "code",
   "execution_count": 27,
   "metadata": {},
   "outputs": [
    {
     "name": "stdout",
     "output_type": "stream",
     "text": [
      "0.0    7054\n",
      "1.0      55\n",
      "Name: rain, dtype: int64\n",
      "0.0    1757\n",
      "1.0      21\n",
      "Name: rain, dtype: int64\n"
     ]
    }
   ],
   "source": [
    "print(y_train.value_counts())\n",
    "print(y_test.value_counts())"
   ]
  },
  {
   "cell_type": "code",
   "execution_count": 36,
   "metadata": {},
   "outputs": [],
   "source": [
    "# upsampling train data\n",
    "from collections import Counter\n",
    "from imblearn.over_sampling import SMOTE\n",
    "\n",
    "sm = SMOTE(random_state=42)\n",
    "x_upsam, y_upsam = sm.fit_sample(x_train, y_train)\n"
   ]
  },
  {
   "cell_type": "code",
   "execution_count": 27,
   "metadata": {},
   "outputs": [
    {
     "data": {
      "text/plain": [
       "0.0    7054\n",
       "1.0    7054\n",
       "Name: rain, dtype: int64"
      ]
     },
     "execution_count": 27,
     "metadata": {},
     "output_type": "execute_result"
    }
   ],
   "source": [
    "y_upsam.value_counts()"
   ]
  },
  {
   "cell_type": "markdown",
   "metadata": {},
   "source": [
    "## XGBoost"
   ]
  },
  {
   "cell_type": "code",
   "execution_count": 32,
   "metadata": {},
   "outputs": [
    {
     "name": "stdout",
     "output_type": "stream",
     "text": [
      "{'objective': 'binary:logistic', 'base_score': None, 'booster': None, 'colsample_bylevel': None, 'colsample_bynode': None, 'colsample_bytree': None, 'gamma': None, 'gpu_id': None, 'interaction_constraints': None, 'learning_rate': None, 'max_delta_step': None, 'max_depth': None, 'min_child_weight': None, 'monotone_constraints': None, 'n_jobs': None, 'num_parallel_tree': None, 'random_state': None, 'reg_alpha': None, 'reg_lambda': None, 'scale_pos_weight': None, 'subsample': None, 'tree_method': None, 'validate_parameters': None, 'verbosity': None}\n"
     ]
    }
   ],
   "source": [
    "from xgboost.sklearn import XGBClassifier\n",
    "from sklearn import metrics\n",
    "import warnings\n",
    "warnings.filterwarnings('ignore')\n",
    "\n",
    "\n",
    "xgb_model = XGBClassifier()\n",
    "\n",
    "print(xgb_model.get_xgb_params())"
   ]
  },
  {
   "cell_type": "code",
   "execution_count": 33,
   "metadata": {},
   "outputs": [
    {
     "name": "stdout",
     "output_type": "stream",
     "text": [
      "[09:18:04] WARNING: /home/conda/feedstock_root/build_artifacts/xgboost_1607604574104/work/src/learner.cc:1061: Starting in XGBoost 1.3.0, the default evaluation metric used with the objective 'binary:logistic' was changed from 'error' to 'logloss'. Explicitly set eval_metric if you'd like to restore the old behavior.\n"
     ]
    },
    {
     "data": {
      "text/plain": [
       "XGBClassifier(base_score=0.5, booster='gbtree', colsample_bylevel=1,\n",
       "              colsample_bynode=1, colsample_bytree=1, gamma=0, gpu_id=-1,\n",
       "              importance_type='gain', interaction_constraints='',\n",
       "              learning_rate=0.300000012, max_delta_step=0, max_depth=6,\n",
       "              min_child_weight=1, missing=nan, monotone_constraints='()',\n",
       "              n_estimators=100, n_jobs=8, num_parallel_tree=1, random_state=0,\n",
       "              reg_alpha=0, reg_lambda=1, scale_pos_weight=1, subsample=1,\n",
       "              tree_method='exact', validate_parameters=1, verbosity=None)"
      ]
     },
     "execution_count": 33,
     "metadata": {},
     "output_type": "execute_result"
    }
   ],
   "source": [
    "xgb_model.fit(x_upsam, y_upsam)"
   ]
  },
  {
   "cell_type": "code",
   "execution_count": 34,
   "metadata": {},
   "outputs": [
    {
     "name": "stdout",
     "output_type": "stream",
     "text": [
      "confusion matrix\n",
      "[[1711   46]\n",
      " [  16    5]]\n",
      "              precision    recall  f1-score   support\n",
      "\n",
      "         0.0       0.99      0.97      0.98      1757\n",
      "         1.0       0.10      0.24      0.14        21\n",
      "\n",
      "    accuracy                           0.97      1778\n",
      "   macro avg       0.54      0.61      0.56      1778\n",
      "weighted avg       0.98      0.97      0.97      1778\n",
      "\n",
      "Accuracy 0.9651293588301463\n",
      "Area under the curve 0.6059571238854108\n"
     ]
    }
   ],
   "source": [
    "y_pred_upsam = xgb_model.predict(x_test)\n",
    "\n",
    "print('confusion matrix')\n",
    "print(metrics.confusion_matrix(y_test, y_pred_upsam))\n",
    "print(metrics.classification_report(y_test, y_pred_upsam))\n",
    "print('Accuracy {}'.format(metrics.accuracy_score(y_test, y_pred_upsam)) )\n",
    "print('Area under the curve {}'.format(metrics.roc_auc_score(y_test, y_pred_upsam)))"
   ]
  },
  {
   "cell_type": "code",
   "execution_count": 35,
   "metadata": {},
   "outputs": [
    {
     "data": {
      "image/png": "[encoded data removed]",
      "text/plain": [
       "<Figure size 216x216 with 2 Axes>"
      ]
     },
     "metadata": {},
     "output_type": "display_data"
    }
   ],
   "source": [
    "sns.set(font_scale=1.2)\n",
    "\n",
    "def plot_confusion_mat(Y_test, Y_predict):\n",
    "    \"\"\"\n",
    "    Plot a nice looking confusion matrix using seaborn's heatmap()\n",
    "    \"\"\"\n",
    "    fig, ax = plt.subplots(figsize=(3,3))\n",
    "    ax = sns.heatmap(confusion_matrix(Y_test, Y_predict), \n",
    "                    annot = True,\n",
    "                    cbar=True)\n",
    "    plt.xlabel('True label')\n",
    "    plt.ylabel('Predicted label')\n",
    "    \n",
    "    bottom, top = ax.get_ylim()\n",
    "    #ax.set_ylim(bottom + 0.5, top - 0.5)\n",
    "    \n",
    "plot_confusion_mat(y_test, y_pred_upsam) "
   ]
  },
  {
   "cell_type": "markdown",
   "metadata": {},
   "source": [
    "## LogisticRegression"
   ]
  },
  {
   "cell_type": "code",
   "execution_count": 38,
   "metadata": {},
   "outputs": [
    {
     "name": "stdout",
     "output_type": "stream",
     "text": [
      "confusion matrix\n",
      "[[1352  405]\n",
      " [  10   11]]\n",
      "              precision    recall  f1-score   support\n",
      "\n",
      "         0.0       0.99      0.77      0.87      1757\n",
      "         1.0       0.03      0.52      0.05        21\n",
      "\n",
      "    accuracy                           0.77      1778\n",
      "   macro avg       0.51      0.65      0.46      1778\n",
      "weighted avg       0.98      0.77      0.86      1778\n",
      "\n",
      "Accuracy 0.7665916760404949\n",
      "Area under the curve 0.6466514892809714\n"
     ]
    }
   ],
   "source": [
    "# LogisticRegression\n",
    "model1 = LogisticRegression(solver='liblinear').fit(x_upsam, y_upsam)\n",
    "\n",
    "y_pred1  = model1.predict(x_test)\n",
    "\n",
    "print('confusion matrix')\n",
    "print(metrics.confusion_matrix(y_test, y_pred1))\n",
    "print(metrics.classification_report(y_test, y_pred1))\n",
    "print('Accuracy {}'.format(metrics.accuracy_score(y_test, y_pred1)) )\n",
    "print('Area under the curve {}'.format(metrics.roc_auc_score(y_test, y_pred1)))\n"
   ]
  },
  {
   "cell_type": "markdown",
   "metadata": {},
   "source": [
    "## SVC"
   ]
  },
  {
   "cell_type": "code",
   "execution_count": 40,
   "metadata": {},
   "outputs": [],
   "source": [
    "# svc model\n",
    "from sklearn.svm import SVC\n",
    "\n",
    "\n",
    "svc_model = SVC()"
   ]
  },
  {
   "cell_type": "code",
   "execution_count": 41,
   "metadata": {},
   "outputs": [
    {
     "name": "stdout",
     "output_type": "stream",
     "text": [
      "confusion matrix\n",
      "[[1232  525]\n",
      " [   4   17]]\n",
      "              precision    recall  f1-score   support\n",
      "\n",
      "         0.0       1.00      0.70      0.82      1757\n",
      "         1.0       0.03      0.81      0.06        21\n",
      "\n",
      "    accuracy                           0.70      1778\n",
      "   macro avg       0.51      0.76      0.44      1778\n",
      "weighted avg       0.99      0.70      0.81      1778\n",
      "\n",
      "Accuracy 0.7024746906636671\n",
      "Area under the curve 0.7553595143236578\n"
     ]
    }
   ],
   "source": [
    "model5 = svc_model.fit(x_upsam, y_upsam)\n",
    "\n",
    "y_pred5 = model5.predict(x_test)\n",
    "\n",
    "print('confusion matrix')\n",
    "print(metrics.confusion_matrix(y_test, y_pred5))\n",
    "print(metrics.classification_report(y_test, y_pred5))\n",
    "print('Accuracy {}'.format(metrics.accuracy_score(y_test, y_pred5)) )\n",
    "print('Area under the curve {}'.format(metrics.roc_auc_score(y_test, y_pred5)))"
   ]
  },
  {
   "cell_type": "markdown",
   "metadata": {},
   "source": [
    "## Decision Tree"
   ]
  },
  {
   "cell_type": "code",
   "execution_count": 33,
   "metadata": {},
   "outputs": [
    {
     "name": "stdout",
     "output_type": "stream",
     "text": [
      "confusion matrix\n",
      "[[1679   78]\n",
      " [  17    4]]\n",
      "              precision    recall  f1-score   support\n",
      "\n",
      "         0.0       0.99      0.96      0.97      1757\n",
      "         1.0       0.05      0.19      0.08        21\n",
      "\n",
      "    accuracy                           0.95      1778\n",
      "   macro avg       0.52      0.57      0.53      1778\n",
      "weighted avg       0.98      0.95      0.96      1778\n",
      "\n",
      "Accuracy 0.9465691788526435\n",
      "Area under the curve 0.5730411686586986\n"
     ]
    }
   ],
   "source": [
    "from sklearn.tree import DecisionTreeClassifier\n",
    "from sklearn import metrics\n",
    "\n",
    "np.random.seed(42)\n",
    "\n",
    "dt = DecisionTreeClassifier()\n",
    "\n",
    "model6 = dt.fit(x_upsam, y_upsam)\n",
    "\n",
    "y_pred6 = model6.predict(x_test)\n",
    "\n",
    "print('confusion matrix')\n",
    "print(metrics.confusion_matrix(y_test, y_pred6))\n",
    "print(metrics.classification_report(y_test, y_pred6))\n",
    "print('Accuracy {}'.format(metrics.accuracy_score(y_test, y_pred6)) )\n",
    "print('Area under the curve {}'.format(metrics.roc_auc_score(y_test, y_pred6)))"
   ]
  },
  {
   "cell_type": "markdown",
   "metadata": {},
   "source": [
    "## RandomForest"
   ]
  },
  {
   "cell_type": "code",
   "execution_count": 35,
   "metadata": {},
   "outputs": [
    {
     "name": "stdout",
     "output_type": "stream",
     "text": [
      "confusion matrix\n",
      "[[1721   36]\n",
      " [  16    5]]\n",
      "              precision    recall  f1-score   support\n",
      "\n",
      "         0.0       0.99      0.98      0.99      1757\n",
      "         1.0       0.12      0.24      0.16        21\n",
      "\n",
      "    accuracy                           0.97      1778\n",
      "   macro avg       0.56      0.61      0.57      1778\n",
      "weighted avg       0.98      0.97      0.98      1778\n",
      "\n",
      "Accuracy 0.9707536557930259\n",
      "Area under the curve 0.6088028837032821\n"
     ]
    }
   ],
   "source": [
    "# RandomForest\n",
    "from sklearn import metrics\n",
    "import warnings\n",
    "warnings.filterwarnings('ignore')\n",
    "\n",
    "np.random.seed(42)\n",
    "\n",
    "model2 = RandomForestClassifier().fit(x_upsam, y_upsam)\n",
    "\n",
    "y_pred2 = model2.predict(x_test)\n",
    "\n",
    "print('confusion matrix')\n",
    "print(metrics.confusion_matrix(y_test, y_pred2))\n",
    "print(metrics.classification_report(y_test, y_pred2))\n",
    "print('Accuracy {}'.format(metrics.accuracy_score(y_test, y_pred2)) )\n",
    "print('Area under the curve {}'.format(metrics.roc_auc_score(y_test, y_pred2)))"
   ]
  },
  {
   "cell_type": "code",
   "execution_count": 32,
   "metadata": {},
   "outputs": [
    {
     "data": {
      "text/plain": [
       "{'bootstrap': True,\n",
       " 'ccp_alpha': 0.0,\n",
       " 'class_weight': None,\n",
       " 'criterion': 'gini',\n",
       " 'max_depth': None,\n",
       " 'max_features': 'auto',\n",
       " 'max_leaf_nodes': None,\n",
       " 'max_samples': None,\n",
       " 'min_impurity_decrease': 0.0,\n",
       " 'min_impurity_split': None,\n",
       " 'min_samples_leaf': 1,\n",
       " 'min_samples_split': 2,\n",
       " 'min_weight_fraction_leaf': 0.0,\n",
       " 'n_estimators': 100,\n",
       " 'n_jobs': None,\n",
       " 'oob_score': False,\n",
       " 'random_state': None,\n",
       " 'verbose': 0,\n",
       " 'warm_start': False}"
      ]
     },
     "execution_count": 32,
     "metadata": {},
     "output_type": "execute_result"
    }
   ],
   "source": [
    "model2.get_params()"
   ]
  },
  {
   "cell_type": "markdown",
   "metadata": {},
   "source": [
    "### Hyperparameter tunning (RandomForest)"
   ]
  },
  {
   "cell_type": "markdown",
   "metadata": {},
   "source": [
    "#### Randomizedsearchcv"
   ]
  },
  {
   "cell_type": "code",
   "execution_count": 43,
   "metadata": {},
   "outputs": [
    {
     "data": {
      "text/plain": [
       "RandomizedSearchCV(cv=2, estimator=RandomForestClassifier(n_jobs=1), n_iter=2,\n",
       "                   param_distributions={'max_depth': [None, 5, 10, 20, 30],\n",
       "                                        'max_features': ['auto', 'sqrt'],\n",
       "                                        'min_samples_leaf': [1, 2, 4],\n",
       "                                        'min_samples_split': [2, 4, 6],\n",
       "                                        'n_estimators': [10, 100, 200, 500,\n",
       "                                                         1000, 1200]})"
      ]
     },
     "execution_count": 43,
     "metadata": {},
     "output_type": "execute_result"
    }
   ],
   "source": [
    "from sklearn.model_selection import RandomizedSearchCV\n",
    "\n",
    "np.random.seed(42)\n",
    "\n",
    "# Hyperparameter grid RandomizedSearchCV will search over\n",
    "grid = {'n_estimators' : [10, 100, 200, 500, 1000, 1200],\n",
    "       'max_depth' : [None, 5, 10, 20, 30],\n",
    "       'max_features' : ['auto', 'sqrt'],\n",
    "       'min_samples_split' : [2, 4, 6],\n",
    "       'min_samples_leaf' : [1, 2, 4]}\n",
    "\n",
    "clf = RandomForestClassifier(n_jobs=1)\n",
    "\n",
    "# Setup RandomilzedSearchCV\n",
    "rs_clf = RandomizedSearchCV(estimator = clf,\n",
    "                           param_distributions=grid,\n",
    "                           n_iter=2, # try 20 models total\n",
    "                           cv=2 # 5-fold cross-validation\n",
    "                             ) \n",
    "\n",
    "\n",
    "# Fit the RandomizedSearchCV version of clf\n",
    "rs_clf.fit(x_upsam, y_upsam)"
   ]
  },
  {
   "cell_type": "code",
   "execution_count": 44,
   "metadata": {},
   "outputs": [
    {
     "name": "stdout",
     "output_type": "stream",
     "text": [
      "confusion matrix\n",
      "[[1722   35]\n",
      " [  16    5]]\n",
      "              precision    recall  f1-score   support\n",
      "\n",
      "         0.0       0.99      0.98      0.99      1757\n",
      "         1.0       0.12      0.24      0.16        21\n",
      "\n",
      "    accuracy                           0.97      1778\n",
      "   macro avg       0.56      0.61      0.57      1778\n",
      "weighted avg       0.98      0.97      0.98      1778\n",
      "\n",
      "Accuracy 0.9713160854893138\n",
      "Area under the curve 0.6090874596850693\n"
     ]
    }
   ],
   "source": [
    "# Make predictions with the best hyperparamters\n",
    "rs_y_pred = rs_clf.predict(x_test)\n",
    "\n",
    "print('confusion matrix')\n",
    "print(metrics.confusion_matrix(y_test, rs_y_pred))\n",
    "print(metrics.classification_report(y_test, rs_y_pred))\n",
    "print('Accuracy {}'.format(metrics.accuracy_score(y_test, rs_y_pred)) )\n",
    "print('Area under the curve {}'.format(metrics.roc_auc_score(y_test, rs_y_pred)))"
   ]
  },
  {
   "cell_type": "code",
   "execution_count": 51,
   "metadata": {},
   "outputs": [
    {
     "data": {
      "text/plain": [
       "RandomizedSearchCV(cv=5, estimator=RandomForestClassifier(n_jobs=1), n_iter=20,\n",
       "                   param_distributions={'max_depth': [None, 5, 10, 20, 30],\n",
       "                                        'max_features': ['auto', 'sqrt'],\n",
       "                                        'min_samples_leaf': [1, 2, 4],\n",
       "                                        'min_samples_split': [2, 4, 6],\n",
       "                                        'n_estimators': [10, 100, 200, 500,\n",
       "                                                         1000, 1200]})"
      ]
     },
     "execution_count": 51,
     "metadata": {},
     "output_type": "execute_result"
    }
   ],
   "source": [
    "from sklearn.model_selection import RandomizedSearchCV\n",
    "\n",
    "np.random.seed(42)\n",
    "\n",
    "# Hyperparameter grid RandomizedSearchCV will search over\n",
    "grid = {'n_estimators' : [10, 100, 200, 500, 1000, 1200],\n",
    "       'max_depth' : [None, 5, 10, 20, 30],\n",
    "       'max_features' : ['auto', 'sqrt'],\n",
    "       'min_samples_split' : [2, 4, 6],\n",
    "       'min_samples_leaf' : [1, 2, 4]}\n",
    "\n",
    "clf = RandomForestClassifier(n_jobs=1)\n",
    "\n",
    "# Setup RandomilzedSearchCV\n",
    "rs_clf1 = RandomizedSearchCV(estimator = clf,\n",
    "                           param_distributions=grid,\n",
    "                           n_iter=20, # try 20 models total\n",
    "                           cv=5 # 5-fold cross-validation\n",
    "                             ) \n",
    "\n",
    "\n",
    "# Fit the RandomizedSearchCV version of clf\n",
    "rs_clf1.fit(x_upsam, y_upsam)"
   ]
  },
  {
   "cell_type": "code",
   "execution_count": 52,
   "metadata": {},
   "outputs": [
    {
     "data": {
      "text/plain": [
       "{'n_estimators': 100,\n",
       " 'min_samples_split': 2,\n",
       " 'min_samples_leaf': 1,\n",
       " 'max_features': 'sqrt',\n",
       " 'max_depth': None}"
      ]
     },
     "execution_count": 52,
     "metadata": {},
     "output_type": "execute_result"
    }
   ],
   "source": [
    "rs_clf1.best_params_"
   ]
  },
  {
   "cell_type": "code",
   "execution_count": 53,
   "metadata": {},
   "outputs": [
    {
     "name": "stdout",
     "output_type": "stream",
     "text": [
      "confusion matrix\n",
      "[[1723   34]\n",
      " [  16    5]]\n",
      "              precision    recall  f1-score   support\n",
      "\n",
      "         0.0       0.99      0.98      0.99      1757\n",
      "         1.0       0.13      0.24      0.17        21\n",
      "\n",
      "    accuracy                           0.97      1778\n",
      "   macro avg       0.56      0.61      0.58      1778\n",
      "weighted avg       0.98      0.97      0.98      1778\n",
      "\n",
      "Accuracy 0.9718785151856018\n",
      "Area under the curve 0.6093720356668564\n"
     ]
    }
   ],
   "source": [
    "# Make predictions with the best hyperparamters\n",
    "rs_y_pred1 = rs_clf1.predict(x_test)\n",
    "\n",
    "print('confusion matrix')\n",
    "print(metrics.confusion_matrix(y_test, rs_y_pred1))\n",
    "print(metrics.classification_report(y_test, rs_y_pred1))\n",
    "print('Accuracy {}'.format(metrics.accuracy_score(y_test, rs_y_pred1)) )\n",
    "print('Area under the curve {}'.format(metrics.roc_auc_score(y_test, rs_y_pred1)))"
   ]
  },
  {
   "cell_type": "code",
   "execution_count": null,
   "metadata": {},
   "outputs": [],
   "source": [
    "from sklearn.model_selection import RandomizedSearchCV\n",
    "\n",
    "np.random.seed(42)\n",
    "\n",
    "# Hyperparameter grid RandomizedSearchCV will search over\n",
    "grid1 = {'n_estimators' : [10, 100, 200, 500, 1000, 1200, 1500, 2000, 2200, 2500],\n",
    "       'max_depth' : [None, 5, 10, 20, 30, 50, 70, 100],\n",
    "       'max_features' : ['auto', 'sqrt'],\n",
    "       'min_samples_split' : [2, 4, 6, 8, 10],\n",
    "       'min_samples_leaf' : [1, 2, 4],\n",
    "       'bootstrap' : [True, False]}\n",
    "\n",
    "clf = RandomForestClassifier(n_jobs=1)\n",
    "\n",
    "# Setup RandomilzedSearchCV\n",
    "rs_clf2 = RandomizedSearchCV(estimator = clf,\n",
    "                           param_distributions=grid1,\n",
    "                           n_iter=20, # try 20 models total\n",
    "                           cv=5 # 5-fold cross-validation\n",
    "                             ) \n",
    "\n",
    "\n",
    "# Fit the RandomizedSearchCV version of clf\n",
    "rs_clf2.fit(x_upsam, y_upsam)"
   ]
  },
  {
   "cell_type": "code",
   "execution_count": null,
   "metadata": {},
   "outputs": [],
   "source": [
    "rs_clf2.best_params_"
   ]
  },
  {
   "cell_type": "code",
   "execution_count": null,
   "metadata": {},
   "outputs": [],
   "source": [
    "# Make predictions with the best hyperparamters\n",
    "rs_y_pred2 = rs_clf2.predict(x_test)\n",
    "\n",
    "print('confusion matrix')\n",
    "print(metrics.confusion_matrix(y_test, rs_y_pred2))\n",
    "print(metrics.classification_report(y_test, rs_y_pred2))\n",
    "print('Accuracy {}'.format(metrics.accuracy_score(y_test, rs_y_pred2)) )\n",
    "print('Area under the curve {}'.format(metrics.roc_auc_score(y_test, rs_y_pred2)))"
   ]
  },
  {
   "cell_type": "code",
   "execution_count": null,
   "metadata": {},
   "outputs": [],
   "source": []
  },
  {
   "cell_type": "markdown",
   "metadata": {},
   "source": [
    "#### Gridsearchcv"
   ]
  },
  {
   "cell_type": "code",
   "execution_count": null,
   "metadata": {},
   "outputs": [],
   "source": []
  },
  {
   "cell_type": "code",
   "execution_count": 31,
   "metadata": {},
   "outputs": [
    {
     "data": {
      "text/plain": [
       "0.9940787998355697"
      ]
     },
     "execution_count": 31,
     "metadata": {},
     "output_type": "execute_result"
    }
   ],
   "source": [
    "grid_naive_up = GridSearchCV(rf, param_grid=params, cv=kf, scoring='recall').fit(x_train_up, y_train_up)\n",
    "\n",
    "grid_naive_up.best_score_"
   ]
  },
  {
   "cell_type": "code",
   "execution_count": 37,
   "metadata": {
    "collapsed": true,
    "jupyter": {
     "outputs_hidden": true
    }
   },
   "outputs": [
    {
     "ename": "KeyboardInterrupt",
     "evalue": "",
     "output_type": "error",
     "traceback": [
      "\u001b[0;31m---------------------------------------------------------------------------\u001b[0m",
      "\u001b[0;31mKeyboardInterrupt\u001b[0m                         Traceback (most recent call last)",
      "\u001b[0;32m<ipython-input-37-00f0eb994b83>\u001b[0m in \u001b[0;36m<module>\u001b[0;34m\u001b[0m\n\u001b[1;32m     15\u001b[0m                      cv=2)\n\u001b[1;32m     16\u001b[0m \u001b[0;34m\u001b[0m\u001b[0m\n\u001b[0;32m---> 17\u001b[0;31m \u001b[0mgd_clf\u001b[0m\u001b[0;34m.\u001b[0m\u001b[0mfit\u001b[0m\u001b[0;34m(\u001b[0m\u001b[0mx_upsam\u001b[0m\u001b[0;34m,\u001b[0m \u001b[0my_upsam\u001b[0m\u001b[0;34m)\u001b[0m\u001b[0;34m\u001b[0m\u001b[0;34m\u001b[0m\u001b[0m\n\u001b[0m",
      "\u001b[0;32m~/miniconda3/envs/bs38/lib/python3.8/site-packages/sklearn/utils/validation.py\u001b[0m in \u001b[0;36minner_f\u001b[0;34m(*args, **kwargs)\u001b[0m\n\u001b[1;32m     61\u001b[0m             \u001b[0mextra_args\u001b[0m \u001b[0;34m=\u001b[0m \u001b[0mlen\u001b[0m\u001b[0;34m(\u001b[0m\u001b[0margs\u001b[0m\u001b[0;34m)\u001b[0m \u001b[0;34m-\u001b[0m \u001b[0mlen\u001b[0m\u001b[0;34m(\u001b[0m\u001b[0mall_args\u001b[0m\u001b[0;34m)\u001b[0m\u001b[0;34m\u001b[0m\u001b[0;34m\u001b[0m\u001b[0m\n\u001b[1;32m     62\u001b[0m             \u001b[0;32mif\u001b[0m \u001b[0mextra_args\u001b[0m \u001b[0;34m<=\u001b[0m \u001b[0;36m0\u001b[0m\u001b[0;34m:\u001b[0m\u001b[0;34m\u001b[0m\u001b[0;34m\u001b[0m\u001b[0m\n\u001b[0;32m---> 63\u001b[0;31m                 \u001b[0;32mreturn\u001b[0m \u001b[0mf\u001b[0m\u001b[0;34m(\u001b[0m\u001b[0;34m*\u001b[0m\u001b[0margs\u001b[0m\u001b[0;34m,\u001b[0m \u001b[0;34m**\u001b[0m\u001b[0mkwargs\u001b[0m\u001b[0;34m)\u001b[0m\u001b[0;34m\u001b[0m\u001b[0;34m\u001b[0m\u001b[0m\n\u001b[0m\u001b[1;32m     64\u001b[0m \u001b[0;34m\u001b[0m\u001b[0m\n\u001b[1;32m     65\u001b[0m             \u001b[0;31m# extra_args > 0\u001b[0m\u001b[0;34m\u001b[0m\u001b[0;34m\u001b[0m\u001b[0;34m\u001b[0m\u001b[0m\n",
      "\u001b[0;32m~/miniconda3/envs/bs38/lib/python3.8/site-packages/sklearn/model_selection/_search.py\u001b[0m in \u001b[0;36mfit\u001b[0;34m(self, X, y, groups, **fit_params)\u001b[0m\n\u001b[1;32m    839\u001b[0m                 \u001b[0;32mreturn\u001b[0m \u001b[0mresults\u001b[0m\u001b[0;34m\u001b[0m\u001b[0;34m\u001b[0m\u001b[0m\n\u001b[1;32m    840\u001b[0m \u001b[0;34m\u001b[0m\u001b[0m\n\u001b[0;32m--> 841\u001b[0;31m             \u001b[0mself\u001b[0m\u001b[0;34m.\u001b[0m\u001b[0m_run_search\u001b[0m\u001b[0;34m(\u001b[0m\u001b[0mevaluate_candidates\u001b[0m\u001b[0;34m)\u001b[0m\u001b[0;34m\u001b[0m\u001b[0;34m\u001b[0m\u001b[0m\n\u001b[0m\u001b[1;32m    842\u001b[0m \u001b[0;34m\u001b[0m\u001b[0m\n\u001b[1;32m    843\u001b[0m             \u001b[0;31m# multimetric is determined here because in the case of a callable\u001b[0m\u001b[0;34m\u001b[0m\u001b[0;34m\u001b[0m\u001b[0;34m\u001b[0m\u001b[0m\n",
      "\u001b[0;32m~/miniconda3/envs/bs38/lib/python3.8/site-packages/sklearn/model_selection/_search.py\u001b[0m in \u001b[0;36m_run_search\u001b[0;34m(self, evaluate_candidates)\u001b[0m\n\u001b[1;32m   1286\u001b[0m     \u001b[0;32mdef\u001b[0m \u001b[0m_run_search\u001b[0m\u001b[0;34m(\u001b[0m\u001b[0mself\u001b[0m\u001b[0;34m,\u001b[0m \u001b[0mevaluate_candidates\u001b[0m\u001b[0;34m)\u001b[0m\u001b[0;34m:\u001b[0m\u001b[0;34m\u001b[0m\u001b[0;34m\u001b[0m\u001b[0m\n\u001b[1;32m   1287\u001b[0m         \u001b[0;34m\"\"\"Search all candidates in param_grid\"\"\"\u001b[0m\u001b[0;34m\u001b[0m\u001b[0;34m\u001b[0m\u001b[0m\n\u001b[0;32m-> 1288\u001b[0;31m         \u001b[0mevaluate_candidates\u001b[0m\u001b[0;34m(\u001b[0m\u001b[0mParameterGrid\u001b[0m\u001b[0;34m(\u001b[0m\u001b[0mself\u001b[0m\u001b[0;34m.\u001b[0m\u001b[0mparam_grid\u001b[0m\u001b[0;34m)\u001b[0m\u001b[0;34m)\u001b[0m\u001b[0;34m\u001b[0m\u001b[0;34m\u001b[0m\u001b[0m\n\u001b[0m\u001b[1;32m   1289\u001b[0m \u001b[0;34m\u001b[0m\u001b[0m\n\u001b[1;32m   1290\u001b[0m \u001b[0;34m\u001b[0m\u001b[0m\n",
      "\u001b[0;32m~/miniconda3/envs/bs38/lib/python3.8/site-packages/sklearn/model_selection/_search.py\u001b[0m in \u001b[0;36mevaluate_candidates\u001b[0;34m(candidate_params, cv, more_results)\u001b[0m\n\u001b[1;32m    793\u001b[0m                               n_splits, n_candidates, n_candidates * n_splits))\n\u001b[1;32m    794\u001b[0m \u001b[0;34m\u001b[0m\u001b[0m\n\u001b[0;32m--> 795\u001b[0;31m                 out = parallel(delayed(_fit_and_score)(clone(base_estimator),\n\u001b[0m\u001b[1;32m    796\u001b[0m                                                        \u001b[0mX\u001b[0m\u001b[0;34m,\u001b[0m \u001b[0my\u001b[0m\u001b[0;34m,\u001b[0m\u001b[0;34m\u001b[0m\u001b[0;34m\u001b[0m\u001b[0m\n\u001b[1;32m    797\u001b[0m                                                        \u001b[0mtrain\u001b[0m\u001b[0;34m=\u001b[0m\u001b[0mtrain\u001b[0m\u001b[0;34m,\u001b[0m \u001b[0mtest\u001b[0m\u001b[0;34m=\u001b[0m\u001b[0mtest\u001b[0m\u001b[0;34m,\u001b[0m\u001b[0;34m\u001b[0m\u001b[0;34m\u001b[0m\u001b[0m\n",
      "\u001b[0;32m~/miniconda3/envs/bs38/lib/python3.8/site-packages/joblib/parallel.py\u001b[0m in \u001b[0;36m__call__\u001b[0;34m(self, iterable)\u001b[0m\n\u001b[1;32m   1042\u001b[0m                 \u001b[0mself\u001b[0m\u001b[0;34m.\u001b[0m\u001b[0m_iterating\u001b[0m \u001b[0;34m=\u001b[0m \u001b[0mself\u001b[0m\u001b[0;34m.\u001b[0m\u001b[0m_original_iterator\u001b[0m \u001b[0;32mis\u001b[0m \u001b[0;32mnot\u001b[0m \u001b[0;32mNone\u001b[0m\u001b[0;34m\u001b[0m\u001b[0;34m\u001b[0m\u001b[0m\n\u001b[1;32m   1043\u001b[0m \u001b[0;34m\u001b[0m\u001b[0m\n\u001b[0;32m-> 1044\u001b[0;31m             \u001b[0;32mwhile\u001b[0m \u001b[0mself\u001b[0m\u001b[0;34m.\u001b[0m\u001b[0mdispatch_one_batch\u001b[0m\u001b[0;34m(\u001b[0m\u001b[0miterator\u001b[0m\u001b[0;34m)\u001b[0m\u001b[0;34m:\u001b[0m\u001b[0;34m\u001b[0m\u001b[0;34m\u001b[0m\u001b[0m\n\u001b[0m\u001b[1;32m   1045\u001b[0m                 \u001b[0;32mpass\u001b[0m\u001b[0;34m\u001b[0m\u001b[0;34m\u001b[0m\u001b[0m\n\u001b[1;32m   1046\u001b[0m \u001b[0;34m\u001b[0m\u001b[0m\n",
      "\u001b[0;32m~/miniconda3/envs/bs38/lib/python3.8/site-packages/joblib/parallel.py\u001b[0m in \u001b[0;36mdispatch_one_batch\u001b[0;34m(self, iterator)\u001b[0m\n\u001b[1;32m    857\u001b[0m                 \u001b[0;32mreturn\u001b[0m \u001b[0;32mFalse\u001b[0m\u001b[0;34m\u001b[0m\u001b[0;34m\u001b[0m\u001b[0m\n\u001b[1;32m    858\u001b[0m             \u001b[0;32melse\u001b[0m\u001b[0;34m:\u001b[0m\u001b[0;34m\u001b[0m\u001b[0;34m\u001b[0m\u001b[0m\n\u001b[0;32m--> 859\u001b[0;31m                 \u001b[0mself\u001b[0m\u001b[0;34m.\u001b[0m\u001b[0m_dispatch\u001b[0m\u001b[0;34m(\u001b[0m\u001b[0mtasks\u001b[0m\u001b[0;34m)\u001b[0m\u001b[0;34m\u001b[0m\u001b[0;34m\u001b[0m\u001b[0m\n\u001b[0m\u001b[1;32m    860\u001b[0m                 \u001b[0;32mreturn\u001b[0m \u001b[0;32mTrue\u001b[0m\u001b[0;34m\u001b[0m\u001b[0;34m\u001b[0m\u001b[0m\n\u001b[1;32m    861\u001b[0m \u001b[0;34m\u001b[0m\u001b[0m\n",
      "\u001b[0;32m~/miniconda3/envs/bs38/lib/python3.8/site-packages/joblib/parallel.py\u001b[0m in \u001b[0;36m_dispatch\u001b[0;34m(self, batch)\u001b[0m\n\u001b[1;32m    775\u001b[0m         \u001b[0;32mwith\u001b[0m \u001b[0mself\u001b[0m\u001b[0;34m.\u001b[0m\u001b[0m_lock\u001b[0m\u001b[0;34m:\u001b[0m\u001b[0;34m\u001b[0m\u001b[0;34m\u001b[0m\u001b[0m\n\u001b[1;32m    776\u001b[0m             \u001b[0mjob_idx\u001b[0m \u001b[0;34m=\u001b[0m \u001b[0mlen\u001b[0m\u001b[0;34m(\u001b[0m\u001b[0mself\u001b[0m\u001b[0;34m.\u001b[0m\u001b[0m_jobs\u001b[0m\u001b[0;34m)\u001b[0m\u001b[0;34m\u001b[0m\u001b[0;34m\u001b[0m\u001b[0m\n\u001b[0;32m--> 777\u001b[0;31m             \u001b[0mjob\u001b[0m \u001b[0;34m=\u001b[0m \u001b[0mself\u001b[0m\u001b[0;34m.\u001b[0m\u001b[0m_backend\u001b[0m\u001b[0;34m.\u001b[0m\u001b[0mapply_async\u001b[0m\u001b[0;34m(\u001b[0m\u001b[0mbatch\u001b[0m\u001b[0;34m,\u001b[0m \u001b[0mcallback\u001b[0m\u001b[0;34m=\u001b[0m\u001b[0mcb\u001b[0m\u001b[0;34m)\u001b[0m\u001b[0;34m\u001b[0m\u001b[0;34m\u001b[0m\u001b[0m\n\u001b[0m\u001b[1;32m    778\u001b[0m             \u001b[0;31m# A job can complete so quickly than its callback is\u001b[0m\u001b[0;34m\u001b[0m\u001b[0;34m\u001b[0m\u001b[0;34m\u001b[0m\u001b[0m\n\u001b[1;32m    779\u001b[0m             \u001b[0;31m# called before we get here, causing self._jobs to\u001b[0m\u001b[0;34m\u001b[0m\u001b[0;34m\u001b[0m\u001b[0;34m\u001b[0m\u001b[0m\n",
      "\u001b[0;32m~/miniconda3/envs/bs38/lib/python3.8/site-packages/joblib/_parallel_backends.py\u001b[0m in \u001b[0;36mapply_async\u001b[0;34m(self, func, callback)\u001b[0m\n\u001b[1;32m    206\u001b[0m     \u001b[0;32mdef\u001b[0m \u001b[0mapply_async\u001b[0m\u001b[0;34m(\u001b[0m\u001b[0mself\u001b[0m\u001b[0;34m,\u001b[0m \u001b[0mfunc\u001b[0m\u001b[0;34m,\u001b[0m \u001b[0mcallback\u001b[0m\u001b[0;34m=\u001b[0m\u001b[0;32mNone\u001b[0m\u001b[0;34m)\u001b[0m\u001b[0;34m:\u001b[0m\u001b[0;34m\u001b[0m\u001b[0;34m\u001b[0m\u001b[0m\n\u001b[1;32m    207\u001b[0m         \u001b[0;34m\"\"\"Schedule a func to be run\"\"\"\u001b[0m\u001b[0;34m\u001b[0m\u001b[0;34m\u001b[0m\u001b[0m\n\u001b[0;32m--> 208\u001b[0;31m         \u001b[0mresult\u001b[0m \u001b[0;34m=\u001b[0m \u001b[0mImmediateResult\u001b[0m\u001b[0;34m(\u001b[0m\u001b[0mfunc\u001b[0m\u001b[0;34m)\u001b[0m\u001b[0;34m\u001b[0m\u001b[0;34m\u001b[0m\u001b[0m\n\u001b[0m\u001b[1;32m    209\u001b[0m         \u001b[0;32mif\u001b[0m \u001b[0mcallback\u001b[0m\u001b[0;34m:\u001b[0m\u001b[0;34m\u001b[0m\u001b[0;34m\u001b[0m\u001b[0m\n\u001b[1;32m    210\u001b[0m             \u001b[0mcallback\u001b[0m\u001b[0;34m(\u001b[0m\u001b[0mresult\u001b[0m\u001b[0;34m)\u001b[0m\u001b[0;34m\u001b[0m\u001b[0;34m\u001b[0m\u001b[0m\n",
      "\u001b[0;32m~/miniconda3/envs/bs38/lib/python3.8/site-packages/joblib/_parallel_backends.py\u001b[0m in \u001b[0;36m__init__\u001b[0;34m(self, batch)\u001b[0m\n\u001b[1;32m    570\u001b[0m         \u001b[0;31m# Don't delay the application, to avoid keeping the input\u001b[0m\u001b[0;34m\u001b[0m\u001b[0;34m\u001b[0m\u001b[0;34m\u001b[0m\u001b[0m\n\u001b[1;32m    571\u001b[0m         \u001b[0;31m# arguments in memory\u001b[0m\u001b[0;34m\u001b[0m\u001b[0;34m\u001b[0m\u001b[0;34m\u001b[0m\u001b[0m\n\u001b[0;32m--> 572\u001b[0;31m         \u001b[0mself\u001b[0m\u001b[0;34m.\u001b[0m\u001b[0mresults\u001b[0m \u001b[0;34m=\u001b[0m \u001b[0mbatch\u001b[0m\u001b[0;34m(\u001b[0m\u001b[0;34m)\u001b[0m\u001b[0;34m\u001b[0m\u001b[0;34m\u001b[0m\u001b[0m\n\u001b[0m\u001b[1;32m    573\u001b[0m \u001b[0;34m\u001b[0m\u001b[0m\n\u001b[1;32m    574\u001b[0m     \u001b[0;32mdef\u001b[0m \u001b[0mget\u001b[0m\u001b[0;34m(\u001b[0m\u001b[0mself\u001b[0m\u001b[0;34m)\u001b[0m\u001b[0;34m:\u001b[0m\u001b[0;34m\u001b[0m\u001b[0;34m\u001b[0m\u001b[0m\n",
      "\u001b[0;32m~/miniconda3/envs/bs38/lib/python3.8/site-packages/joblib/parallel.py\u001b[0m in \u001b[0;36m__call__\u001b[0;34m(self)\u001b[0m\n\u001b[1;32m    260\u001b[0m         \u001b[0;31m# change the default number of processes to -1\u001b[0m\u001b[0;34m\u001b[0m\u001b[0;34m\u001b[0m\u001b[0;34m\u001b[0m\u001b[0m\n\u001b[1;32m    261\u001b[0m         \u001b[0;32mwith\u001b[0m \u001b[0mparallel_backend\u001b[0m\u001b[0;34m(\u001b[0m\u001b[0mself\u001b[0m\u001b[0;34m.\u001b[0m\u001b[0m_backend\u001b[0m\u001b[0;34m,\u001b[0m \u001b[0mn_jobs\u001b[0m\u001b[0;34m=\u001b[0m\u001b[0mself\u001b[0m\u001b[0;34m.\u001b[0m\u001b[0m_n_jobs\u001b[0m\u001b[0;34m)\u001b[0m\u001b[0;34m:\u001b[0m\u001b[0;34m\u001b[0m\u001b[0;34m\u001b[0m\u001b[0m\n\u001b[0;32m--> 262\u001b[0;31m             return [func(*args, **kwargs)\n\u001b[0m\u001b[1;32m    263\u001b[0m                     for func, args, kwargs in self.items]\n\u001b[1;32m    264\u001b[0m \u001b[0;34m\u001b[0m\u001b[0m\n",
      "\u001b[0;32m~/miniconda3/envs/bs38/lib/python3.8/site-packages/joblib/parallel.py\u001b[0m in \u001b[0;36m<listcomp>\u001b[0;34m(.0)\u001b[0m\n\u001b[1;32m    260\u001b[0m         \u001b[0;31m# change the default number of processes to -1\u001b[0m\u001b[0;34m\u001b[0m\u001b[0;34m\u001b[0m\u001b[0;34m\u001b[0m\u001b[0m\n\u001b[1;32m    261\u001b[0m         \u001b[0;32mwith\u001b[0m \u001b[0mparallel_backend\u001b[0m\u001b[0;34m(\u001b[0m\u001b[0mself\u001b[0m\u001b[0;34m.\u001b[0m\u001b[0m_backend\u001b[0m\u001b[0;34m,\u001b[0m \u001b[0mn_jobs\u001b[0m\u001b[0;34m=\u001b[0m\u001b[0mself\u001b[0m\u001b[0;34m.\u001b[0m\u001b[0m_n_jobs\u001b[0m\u001b[0;34m)\u001b[0m\u001b[0;34m:\u001b[0m\u001b[0;34m\u001b[0m\u001b[0;34m\u001b[0m\u001b[0m\n\u001b[0;32m--> 262\u001b[0;31m             return [func(*args, **kwargs)\n\u001b[0m\u001b[1;32m    263\u001b[0m                     for func, args, kwargs in self.items]\n\u001b[1;32m    264\u001b[0m \u001b[0;34m\u001b[0m\u001b[0m\n",
      "\u001b[0;32m~/miniconda3/envs/bs38/lib/python3.8/site-packages/sklearn/utils/fixes.py\u001b[0m in \u001b[0;36m__call__\u001b[0;34m(self, *args, **kwargs)\u001b[0m\n\u001b[1;32m    220\u001b[0m     \u001b[0;32mdef\u001b[0m \u001b[0m__call__\u001b[0m\u001b[0;34m(\u001b[0m\u001b[0mself\u001b[0m\u001b[0;34m,\u001b[0m \u001b[0;34m*\u001b[0m\u001b[0margs\u001b[0m\u001b[0;34m,\u001b[0m \u001b[0;34m**\u001b[0m\u001b[0mkwargs\u001b[0m\u001b[0;34m)\u001b[0m\u001b[0;34m:\u001b[0m\u001b[0;34m\u001b[0m\u001b[0;34m\u001b[0m\u001b[0m\n\u001b[1;32m    221\u001b[0m         \u001b[0;32mwith\u001b[0m \u001b[0mconfig_context\u001b[0m\u001b[0;34m(\u001b[0m\u001b[0;34m**\u001b[0m\u001b[0mself\u001b[0m\u001b[0;34m.\u001b[0m\u001b[0mconfig\u001b[0m\u001b[0;34m)\u001b[0m\u001b[0;34m:\u001b[0m\u001b[0;34m\u001b[0m\u001b[0;34m\u001b[0m\u001b[0m\n\u001b[0;32m--> 222\u001b[0;31m             \u001b[0;32mreturn\u001b[0m \u001b[0mself\u001b[0m\u001b[0;34m.\u001b[0m\u001b[0mfunction\u001b[0m\u001b[0;34m(\u001b[0m\u001b[0;34m*\u001b[0m\u001b[0margs\u001b[0m\u001b[0;34m,\u001b[0m \u001b[0;34m**\u001b[0m\u001b[0mkwargs\u001b[0m\u001b[0;34m)\u001b[0m\u001b[0;34m\u001b[0m\u001b[0;34m\u001b[0m\u001b[0m\n\u001b[0m",
      "\u001b[0;32m~/miniconda3/envs/bs38/lib/python3.8/site-packages/sklearn/model_selection/_validation.py\u001b[0m in \u001b[0;36m_fit_and_score\u001b[0;34m(estimator, X, y, scorer, train, test, verbose, parameters, fit_params, return_train_score, return_parameters, return_n_test_samples, return_times, return_estimator, split_progress, candidate_progress, error_score)\u001b[0m\n\u001b[1;32m    618\u001b[0m \u001b[0;34m\u001b[0m\u001b[0m\n\u001b[1;32m    619\u001b[0m         \u001b[0mfit_time\u001b[0m \u001b[0;34m=\u001b[0m \u001b[0mtime\u001b[0m\u001b[0;34m.\u001b[0m\u001b[0mtime\u001b[0m\u001b[0;34m(\u001b[0m\u001b[0;34m)\u001b[0m \u001b[0;34m-\u001b[0m \u001b[0mstart_time\u001b[0m\u001b[0;34m\u001b[0m\u001b[0;34m\u001b[0m\u001b[0m\n\u001b[0;32m--> 620\u001b[0;31m         \u001b[0mtest_scores\u001b[0m \u001b[0;34m=\u001b[0m \u001b[0m_score\u001b[0m\u001b[0;34m(\u001b[0m\u001b[0mestimator\u001b[0m\u001b[0;34m,\u001b[0m \u001b[0mX_test\u001b[0m\u001b[0;34m,\u001b[0m \u001b[0my_test\u001b[0m\u001b[0;34m,\u001b[0m \u001b[0mscorer\u001b[0m\u001b[0;34m,\u001b[0m \u001b[0merror_score\u001b[0m\u001b[0;34m)\u001b[0m\u001b[0;34m\u001b[0m\u001b[0;34m\u001b[0m\u001b[0m\n\u001b[0m\u001b[1;32m    621\u001b[0m         \u001b[0mscore_time\u001b[0m \u001b[0;34m=\u001b[0m \u001b[0mtime\u001b[0m\u001b[0;34m.\u001b[0m\u001b[0mtime\u001b[0m\u001b[0;34m(\u001b[0m\u001b[0;34m)\u001b[0m \u001b[0;34m-\u001b[0m \u001b[0mstart_time\u001b[0m \u001b[0;34m-\u001b[0m \u001b[0mfit_time\u001b[0m\u001b[0;34m\u001b[0m\u001b[0;34m\u001b[0m\u001b[0m\n\u001b[1;32m    622\u001b[0m         \u001b[0;32mif\u001b[0m \u001b[0mreturn_train_score\u001b[0m\u001b[0;34m:\u001b[0m\u001b[0;34m\u001b[0m\u001b[0;34m\u001b[0m\u001b[0m\n",
      "\u001b[0;32m~/miniconda3/envs/bs38/lib/python3.8/site-packages/sklearn/model_selection/_validation.py\u001b[0m in \u001b[0;36m_score\u001b[0;34m(estimator, X_test, y_test, scorer, error_score)\u001b[0m\n\u001b[1;32m    672\u001b[0m             \u001b[0mscores\u001b[0m \u001b[0;34m=\u001b[0m \u001b[0mscorer\u001b[0m\u001b[0;34m(\u001b[0m\u001b[0mestimator\u001b[0m\u001b[0;34m,\u001b[0m \u001b[0mX_test\u001b[0m\u001b[0;34m)\u001b[0m\u001b[0;34m\u001b[0m\u001b[0;34m\u001b[0m\u001b[0m\n\u001b[1;32m    673\u001b[0m         \u001b[0;32melse\u001b[0m\u001b[0;34m:\u001b[0m\u001b[0;34m\u001b[0m\u001b[0;34m\u001b[0m\u001b[0m\n\u001b[0;32m--> 674\u001b[0;31m             \u001b[0mscores\u001b[0m \u001b[0;34m=\u001b[0m \u001b[0mscorer\u001b[0m\u001b[0;34m(\u001b[0m\u001b[0mestimator\u001b[0m\u001b[0;34m,\u001b[0m \u001b[0mX_test\u001b[0m\u001b[0;34m,\u001b[0m \u001b[0my_test\u001b[0m\u001b[0;34m)\u001b[0m\u001b[0;34m\u001b[0m\u001b[0;34m\u001b[0m\u001b[0m\n\u001b[0m\u001b[1;32m    675\u001b[0m     \u001b[0;32mexcept\u001b[0m \u001b[0mException\u001b[0m\u001b[0;34m:\u001b[0m\u001b[0;34m\u001b[0m\u001b[0;34m\u001b[0m\u001b[0m\n\u001b[1;32m    676\u001b[0m         \u001b[0;32mif\u001b[0m \u001b[0merror_score\u001b[0m \u001b[0;34m==\u001b[0m \u001b[0;34m'raise'\u001b[0m\u001b[0;34m:\u001b[0m\u001b[0;34m\u001b[0m\u001b[0;34m\u001b[0m\u001b[0m\n",
      "\u001b[0;32m~/miniconda3/envs/bs38/lib/python3.8/site-packages/sklearn/metrics/_scorer.py\u001b[0m in \u001b[0;36m_passthrough_scorer\u001b[0;34m(estimator, *args, **kwargs)\u001b[0m\n\u001b[1;32m    395\u001b[0m \u001b[0;32mdef\u001b[0m \u001b[0m_passthrough_scorer\u001b[0m\u001b[0;34m(\u001b[0m\u001b[0mestimator\u001b[0m\u001b[0;34m,\u001b[0m \u001b[0;34m*\u001b[0m\u001b[0margs\u001b[0m\u001b[0;34m,\u001b[0m \u001b[0;34m**\u001b[0m\u001b[0mkwargs\u001b[0m\u001b[0;34m)\u001b[0m\u001b[0;34m:\u001b[0m\u001b[0;34m\u001b[0m\u001b[0;34m\u001b[0m\u001b[0m\n\u001b[1;32m    396\u001b[0m     \u001b[0;34m\"\"\"Function that wraps estimator.score\"\"\"\u001b[0m\u001b[0;34m\u001b[0m\u001b[0;34m\u001b[0m\u001b[0m\n\u001b[0;32m--> 397\u001b[0;31m     \u001b[0;32mreturn\u001b[0m \u001b[0mestimator\u001b[0m\u001b[0;34m.\u001b[0m\u001b[0mscore\u001b[0m\u001b[0;34m(\u001b[0m\u001b[0;34m*\u001b[0m\u001b[0margs\u001b[0m\u001b[0;34m,\u001b[0m \u001b[0;34m**\u001b[0m\u001b[0mkwargs\u001b[0m\u001b[0;34m)\u001b[0m\u001b[0;34m\u001b[0m\u001b[0;34m\u001b[0m\u001b[0m\n\u001b[0m\u001b[1;32m    398\u001b[0m \u001b[0;34m\u001b[0m\u001b[0m\n\u001b[1;32m    399\u001b[0m \u001b[0;34m\u001b[0m\u001b[0m\n",
      "\u001b[0;32m~/miniconda3/envs/bs38/lib/python3.8/site-packages/sklearn/base.py\u001b[0m in \u001b[0;36mscore\u001b[0;34m(self, X, y, sample_weight)\u001b[0m\n\u001b[1;32m    498\u001b[0m         \"\"\"\n\u001b[1;32m    499\u001b[0m         \u001b[0;32mfrom\u001b[0m \u001b[0;34m.\u001b[0m\u001b[0mmetrics\u001b[0m \u001b[0;32mimport\u001b[0m \u001b[0maccuracy_score\u001b[0m\u001b[0;34m\u001b[0m\u001b[0;34m\u001b[0m\u001b[0m\n\u001b[0;32m--> 500\u001b[0;31m         \u001b[0;32mreturn\u001b[0m \u001b[0maccuracy_score\u001b[0m\u001b[0;34m(\u001b[0m\u001b[0my\u001b[0m\u001b[0;34m,\u001b[0m \u001b[0mself\u001b[0m\u001b[0;34m.\u001b[0m\u001b[0mpredict\u001b[0m\u001b[0;34m(\u001b[0m\u001b[0mX\u001b[0m\u001b[0;34m)\u001b[0m\u001b[0;34m,\u001b[0m \u001b[0msample_weight\u001b[0m\u001b[0;34m=\u001b[0m\u001b[0msample_weight\u001b[0m\u001b[0;34m)\u001b[0m\u001b[0;34m\u001b[0m\u001b[0;34m\u001b[0m\u001b[0m\n\u001b[0m\u001b[1;32m    501\u001b[0m \u001b[0;34m\u001b[0m\u001b[0m\n\u001b[1;32m    502\u001b[0m     \u001b[0;32mdef\u001b[0m \u001b[0m_more_tags\u001b[0m\u001b[0;34m(\u001b[0m\u001b[0mself\u001b[0m\u001b[0;34m)\u001b[0m\u001b[0;34m:\u001b[0m\u001b[0;34m\u001b[0m\u001b[0;34m\u001b[0m\u001b[0m\n",
      "\u001b[0;32m~/miniconda3/envs/bs38/lib/python3.8/site-packages/sklearn/ensemble/_forest.py\u001b[0m in \u001b[0;36mpredict\u001b[0;34m(self, X)\u001b[0m\n\u001b[1;32m    628\u001b[0m             \u001b[0mThe\u001b[0m \u001b[0mpredicted\u001b[0m \u001b[0mclasses\u001b[0m\u001b[0;34m.\u001b[0m\u001b[0;34m\u001b[0m\u001b[0;34m\u001b[0m\u001b[0m\n\u001b[1;32m    629\u001b[0m         \"\"\"\n\u001b[0;32m--> 630\u001b[0;31m         \u001b[0mproba\u001b[0m \u001b[0;34m=\u001b[0m \u001b[0mself\u001b[0m\u001b[0;34m.\u001b[0m\u001b[0mpredict_proba\u001b[0m\u001b[0;34m(\u001b[0m\u001b[0mX\u001b[0m\u001b[0;34m)\u001b[0m\u001b[0;34m\u001b[0m\u001b[0;34m\u001b[0m\u001b[0m\n\u001b[0m\u001b[1;32m    631\u001b[0m \u001b[0;34m\u001b[0m\u001b[0m\n\u001b[1;32m    632\u001b[0m         \u001b[0;32mif\u001b[0m \u001b[0mself\u001b[0m\u001b[0;34m.\u001b[0m\u001b[0mn_outputs_\u001b[0m \u001b[0;34m==\u001b[0m \u001b[0;36m1\u001b[0m\u001b[0;34m:\u001b[0m\u001b[0;34m\u001b[0m\u001b[0;34m\u001b[0m\u001b[0m\n",
      "\u001b[0;32m~/miniconda3/envs/bs38/lib/python3.8/site-packages/sklearn/ensemble/_forest.py\u001b[0m in \u001b[0;36mpredict_proba\u001b[0;34m(self, X)\u001b[0m\n\u001b[1;32m    681\u001b[0m                      for j in np.atleast_1d(self.n_classes_)]\n\u001b[1;32m    682\u001b[0m         \u001b[0mlock\u001b[0m \u001b[0;34m=\u001b[0m \u001b[0mthreading\u001b[0m\u001b[0;34m.\u001b[0m\u001b[0mLock\u001b[0m\u001b[0;34m(\u001b[0m\u001b[0;34m)\u001b[0m\u001b[0;34m\u001b[0m\u001b[0;34m\u001b[0m\u001b[0m\n\u001b[0;32m--> 683\u001b[0;31m         Parallel(n_jobs=n_jobs, verbose=self.verbose,\n\u001b[0m\u001b[1;32m    684\u001b[0m                  \u001b[0;34m**\u001b[0m\u001b[0m_joblib_parallel_args\u001b[0m\u001b[0;34m(\u001b[0m\u001b[0mrequire\u001b[0m\u001b[0;34m=\u001b[0m\u001b[0;34m\"sharedmem\"\u001b[0m\u001b[0;34m)\u001b[0m\u001b[0;34m)\u001b[0m\u001b[0;34m(\u001b[0m\u001b[0;34m\u001b[0m\u001b[0;34m\u001b[0m\u001b[0m\n\u001b[1;32m    685\u001b[0m             delayed(_accumulate_prediction)(e.predict_proba, X, all_proba,\n",
      "\u001b[0;32m~/miniconda3/envs/bs38/lib/python3.8/site-packages/joblib/parallel.py\u001b[0m in \u001b[0;36m__call__\u001b[0;34m(self, iterable)\u001b[0m\n\u001b[1;32m   1042\u001b[0m                 \u001b[0mself\u001b[0m\u001b[0;34m.\u001b[0m\u001b[0m_iterating\u001b[0m \u001b[0;34m=\u001b[0m \u001b[0mself\u001b[0m\u001b[0;34m.\u001b[0m\u001b[0m_original_iterator\u001b[0m \u001b[0;32mis\u001b[0m \u001b[0;32mnot\u001b[0m \u001b[0;32mNone\u001b[0m\u001b[0;34m\u001b[0m\u001b[0;34m\u001b[0m\u001b[0m\n\u001b[1;32m   1043\u001b[0m \u001b[0;34m\u001b[0m\u001b[0m\n\u001b[0;32m-> 1044\u001b[0;31m             \u001b[0;32mwhile\u001b[0m \u001b[0mself\u001b[0m\u001b[0;34m.\u001b[0m\u001b[0mdispatch_one_batch\u001b[0m\u001b[0;34m(\u001b[0m\u001b[0miterator\u001b[0m\u001b[0;34m)\u001b[0m\u001b[0;34m:\u001b[0m\u001b[0;34m\u001b[0m\u001b[0;34m\u001b[0m\u001b[0m\n\u001b[0m\u001b[1;32m   1045\u001b[0m                 \u001b[0;32mpass\u001b[0m\u001b[0;34m\u001b[0m\u001b[0;34m\u001b[0m\u001b[0m\n\u001b[1;32m   1046\u001b[0m \u001b[0;34m\u001b[0m\u001b[0m\n",
      "\u001b[0;32m~/miniconda3/envs/bs38/lib/python3.8/site-packages/joblib/parallel.py\u001b[0m in \u001b[0;36mdispatch_one_batch\u001b[0;34m(self, iterator)\u001b[0m\n\u001b[1;32m    857\u001b[0m                 \u001b[0;32mreturn\u001b[0m \u001b[0;32mFalse\u001b[0m\u001b[0;34m\u001b[0m\u001b[0;34m\u001b[0m\u001b[0m\n\u001b[1;32m    858\u001b[0m             \u001b[0;32melse\u001b[0m\u001b[0;34m:\u001b[0m\u001b[0;34m\u001b[0m\u001b[0;34m\u001b[0m\u001b[0m\n\u001b[0;32m--> 859\u001b[0;31m                 \u001b[0mself\u001b[0m\u001b[0;34m.\u001b[0m\u001b[0m_dispatch\u001b[0m\u001b[0;34m(\u001b[0m\u001b[0mtasks\u001b[0m\u001b[0;34m)\u001b[0m\u001b[0;34m\u001b[0m\u001b[0;34m\u001b[0m\u001b[0m\n\u001b[0m\u001b[1;32m    860\u001b[0m                 \u001b[0;32mreturn\u001b[0m \u001b[0;32mTrue\u001b[0m\u001b[0;34m\u001b[0m\u001b[0;34m\u001b[0m\u001b[0m\n\u001b[1;32m    861\u001b[0m \u001b[0;34m\u001b[0m\u001b[0m\n",
      "\u001b[0;32m~/miniconda3/envs/bs38/lib/python3.8/site-packages/joblib/parallel.py\u001b[0m in \u001b[0;36m_dispatch\u001b[0;34m(self, batch)\u001b[0m\n\u001b[1;32m    775\u001b[0m         \u001b[0;32mwith\u001b[0m \u001b[0mself\u001b[0m\u001b[0;34m.\u001b[0m\u001b[0m_lock\u001b[0m\u001b[0;34m:\u001b[0m\u001b[0;34m\u001b[0m\u001b[0;34m\u001b[0m\u001b[0m\n\u001b[1;32m    776\u001b[0m             \u001b[0mjob_idx\u001b[0m \u001b[0;34m=\u001b[0m \u001b[0mlen\u001b[0m\u001b[0;34m(\u001b[0m\u001b[0mself\u001b[0m\u001b[0;34m.\u001b[0m\u001b[0m_jobs\u001b[0m\u001b[0;34m)\u001b[0m\u001b[0;34m\u001b[0m\u001b[0;34m\u001b[0m\u001b[0m\n\u001b[0;32m--> 777\u001b[0;31m             \u001b[0mjob\u001b[0m \u001b[0;34m=\u001b[0m \u001b[0mself\u001b[0m\u001b[0;34m.\u001b[0m\u001b[0m_backend\u001b[0m\u001b[0;34m.\u001b[0m\u001b[0mapply_async\u001b[0m\u001b[0;34m(\u001b[0m\u001b[0mbatch\u001b[0m\u001b[0;34m,\u001b[0m \u001b[0mcallback\u001b[0m\u001b[0;34m=\u001b[0m\u001b[0mcb\u001b[0m\u001b[0;34m)\u001b[0m\u001b[0;34m\u001b[0m\u001b[0;34m\u001b[0m\u001b[0m\n\u001b[0m\u001b[1;32m    778\u001b[0m             \u001b[0;31m# A job can complete so quickly than its callback is\u001b[0m\u001b[0;34m\u001b[0m\u001b[0;34m\u001b[0m\u001b[0;34m\u001b[0m\u001b[0m\n\u001b[1;32m    779\u001b[0m             \u001b[0;31m# called before we get here, causing self._jobs to\u001b[0m\u001b[0;34m\u001b[0m\u001b[0;34m\u001b[0m\u001b[0;34m\u001b[0m\u001b[0m\n",
      "\u001b[0;32m~/miniconda3/envs/bs38/lib/python3.8/site-packages/joblib/_parallel_backends.py\u001b[0m in \u001b[0;36mapply_async\u001b[0;34m(self, func, callback)\u001b[0m\n\u001b[1;32m    206\u001b[0m     \u001b[0;32mdef\u001b[0m \u001b[0mapply_async\u001b[0m\u001b[0;34m(\u001b[0m\u001b[0mself\u001b[0m\u001b[0;34m,\u001b[0m \u001b[0mfunc\u001b[0m\u001b[0;34m,\u001b[0m \u001b[0mcallback\u001b[0m\u001b[0;34m=\u001b[0m\u001b[0;32mNone\u001b[0m\u001b[0;34m)\u001b[0m\u001b[0;34m:\u001b[0m\u001b[0;34m\u001b[0m\u001b[0;34m\u001b[0m\u001b[0m\n\u001b[1;32m    207\u001b[0m         \u001b[0;34m\"\"\"Schedule a func to be run\"\"\"\u001b[0m\u001b[0;34m\u001b[0m\u001b[0;34m\u001b[0m\u001b[0m\n\u001b[0;32m--> 208\u001b[0;31m         \u001b[0mresult\u001b[0m \u001b[0;34m=\u001b[0m \u001b[0mImmediateResult\u001b[0m\u001b[0;34m(\u001b[0m\u001b[0mfunc\u001b[0m\u001b[0;34m)\u001b[0m\u001b[0;34m\u001b[0m\u001b[0;34m\u001b[0m\u001b[0m\n\u001b[0m\u001b[1;32m    209\u001b[0m         \u001b[0;32mif\u001b[0m \u001b[0mcallback\u001b[0m\u001b[0;34m:\u001b[0m\u001b[0;34m\u001b[0m\u001b[0;34m\u001b[0m\u001b[0m\n\u001b[1;32m    210\u001b[0m             \u001b[0mcallback\u001b[0m\u001b[0;34m(\u001b[0m\u001b[0mresult\u001b[0m\u001b[0;34m)\u001b[0m\u001b[0;34m\u001b[0m\u001b[0;34m\u001b[0m\u001b[0m\n",
      "\u001b[0;32m~/miniconda3/envs/bs38/lib/python3.8/site-packages/joblib/_parallel_backends.py\u001b[0m in \u001b[0;36m__init__\u001b[0;34m(self, batch)\u001b[0m\n\u001b[1;32m    570\u001b[0m         \u001b[0;31m# Don't delay the application, to avoid keeping the input\u001b[0m\u001b[0;34m\u001b[0m\u001b[0;34m\u001b[0m\u001b[0;34m\u001b[0m\u001b[0m\n\u001b[1;32m    571\u001b[0m         \u001b[0;31m# arguments in memory\u001b[0m\u001b[0;34m\u001b[0m\u001b[0;34m\u001b[0m\u001b[0;34m\u001b[0m\u001b[0m\n\u001b[0;32m--> 572\u001b[0;31m         \u001b[0mself\u001b[0m\u001b[0;34m.\u001b[0m\u001b[0mresults\u001b[0m \u001b[0;34m=\u001b[0m \u001b[0mbatch\u001b[0m\u001b[0;34m(\u001b[0m\u001b[0;34m)\u001b[0m\u001b[0;34m\u001b[0m\u001b[0;34m\u001b[0m\u001b[0m\n\u001b[0m\u001b[1;32m    573\u001b[0m \u001b[0;34m\u001b[0m\u001b[0m\n\u001b[1;32m    574\u001b[0m     \u001b[0;32mdef\u001b[0m \u001b[0mget\u001b[0m\u001b[0;34m(\u001b[0m\u001b[0mself\u001b[0m\u001b[0;34m)\u001b[0m\u001b[0;34m:\u001b[0m\u001b[0;34m\u001b[0m\u001b[0;34m\u001b[0m\u001b[0m\n",
      "\u001b[0;32m~/miniconda3/envs/bs38/lib/python3.8/site-packages/joblib/parallel.py\u001b[0m in \u001b[0;36m__call__\u001b[0;34m(self)\u001b[0m\n\u001b[1;32m    260\u001b[0m         \u001b[0;31m# change the default number of processes to -1\u001b[0m\u001b[0;34m\u001b[0m\u001b[0;34m\u001b[0m\u001b[0;34m\u001b[0m\u001b[0m\n\u001b[1;32m    261\u001b[0m         \u001b[0;32mwith\u001b[0m \u001b[0mparallel_backend\u001b[0m\u001b[0;34m(\u001b[0m\u001b[0mself\u001b[0m\u001b[0;34m.\u001b[0m\u001b[0m_backend\u001b[0m\u001b[0;34m,\u001b[0m \u001b[0mn_jobs\u001b[0m\u001b[0;34m=\u001b[0m\u001b[0mself\u001b[0m\u001b[0;34m.\u001b[0m\u001b[0m_n_jobs\u001b[0m\u001b[0;34m)\u001b[0m\u001b[0;34m:\u001b[0m\u001b[0;34m\u001b[0m\u001b[0;34m\u001b[0m\u001b[0m\n\u001b[0;32m--> 262\u001b[0;31m             return [func(*args, **kwargs)\n\u001b[0m\u001b[1;32m    263\u001b[0m                     for func, args, kwargs in self.items]\n\u001b[1;32m    264\u001b[0m \u001b[0;34m\u001b[0m\u001b[0m\n",
      "\u001b[0;32m~/miniconda3/envs/bs38/lib/python3.8/site-packages/joblib/parallel.py\u001b[0m in \u001b[0;36m<listcomp>\u001b[0;34m(.0)\u001b[0m\n\u001b[1;32m    260\u001b[0m         \u001b[0;31m# change the default number of processes to -1\u001b[0m\u001b[0;34m\u001b[0m\u001b[0;34m\u001b[0m\u001b[0;34m\u001b[0m\u001b[0m\n\u001b[1;32m    261\u001b[0m         \u001b[0;32mwith\u001b[0m \u001b[0mparallel_backend\u001b[0m\u001b[0;34m(\u001b[0m\u001b[0mself\u001b[0m\u001b[0;34m.\u001b[0m\u001b[0m_backend\u001b[0m\u001b[0;34m,\u001b[0m \u001b[0mn_jobs\u001b[0m\u001b[0;34m=\u001b[0m\u001b[0mself\u001b[0m\u001b[0;34m.\u001b[0m\u001b[0m_n_jobs\u001b[0m\u001b[0;34m)\u001b[0m\u001b[0;34m:\u001b[0m\u001b[0;34m\u001b[0m\u001b[0;34m\u001b[0m\u001b[0m\n\u001b[0;32m--> 262\u001b[0;31m             return [func(*args, **kwargs)\n\u001b[0m\u001b[1;32m    263\u001b[0m                     for func, args, kwargs in self.items]\n\u001b[1;32m    264\u001b[0m \u001b[0;34m\u001b[0m\u001b[0m\n",
      "\u001b[0;32m~/miniconda3/envs/bs38/lib/python3.8/site-packages/sklearn/utils/fixes.py\u001b[0m in \u001b[0;36m__call__\u001b[0;34m(self, *args, **kwargs)\u001b[0m\n\u001b[1;32m    220\u001b[0m     \u001b[0;32mdef\u001b[0m \u001b[0m__call__\u001b[0m\u001b[0;34m(\u001b[0m\u001b[0mself\u001b[0m\u001b[0;34m,\u001b[0m \u001b[0;34m*\u001b[0m\u001b[0margs\u001b[0m\u001b[0;34m,\u001b[0m \u001b[0;34m**\u001b[0m\u001b[0mkwargs\u001b[0m\u001b[0;34m)\u001b[0m\u001b[0;34m:\u001b[0m\u001b[0;34m\u001b[0m\u001b[0;34m\u001b[0m\u001b[0m\n\u001b[1;32m    221\u001b[0m         \u001b[0;32mwith\u001b[0m \u001b[0mconfig_context\u001b[0m\u001b[0;34m(\u001b[0m\u001b[0;34m**\u001b[0m\u001b[0mself\u001b[0m\u001b[0;34m.\u001b[0m\u001b[0mconfig\u001b[0m\u001b[0;34m)\u001b[0m\u001b[0;34m:\u001b[0m\u001b[0;34m\u001b[0m\u001b[0;34m\u001b[0m\u001b[0m\n\u001b[0;32m--> 222\u001b[0;31m             \u001b[0;32mreturn\u001b[0m \u001b[0mself\u001b[0m\u001b[0;34m.\u001b[0m\u001b[0mfunction\u001b[0m\u001b[0;34m(\u001b[0m\u001b[0;34m*\u001b[0m\u001b[0margs\u001b[0m\u001b[0;34m,\u001b[0m \u001b[0;34m**\u001b[0m\u001b[0mkwargs\u001b[0m\u001b[0;34m)\u001b[0m\u001b[0;34m\u001b[0m\u001b[0;34m\u001b[0m\u001b[0m\n\u001b[0m",
      "\u001b[0;32m~/miniconda3/envs/bs38/lib/python3.8/site-packages/sklearn/ensemble/_forest.py\u001b[0m in \u001b[0;36m_accumulate_prediction\u001b[0;34m(predict, X, out, lock)\u001b[0m\n\u001b[1;32m    465\u001b[0m     \u001b[0mcomplains\u001b[0m \u001b[0mthat\u001b[0m \u001b[0mit\u001b[0m \u001b[0mcannot\u001b[0m \u001b[0mpickle\u001b[0m \u001b[0mit\u001b[0m \u001b[0mwhen\u001b[0m \u001b[0mplaced\u001b[0m \u001b[0mthere\u001b[0m\u001b[0;34m.\u001b[0m\u001b[0;34m\u001b[0m\u001b[0;34m\u001b[0m\u001b[0m\n\u001b[1;32m    466\u001b[0m     \"\"\"\n\u001b[0;32m--> 467\u001b[0;31m     \u001b[0mprediction\u001b[0m \u001b[0;34m=\u001b[0m \u001b[0mpredict\u001b[0m\u001b[0;34m(\u001b[0m\u001b[0mX\u001b[0m\u001b[0;34m,\u001b[0m \u001b[0mcheck_input\u001b[0m\u001b[0;34m=\u001b[0m\u001b[0;32mFalse\u001b[0m\u001b[0;34m)\u001b[0m\u001b[0;34m\u001b[0m\u001b[0;34m\u001b[0m\u001b[0m\n\u001b[0m\u001b[1;32m    468\u001b[0m     \u001b[0;32mwith\u001b[0m \u001b[0mlock\u001b[0m\u001b[0;34m:\u001b[0m\u001b[0;34m\u001b[0m\u001b[0;34m\u001b[0m\u001b[0m\n\u001b[1;32m    469\u001b[0m         \u001b[0;32mif\u001b[0m \u001b[0mlen\u001b[0m\u001b[0;34m(\u001b[0m\u001b[0mout\u001b[0m\u001b[0;34m)\u001b[0m \u001b[0;34m==\u001b[0m \u001b[0;36m1\u001b[0m\u001b[0;34m:\u001b[0m\u001b[0;34m\u001b[0m\u001b[0;34m\u001b[0m\u001b[0m\n",
      "\u001b[0;32m~/miniconda3/envs/bs38/lib/python3.8/site-packages/sklearn/tree/_classes.py\u001b[0m in \u001b[0;36mpredict_proba\u001b[0;34m(self, X, check_input)\u001b[0m\n\u001b[1;32m    929\u001b[0m         \u001b[0mcheck_is_fitted\u001b[0m\u001b[0;34m(\u001b[0m\u001b[0mself\u001b[0m\u001b[0;34m)\u001b[0m\u001b[0;34m\u001b[0m\u001b[0;34m\u001b[0m\u001b[0m\n\u001b[1;32m    930\u001b[0m         \u001b[0mX\u001b[0m \u001b[0;34m=\u001b[0m \u001b[0mself\u001b[0m\u001b[0;34m.\u001b[0m\u001b[0m_validate_X_predict\u001b[0m\u001b[0;34m(\u001b[0m\u001b[0mX\u001b[0m\u001b[0;34m,\u001b[0m \u001b[0mcheck_input\u001b[0m\u001b[0;34m)\u001b[0m\u001b[0;34m\u001b[0m\u001b[0;34m\u001b[0m\u001b[0m\n\u001b[0;32m--> 931\u001b[0;31m         \u001b[0mproba\u001b[0m \u001b[0;34m=\u001b[0m \u001b[0mself\u001b[0m\u001b[0;34m.\u001b[0m\u001b[0mtree_\u001b[0m\u001b[0;34m.\u001b[0m\u001b[0mpredict\u001b[0m\u001b[0;34m(\u001b[0m\u001b[0mX\u001b[0m\u001b[0;34m)\u001b[0m\u001b[0;34m\u001b[0m\u001b[0;34m\u001b[0m\u001b[0m\n\u001b[0m\u001b[1;32m    932\u001b[0m \u001b[0;34m\u001b[0m\u001b[0m\n\u001b[1;32m    933\u001b[0m         \u001b[0;32mif\u001b[0m \u001b[0mself\u001b[0m\u001b[0;34m.\u001b[0m\u001b[0mn_outputs_\u001b[0m \u001b[0;34m==\u001b[0m \u001b[0;36m1\u001b[0m\u001b[0;34m:\u001b[0m\u001b[0;34m\u001b[0m\u001b[0;34m\u001b[0m\u001b[0m\n",
      "\u001b[0;31mKeyboardInterrupt\u001b[0m: "
     ]
    }
   ],
   "source": [
    "# GridSearch\n",
    "from sklearn.model_selection import GridSearchCV\n",
    "\n",
    "grid1 = {'n_estimators' : [10, 100, 200, 500, 1000, 1200, 1500, 2000, 2200, 2500],\n",
    "       'max_depth' : [None, 5, 10, 20, 30, 50, 70, 100],\n",
    "       'max_features' : ['auto', 'sqrt'],\n",
    "       'min_samples_split' : [2, 4, 6, 8, 10],\n",
    "       'min_samples_leaf' : [1, 2, 4],\n",
    "       'bootstrap' : [True, False]}\n",
    "\n",
    "clf = RandomForestClassifier(n_jobs=1)\n",
    "\n",
    "gd_clf = GridSearchCV(estimator = clf,\n",
    "                     param_grid = grid1,\n",
    "                     cv=2)\n",
    "\n",
    "gd_clf.fit(x_upsam, y_upsam)\n"
   ]
  },
  {
   "cell_type": "code",
   "execution_count": null,
   "metadata": {},
   "outputs": [],
   "source": [
    "gd_clf.best_paras_"
   ]
  },
  {
   "cell_type": "code",
   "execution_count": null,
   "metadata": {},
   "outputs": [],
   "source": [
    "# Make predictions with the best hyperparamters\n",
    "gd_y_pred = gd_clf.predict(x_test)\n",
    "\n",
    "print('confusion matrix')\n",
    "print(metrics.confusion_matrix(y_test, gd_y_pred))\n",
    "print(metrics.classification_report(y_test, gd_y_pred))\n",
    "print('Accuracy {}'.format(metrics.accuracy_score(y_test, gd_y_pred)) )\n",
    "print('Area under the curve {}'.format(metrics.roc_auc_score(y_test, gd_y_pred)))"
   ]
  },
  {
   "cell_type": "code",
   "execution_count": null,
   "metadata": {},
   "outputs": [],
   "source": []
  },
  {
   "cell_type": "code",
   "execution_count": null,
   "metadata": {},
   "outputs": [],
   "source": []
  },
  {
   "cell_type": "code",
   "execution_count": null,
   "metadata": {},
   "outputs": [],
   "source": []
  },
  {
   "cell_type": "code",
   "execution_count": null,
   "metadata": {},
   "outputs": [],
   "source": []
  },
  {
   "cell_type": "markdown",
   "metadata": {},
   "source": [
    "# Cross validation"
   ]
  },
  {
   "cell_type": "code",
   "execution_count": null,
   "metadata": {},
   "outputs": [],
   "source": []
  },
  {
   "cell_type": "code",
   "execution_count": 48,
   "metadata": {},
   "outputs": [],
   "source": [
    "# To divide data into train, valild and test\n",
    "np.random.seed(42)\n",
    "\n",
    "#Split the data into train, validation & test sets\n",
    "train_split = round(0.7 * len(Fin_data)) # 70% of data\n",
    "valid_split = round(train_split + 0.15*len(Fin_data)) # 15% of data\n",
    "\n",
    "X_train, Y_train = X[:train_split], Y[:train_split]\n",
    "X_valid, Y_valid = X[train_split:valid_split], Y[train_split:valid_split]\n",
    "X_test, Y_test = X[valid_split:], Y[valid_split]\n",
    "\n",
    "# Fit the model\n",
    "clf = "
   ]
  },
  {
   "cell_type": "code",
   "execution_count": 50,
   "metadata": {},
   "outputs": [],
   "source": [
    "# To get the same split each time\n",
    "kf = KFold(n_splits=5, shuffle=False)"
   ]
  },
  {
   "cell_type": "code",
   "execution_count": 51,
   "metadata": {},
   "outputs": [
    {
     "data": {
      "text/plain": [
       "array([0., 0., 0., 0., 0.])"
      ]
     },
     "execution_count": 51,
     "metadata": {},
     "output_type": "execute_result"
    }
   ],
   "source": [
    "x_train, x_test, y_train, y_test = train_test_split(X, Y, random_state=42)\n",
    "\n",
    "rf = RandomForestClassifier(random_state=42)\n",
    "\n",
    "cross_val_score(rf, x_train, y_train, cv=kf, scoring='recall')"
   ]
  },
  {
   "cell_type": "code",
   "execution_count": 58,
   "metadata": {},
   "outputs": [],
   "source": [
    "params = {'n_estimators' : [500, 1000, 2000],\n",
    "         #'max_dept' : [4, 65, 10, 12],\n",
    "         'random_state' :[42]}\n",
    "\n",
    "grid1 = {'n_estimators' : [10, 100, 200, 500, 1000, 1200, 1500, 2000, 2200, 2500],\n",
    "       'max_depth' : [None, 5, 10, 20, 30, 50, 70, 100],\n",
    "       'max_features' : ['auto', 'sqrt'],\n",
    "       'min_samples_split' : [2, 4, 6, 8, 10],\n",
    "       'min_samples_leaf' : [1, 2, 4],\n",
    "       'bootstrap' : [True, False]}\n",
    "\n",
    "grid_no_up = GridSearchCV(rf, param_grid=params, cv=kf, scoring='recall').fit(x_train, y_train)"
   ]
  },
  {
   "cell_type": "code",
   "execution_count": 54,
   "metadata": {},
   "outputs": [
    {
     "data": {
      "text/plain": [
       "0.0"
      ]
     },
     "execution_count": 54,
     "metadata": {},
     "output_type": "execute_result"
    }
   ],
   "source": [
    "grid_no_up.best_score_"
   ]
  },
  {
   "cell_type": "code",
   "execution_count": 55,
   "metadata": {},
   "outputs": [
    {
     "data": {
      "text/plain": [
       "array([[2198,    0],\n",
       "       [  24,    0]])"
      ]
     },
     "execution_count": 55,
     "metadata": {},
     "output_type": "execute_result"
    }
   ],
   "source": [
    "y_pred = grid_no_up.predict(x_test)\n",
    "confusion_matrix(y_test, y_pred)\n"
   ]
  },
  {
   "cell_type": "markdown",
   "metadata": {},
   "source": [
    "## oversample"
   ]
  },
  {
   "cell_type": "code",
   "execution_count": 56,
   "metadata": {},
   "outputs": [],
   "source": [
    "x_train_up, y_train_up = SMOTE(random_state=42).fit_sample(x_train, y_train)"
   ]
  },
  {
   "cell_type": "code",
   "execution_count": null,
   "metadata": {},
   "outputs": [],
   "source": [
    "y_pred_up = grid_naive_up.predict(x_test)\n",
    "\n",
    "print(confusion_matrix(y_test, y_pred_up))\n",
    "print(classification_report(y_test, y_pred_up))"
   ]
  },
  {
   "cell_type": "code",
   "execution_count": 70,
   "metadata": {},
   "outputs": [
    {
     "data": {
      "text/plain": [
       "0.0    6613\n",
       "1.0    6613\n",
       "Name: rain, dtype: int64"
      ]
     },
     "execution_count": 70,
     "metadata": {},
     "output_type": "execute_result"
    }
   ],
   "source": [
    "y_train_up.value_counts()"
   ]
  },
  {
   "cell_type": "code",
   "execution_count": 71,
   "metadata": {},
   "outputs": [
    {
     "data": {
      "text/plain": [
       "0.0    6613\n",
       "1.0      52\n",
       "Name: rain, dtype: int64"
      ]
     },
     "execution_count": 71,
     "metadata": {},
     "output_type": "execute_result"
    }
   ],
   "source": [
    "y_train.value_counts()"
   ]
  },
  {
   "cell_type": "markdown",
   "metadata": {},
   "source": [
    "# SelfPacedEnsemble"
   ]
  },
  {
   "cell_type": "code",
   "execution_count": null,
   "metadata": {},
   "outputs": [],
   "source": []
  }
 ],
 "metadata": {
  "kernelspec": {
   "display_name": "bs38",
   "language": "python",
   "name": "bs38"
  },
  "language_info": {
   "codemirror_mode": {
    "name": "ipython",
    "version": 3
   },
   "file_extension": ".py",
   "mimetype": "text/x-python",
   "name": "python",
   "nbconvert_exporter": "python",
   "pygments_lexer": "ipython3",
   "version": "3.8.6"
  },
  "toc": {
   "base_numbering": 1,
   "nav_menu": {},
   "number_sections": true,
   "sideBar": true,
   "skip_h1_title": false,
   "title_cell": "Table of Contents",
   "title_sidebar": "Contents",
   "toc_cell": false,
   "toc_position": {
    "height": "calc(100% - 180px)",
    "left": "10px",
    "top": "150px",
    "width": "384px"
   },
   "toc_section_display": true,
   "toc_window_display": true
  },
  "toc-autonumbering": true,
  "toc-showcode": false,
  "toc-showmarkdowntxt": false
 },
 "nbformat": 4,
 "nbformat_minor": 4
}
